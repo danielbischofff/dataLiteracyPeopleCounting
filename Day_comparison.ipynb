{
 "cells": [
  {
   "cell_type": "markdown",
   "id": "c6eaf9d6-ea8e-4779-9258-6461f59f4b3a",
   "metadata": {},
   "source": [
    "# Day comparison"
   ]
  },
  {
   "cell_type": "code",
   "execution_count": 4,
   "id": "73fd5c1f-c1d7-4930-99ac-68339e8bee8f",
   "metadata": {},
   "outputs": [],
   "source": [
    "import pandas as pd\n",
    "import numpy as np\n",
    "import matplotlib.pyplot as plt\n",
    "import seaborn as sns\n",
    "#import sweetviz as sz\n",
    "import pandas as pd\n",
    "import pandas as pd\n",
    "#from scapy.all import rdpcap\n",
    "#from tueplots import bundles\n",
    "#from tueplots.constants.color import rgb\n",
    "from matplotlib.colors import LinearSegmentedColormap\n",
    "#import chardet\n",
    "import binascii\n",
    "import os\n",
    "import csv"
   ]
  },
  {
   "cell_type": "code",
   "execution_count": 9,
   "id": "c2b38a5d-dd58-46d4-99ed-6965eb009eb6",
   "metadata": {},
   "outputs": [
    {
     "name": "stderr",
     "output_type": "stream",
     "text": [
      "C:\\Users\\mihai\\AppData\\Local\\Temp\\ipykernel_7696\\4006711908.py:3: DtypeWarning: Columns (6) have mixed types. Specify dtype option on import or set low_memory=False.\n",
      "  df=pd.read_csv('C:/Users/mihai/Documents/Faculta/Data Literacy/Mensa Project/csv_data/tuesday090124.csv')\n"
     ]
    },
    {
     "ename": "AttributeError",
     "evalue": "'list' object has no attribute 'to_csv'",
     "output_type": "error",
     "traceback": [
      "\u001b[1;31m---------------------------------------------------------------------------\u001b[0m",
      "\u001b[1;31mAttributeError\u001b[0m                            Traceback (most recent call last)",
      "Cell \u001b[1;32mIn[9], line 18\u001b[0m\n\u001b[0;32m     14\u001b[0m filename \u001b[38;5;241m=\u001b[39m \u001b[38;5;124m\"\u001b[39m\u001b[38;5;124mTu_unique.csv\u001b[39m\u001b[38;5;124m\"\u001b[39m\n\u001b[0;32m     17\u001b[0m \u001b[38;5;66;03m# Write the selected data to the CSV file\u001b[39;00m\n\u001b[1;32m---> 18\u001b[0m \u001b[43mselected_columns\u001b[49m\u001b[38;5;241;43m.\u001b[39;49m\u001b[43mto_csv\u001b[49m(filename, index\u001b[38;5;241m=\u001b[39m\u001b[38;5;28;01mFalse\u001b[39;00m)\n",
      "\u001b[1;31mAttributeError\u001b[0m: 'list' object has no attribute 'to_csv'"
     ]
    }
   ],
   "source": [
    "# read them separately bcs they are huge and I get a memory overload\n",
    "df_Mo=pd.read_csv('C:/Users/mihai/Documents/Faculta/Data Literacy/Mensa Project/csv_data/monday080124.csv')"
   ]
  },
  {
   "cell_type": "code",
   "execution_count": null,
   "id": "16d961a9-4579-4018-95e8-06e22b84a0ad",
   "metadata": {},
   "outputs": [],
   "source": [
    "df_Tu=pd.read_csv('C:/Users/mihai/Documents/Faculta/Data Literacy/Mensa Project/csv_data/tuesday090124.csv')"
   ]
  },
  {
   "cell_type": "code",
   "execution_count": null,
   "id": "5c472ab7-f140-4814-9413-324d43c0ddb3",
   "metadata": {},
   "outputs": [],
   "source": [
    "df_We=pd.read_csv('C:/Users/mihai/Documents/Faculta/Data Literacy/Mensa Project/csv_data/wednesday100124.csv')"
   ]
  },
  {
   "cell_type": "code",
   "execution_count": null,
   "id": "6a762b47-597f-4a1f-a6ec-3c937d4cf14e",
   "metadata": {},
   "outputs": [],
   "source": [
    "df_Th=pd.read_csv('C:/Users/mihai/Documents/Faculta/Data Literacy/Mensa Project/csv_data/Thursday110124.csv')"
   ]
  },
  {
   "cell_type": "code",
   "execution_count": null,
   "id": "b4cc9de2-14cb-4c4f-9b06-72ddf8402ff5",
   "metadata": {},
   "outputs": [],
   "source": [
    "df_Fr=pd.read_csv('C:/Users/mihai/Documents/Faculta/Data Literacy/Mensa Project/csv_data/Friday120124.csv')\n",
    "df_all = [df_Mo, df_Tu, df_We, df_Th, df_Fr]"
   ]
  },
  {
   "cell_type": "code",
   "execution_count": 2,
   "id": "863e18e3-f141-4b10-8093-dff852812421",
   "metadata": {},
   "outputs": [],
   "source": [
    "def str_to_hex(input_str):\n",
    "    hex_str = binascii.hexlify(input_str.encode('latin-1')).decode()\n",
    "    return hex_str"
   ]
  },
  {
   "cell_type": "code",
   "execution_count": 107,
   "id": "9d05dc18-8ff7-4a78-9299-516f1c2771b5",
   "metadata": {},
   "outputs": [
    {
     "data": {
      "text/plain": [
       "'656475726f616d'"
      ]
     },
     "execution_count": 107,
     "metadata": {},
     "output_type": "execute_result"
    }
   ],
   "source": [
    "str_to_hex(\"eduroam\")"
   ]
  },
  {
   "cell_type": "code",
   "execution_count": 108,
   "id": "dd0b57f0-2bd1-4b4c-9773-2f12672e8d4c",
   "metadata": {},
   "outputs": [
    {
     "data": {
      "text/plain": [
       "'55546775657374'"
      ]
     },
     "execution_count": 108,
     "metadata": {},
     "output_type": "execute_result"
    }
   ],
   "source": [
    "str_to_hex(\"UTguest\")"
   ]
  },
  {
   "cell_type": "code",
   "execution_count": 109,
   "id": "431f1d2f-b35a-4ff7-8ab8-e787d329965b",
   "metadata": {},
   "outputs": [
    {
     "data": {
      "text/plain": [
       "'4775657374'"
      ]
     },
     "execution_count": 109,
     "metadata": {},
     "output_type": "execute_result"
    }
   ],
   "source": [
    "str_to_hex(\"Guest\")"
   ]
  },
  {
   "cell_type": "code",
   "execution_count": 3,
   "id": "847847c7-4201-4f81-846a-269b3106cd97",
   "metadata": {},
   "outputs": [
    {
     "data": {
      "text/plain": [
       "'3c4d495353494e473e'"
      ]
     },
     "execution_count": 3,
     "metadata": {},
     "output_type": "execute_result"
    }
   ],
   "source": [
    "str_to_hex(\"<MISSING>\")"
   ]
  },
  {
   "cell_type": "code",
   "execution_count": 7,
   "id": "5279ddf9-46fb-4b72-af58-3dc499b8ec22",
   "metadata": {},
   "outputs": [
    {
     "name": "stderr",
     "output_type": "stream",
     "text": [
      "C:\\Users\\mihai\\AppData\\Local\\Temp\\ipykernel_20524\\673582243.py:7: SettingWithCopyWarning: \n",
      "A value is trying to be set on a copy of a slice from a DataFrame.\n",
      "Try using .loc[row_indexer,col_indexer] = value instead\n",
      "\n",
      "See the caveats in the documentation: https://pandas.pydata.org/pandas-docs/stable/user_guide/indexing.html#returning-a-view-versus-a-copy\n",
      "  df[\"frame.time\"] = df[\"frame.time\"].str.replace(r':\\d+\\.\\d+', '', regex=True)\n",
      "C:\\Users\\mihai\\AppData\\Local\\Temp\\ipykernel_20524\\673582243.py:8: SettingWithCopyWarning: \n",
      "A value is trying to be set on a copy of a slice from a DataFrame.\n",
      "Try using .loc[row_indexer,col_indexer] = value instead\n",
      "\n",
      "See the caveats in the documentation: https://pandas.pydata.org/pandas-docs/stable/user_guide/indexing.html#returning-a-view-versus-a-copy\n",
      "  df['frame.time'] = df['frame.time'].str.replace('Mitteleuropäische Zeit', 'CET')\n",
      "C:\\Users\\mihai\\AppData\\Local\\Temp\\ipykernel_20524\\673582243.py:9: SettingWithCopyWarning: \n",
      "A value is trying to be set on a copy of a slice from a DataFrame.\n",
      "Try using .loc[row_indexer,col_indexer] = value instead\n",
      "\n",
      "See the caveats in the documentation: https://pandas.pydata.org/pandas-docs/stable/user_guide/indexing.html#returning-a-view-versus-a-copy\n",
      "  df['date-time'] = pd.to_datetime(df['frame.time'].str.strip(), format='%b %d, %Y %H:%M %Z', errors='coerce')\n",
      "C:\\Users\\mihai\\AppData\\Local\\Temp\\ipykernel_20524\\673582243.py:10: SettingWithCopyWarning: \n",
      "A value is trying to be set on a copy of a slice from a DataFrame.\n",
      "Try using .loc[row_indexer,col_indexer] = value instead\n",
      "\n",
      "See the caveats in the documentation: https://pandas.pydata.org/pandas-docs/stable/user_guide/indexing.html#returning-a-view-versus-a-copy\n",
      "  df['hour:minute'] = df['date-time'].dt.strftime('%H:%M')\n",
      "C:\\Users\\mihai\\AppData\\Local\\Temp\\ipykernel_20524\\673582243.py:11: SettingWithCopyWarning: \n",
      "A value is trying to be set on a copy of a slice from a DataFrame\n",
      "\n",
      "See the caveats in the documentation: https://pandas.pydata.org/pandas-docs/stable/user_guide/indexing.html#returning-a-view-versus-a-copy\n",
      "  df.dropna(subset=[\"wlan.sa\"], inplace=True)  # Use inplace=True to modify the DataFrame in-place\n",
      "C:\\Users\\mihai\\AppData\\Local\\Temp\\ipykernel_20524\\673582243.py:7: SettingWithCopyWarning: \n",
      "A value is trying to be set on a copy of a slice from a DataFrame.\n",
      "Try using .loc[row_indexer,col_indexer] = value instead\n",
      "\n",
      "See the caveats in the documentation: https://pandas.pydata.org/pandas-docs/stable/user_guide/indexing.html#returning-a-view-versus-a-copy\n",
      "  df[\"frame.time\"] = df[\"frame.time\"].str.replace(r':\\d+\\.\\d+', '', regex=True)\n",
      "C:\\Users\\mihai\\AppData\\Local\\Temp\\ipykernel_20524\\673582243.py:8: SettingWithCopyWarning: \n",
      "A value is trying to be set on a copy of a slice from a DataFrame.\n",
      "Try using .loc[row_indexer,col_indexer] = value instead\n",
      "\n",
      "See the caveats in the documentation: https://pandas.pydata.org/pandas-docs/stable/user_guide/indexing.html#returning-a-view-versus-a-copy\n",
      "  df['frame.time'] = df['frame.time'].str.replace('Mitteleuropäische Zeit', 'CET')\n",
      "C:\\Users\\mihai\\AppData\\Local\\Temp\\ipykernel_20524\\673582243.py:9: SettingWithCopyWarning: \n",
      "A value is trying to be set on a copy of a slice from a DataFrame.\n",
      "Try using .loc[row_indexer,col_indexer] = value instead\n",
      "\n",
      "See the caveats in the documentation: https://pandas.pydata.org/pandas-docs/stable/user_guide/indexing.html#returning-a-view-versus-a-copy\n",
      "  df['date-time'] = pd.to_datetime(df['frame.time'].str.strip(), format='%b %d, %Y %H:%M %Z', errors='coerce')\n",
      "C:\\Users\\mihai\\AppData\\Local\\Temp\\ipykernel_20524\\673582243.py:10: SettingWithCopyWarning: \n",
      "A value is trying to be set on a copy of a slice from a DataFrame.\n",
      "Try using .loc[row_indexer,col_indexer] = value instead\n",
      "\n",
      "See the caveats in the documentation: https://pandas.pydata.org/pandas-docs/stable/user_guide/indexing.html#returning-a-view-versus-a-copy\n",
      "  df['hour:minute'] = df['date-time'].dt.strftime('%H:%M')\n",
      "C:\\Users\\mihai\\AppData\\Local\\Temp\\ipykernel_20524\\673582243.py:11: SettingWithCopyWarning: \n",
      "A value is trying to be set on a copy of a slice from a DataFrame\n",
      "\n",
      "See the caveats in the documentation: https://pandas.pydata.org/pandas-docs/stable/user_guide/indexing.html#returning-a-view-versus-a-copy\n",
      "  df.dropna(subset=[\"wlan.sa\"], inplace=True)  # Use inplace=True to modify the DataFrame in-place\n",
      "C:\\Users\\mihai\\AppData\\Local\\Temp\\ipykernel_20524\\673582243.py:7: SettingWithCopyWarning: \n",
      "A value is trying to be set on a copy of a slice from a DataFrame.\n",
      "Try using .loc[row_indexer,col_indexer] = value instead\n",
      "\n",
      "See the caveats in the documentation: https://pandas.pydata.org/pandas-docs/stable/user_guide/indexing.html#returning-a-view-versus-a-copy\n",
      "  df[\"frame.time\"] = df[\"frame.time\"].str.replace(r':\\d+\\.\\d+', '', regex=True)\n",
      "C:\\Users\\mihai\\AppData\\Local\\Temp\\ipykernel_20524\\673582243.py:8: SettingWithCopyWarning: \n",
      "A value is trying to be set on a copy of a slice from a DataFrame.\n",
      "Try using .loc[row_indexer,col_indexer] = value instead\n",
      "\n",
      "See the caveats in the documentation: https://pandas.pydata.org/pandas-docs/stable/user_guide/indexing.html#returning-a-view-versus-a-copy\n",
      "  df['frame.time'] = df['frame.time'].str.replace('Mitteleuropäische Zeit', 'CET')\n",
      "C:\\Users\\mihai\\AppData\\Local\\Temp\\ipykernel_20524\\673582243.py:9: SettingWithCopyWarning: \n",
      "A value is trying to be set on a copy of a slice from a DataFrame.\n",
      "Try using .loc[row_indexer,col_indexer] = value instead\n",
      "\n",
      "See the caveats in the documentation: https://pandas.pydata.org/pandas-docs/stable/user_guide/indexing.html#returning-a-view-versus-a-copy\n",
      "  df['date-time'] = pd.to_datetime(df['frame.time'].str.strip(), format='%b %d, %Y %H:%M %Z', errors='coerce')\n",
      "C:\\Users\\mihai\\AppData\\Local\\Temp\\ipykernel_20524\\673582243.py:10: SettingWithCopyWarning: \n",
      "A value is trying to be set on a copy of a slice from a DataFrame.\n",
      "Try using .loc[row_indexer,col_indexer] = value instead\n",
      "\n",
      "See the caveats in the documentation: https://pandas.pydata.org/pandas-docs/stable/user_guide/indexing.html#returning-a-view-versus-a-copy\n",
      "  df['hour:minute'] = df['date-time'].dt.strftime('%H:%M')\n",
      "C:\\Users\\mihai\\AppData\\Local\\Temp\\ipykernel_20524\\673582243.py:11: SettingWithCopyWarning: \n",
      "A value is trying to be set on a copy of a slice from a DataFrame\n",
      "\n",
      "See the caveats in the documentation: https://pandas.pydata.org/pandas-docs/stable/user_guide/indexing.html#returning-a-view-versus-a-copy\n",
      "  df.dropna(subset=[\"wlan.sa\"], inplace=True)  # Use inplace=True to modify the DataFrame in-place\n",
      "C:\\Users\\mihai\\AppData\\Local\\Temp\\ipykernel_20524\\673582243.py:7: SettingWithCopyWarning: \n",
      "A value is trying to be set on a copy of a slice from a DataFrame.\n",
      "Try using .loc[row_indexer,col_indexer] = value instead\n",
      "\n",
      "See the caveats in the documentation: https://pandas.pydata.org/pandas-docs/stable/user_guide/indexing.html#returning-a-view-versus-a-copy\n",
      "  df[\"frame.time\"] = df[\"frame.time\"].str.replace(r':\\d+\\.\\d+', '', regex=True)\n",
      "C:\\Users\\mihai\\AppData\\Local\\Temp\\ipykernel_20524\\673582243.py:8: SettingWithCopyWarning: \n",
      "A value is trying to be set on a copy of a slice from a DataFrame.\n",
      "Try using .loc[row_indexer,col_indexer] = value instead\n",
      "\n",
      "See the caveats in the documentation: https://pandas.pydata.org/pandas-docs/stable/user_guide/indexing.html#returning-a-view-versus-a-copy\n",
      "  df['frame.time'] = df['frame.time'].str.replace('Mitteleuropäische Zeit', 'CET')\n",
      "C:\\Users\\mihai\\AppData\\Local\\Temp\\ipykernel_20524\\673582243.py:9: SettingWithCopyWarning: \n",
      "A value is trying to be set on a copy of a slice from a DataFrame.\n",
      "Try using .loc[row_indexer,col_indexer] = value instead\n",
      "\n",
      "See the caveats in the documentation: https://pandas.pydata.org/pandas-docs/stable/user_guide/indexing.html#returning-a-view-versus-a-copy\n",
      "  df['date-time'] = pd.to_datetime(df['frame.time'].str.strip(), format='%b %d, %Y %H:%M %Z', errors='coerce')\n",
      "C:\\Users\\mihai\\AppData\\Local\\Temp\\ipykernel_20524\\673582243.py:10: SettingWithCopyWarning: \n",
      "A value is trying to be set on a copy of a slice from a DataFrame.\n",
      "Try using .loc[row_indexer,col_indexer] = value instead\n",
      "\n",
      "See the caveats in the documentation: https://pandas.pydata.org/pandas-docs/stable/user_guide/indexing.html#returning-a-view-versus-a-copy\n",
      "  df['hour:minute'] = df['date-time'].dt.strftime('%H:%M')\n",
      "C:\\Users\\mihai\\AppData\\Local\\Temp\\ipykernel_20524\\673582243.py:11: SettingWithCopyWarning: \n",
      "A value is trying to be set on a copy of a slice from a DataFrame\n",
      "\n",
      "See the caveats in the documentation: https://pandas.pydata.org/pandas-docs/stable/user_guide/indexing.html#returning-a-view-versus-a-copy\n",
      "  df.dropna(subset=[\"wlan.sa\"], inplace=True)  # Use inplace=True to modify the DataFrame in-place\n",
      "C:\\Users\\mihai\\AppData\\Local\\Temp\\ipykernel_20524\\673582243.py:7: SettingWithCopyWarning: \n",
      "A value is trying to be set on a copy of a slice from a DataFrame.\n",
      "Try using .loc[row_indexer,col_indexer] = value instead\n",
      "\n",
      "See the caveats in the documentation: https://pandas.pydata.org/pandas-docs/stable/user_guide/indexing.html#returning-a-view-versus-a-copy\n",
      "  df[\"frame.time\"] = df[\"frame.time\"].str.replace(r':\\d+\\.\\d+', '', regex=True)\n",
      "C:\\Users\\mihai\\AppData\\Local\\Temp\\ipykernel_20524\\673582243.py:8: SettingWithCopyWarning: \n",
      "A value is trying to be set on a copy of a slice from a DataFrame.\n",
      "Try using .loc[row_indexer,col_indexer] = value instead\n",
      "\n",
      "See the caveats in the documentation: https://pandas.pydata.org/pandas-docs/stable/user_guide/indexing.html#returning-a-view-versus-a-copy\n",
      "  df['frame.time'] = df['frame.time'].str.replace('Mitteleuropäische Zeit', 'CET')\n",
      "C:\\Users\\mihai\\AppData\\Local\\Temp\\ipykernel_20524\\673582243.py:9: SettingWithCopyWarning: \n",
      "A value is trying to be set on a copy of a slice from a DataFrame.\n",
      "Try using .loc[row_indexer,col_indexer] = value instead\n",
      "\n",
      "See the caveats in the documentation: https://pandas.pydata.org/pandas-docs/stable/user_guide/indexing.html#returning-a-view-versus-a-copy\n",
      "  df['date-time'] = pd.to_datetime(df['frame.time'].str.strip(), format='%b %d, %Y %H:%M %Z', errors='coerce')\n",
      "C:\\Users\\mihai\\AppData\\Local\\Temp\\ipykernel_20524\\673582243.py:10: SettingWithCopyWarning: \n",
      "A value is trying to be set on a copy of a slice from a DataFrame.\n",
      "Try using .loc[row_indexer,col_indexer] = value instead\n",
      "\n",
      "See the caveats in the documentation: https://pandas.pydata.org/pandas-docs/stable/user_guide/indexing.html#returning-a-view-versus-a-copy\n",
      "  df['hour:minute'] = df['date-time'].dt.strftime('%H:%M')\n",
      "C:\\Users\\mihai\\AppData\\Local\\Temp\\ipykernel_20524\\673582243.py:11: SettingWithCopyWarning: \n",
      "A value is trying to be set on a copy of a slice from a DataFrame\n",
      "\n",
      "See the caveats in the documentation: https://pandas.pydata.org/pandas-docs/stable/user_guide/indexing.html#returning-a-view-versus-a-copy\n",
      "  df.dropna(subset=[\"wlan.sa\"], inplace=True)  # Use inplace=True to modify the DataFrame in-place\n"
     ]
    }
   ],
   "source": [
    "sum_src = []\n",
    "sum_dest = []\n",
    "sum_src_dest_all = []\n",
    "#df_missing = []\n",
    "\n",
    "for i, df in enumerate(df_all):\n",
    "    df = df[(df[\"wlan.ssid\"] == \"656475726f616d\")|( df[\"wlan.ssid\"] == \"55546775657374\" )|( df[\"wlan.ssid\"] == \"4775657374\")] #select all 3 uni networks\n",
    "    #df_missing = df[df[\"wlan.ssid\"] == '3c4d495353494e473e']\n",
    "    \n",
    "    df[\"frame.time\"] = df[\"frame.time\"].str.replace(r':\\d+\\.\\d+', '', regex=True)\n",
    "    df['frame.time'] = df['frame.time'].str.replace('Mitteleuropäische Zeit', 'CET')\n",
    "    df['date-time'] = pd.to_datetime(df['frame.time'].str.strip(), format='%b %d, %Y %H:%M %Z', errors='coerce')\n",
    "    df['hour:minute'] = df['date-time'].dt.strftime('%H:%M')\n",
    "    df.dropna(subset=[\"wlan.sa\"], inplace=True)  # Use inplace=True to modify the DataFrame in-place\n",
    "\n",
    "    temp_src = df.groupby('hour:minute')['wlan.sa'].nunique()\n",
    "    temp_dest = df.groupby('hour:minute')['wlan.da'].nunique()\n",
    "    temp_sum = temp_src + temp_dest\n",
    "    \n",
    "    sum_src.append(temp_src)\n",
    "    sum_dest.append(temp_src)\n",
    "    sum_src_dest_all.append(temp_sum)"
   ]
  },
  {
   "cell_type": "code",
   "execution_count": 8,
   "id": "ff89b584-4878-4f23-93c1-6ee489026fb6",
   "metadata": {},
   "outputs": [
    {
     "ename": "TypeError",
     "evalue": "can't multiply sequence by non-int of type 'float'",
     "output_type": "error",
     "traceback": [
      "\u001b[1;31m---------------------------------------------------------------------------\u001b[0m",
      "\u001b[1;31mTypeError\u001b[0m                                 Traceback (most recent call last)",
      "Cell \u001b[1;32mIn [8], line 1\u001b[0m\n\u001b[1;32m----> 1\u001b[0m sum_plus_10 \u001b[38;5;241m=\u001b[39m \u001b[43msum_src_dest_all\u001b[49m\u001b[43m \u001b[49m\u001b[38;5;241;43m*\u001b[39;49m\u001b[43m \u001b[49m\u001b[38;5;241;43m1.1\u001b[39;49m\n",
      "\u001b[1;31mTypeError\u001b[0m: can't multiply sequence by non-int of type 'float'"
     ]
    }
   ],
   "source": [
    "\n",
    "sum_plus_10 = sum_src_dest_all * 1.1"
   ]
  },
  {
   "cell_type": "code",
   "execution_count": null,
   "id": "a1ea05eb-ddff-47ee-8ec2-e47297fb94a8",
   "metadata": {},
   "outputs": [],
   "source": [
    "\n",
    "# Create a 5x2 grid of plots\n",
    "fig, axes = plt.subplots(5, 2, figsize=(12, 16))\n",
    "\n",
    "for i, df in enumerate(df_all):\n",
    "    # Plot source on the left\n",
    "    axes[i, 0].plot(sum_src[i], label='Source MAC')\n",
    "    axes[i, 0].plot(sum_dest[i], label='Destination MAC')\n",
    "    axes[i, 0].set_title(f'Day {i+1} - Source and Destination separately')\n",
    "    \n",
    "    # Plot sum_sa_da on the right\n",
    "    axes[i, 1].plot(sum_src_dest_all[i], label='Sum Src and Dest MAC')\n",
    "    axes[i, 1].plot(sum_plus_10[i], label='Scaled Sum Src and Dest')\n",
    "\n",
    "    axes[i, 1].set_title(f'Day {i+1} - Sum Src and Dest + Scaling')\n",
    "    \n",
    "    # Add x-axis ticks and labels\n",
    "    interval_minutes = 15\n",
    "    tick_positions = np.arange(0, len(df.index), interval_minutes)\n",
    "    axes[i, 0].set_xticks(tick_positions)\n",
    "    axes[i, 0].set_xticklabels([sum_src.index[i] for i in tick_positions], rotation=45)\n",
    "    axes[i, 1].set_xticks(tick_positions)\n",
    "    axes[i, 1].set_xticklabels([sum_src.index[i] for i in tick_positions], rotation=45)\n",
    "    \n",
    "    # Add y-axis ticks\n",
    "    axes[i, 0].set_yticks(range(0, 600, 50))\n",
    "    axes[i, 1].set_yticks(range(0, 600, 50))\n",
    "    \n",
    "    # Add legend to the right subplot\n",
    "    legend = axes[i, 1].legend(fontsize='small', loc='upper left', bbox_to_anchor=(1, 1))\n",
    "\n",
    "# Adjust layout and display the plot\n",
    "plt.tight_layout()\n",
    "plt.show()"
   ]
  },
  {
   "cell_type": "code",
   "execution_count": null,
   "id": "46aa7ede-da39-4984-90b7-f34ed9fec3c9",
   "metadata": {},
   "outputs": [],
   "source": [
    "# for df in df_all:\n",
    "#     plt.plot(source, label='source MAC') # only max of 175\n",
    "#     plt.plot(sum_sa_da_eduroam, label='sum source and dest only eduroam')\n",
    "#     plt.plot(sum_sa_da, label='sum src and dest all 3')\n",
    "#     plt.plot(sum_sa_da * 1.1, label = 'sum src and dest all 3 + 10%')\n",
    "#     interval_minutes = 15\n",
    "#     tick_positions = np.arange(0, len(sum_sa_da.index), interval_minutes)\n",
    "#     plt.xticks(tick_positions, [sum_sa_da.index[i] for i in tick_positions], rotation=45)\n",
    "#     plt.yticks(range(0,600,50))\n",
    "#     plt.title('Count unique macs / minute')\n",
    "#     legend = plt.legend(fontsize='small', loc='upper left', bbox_to_anchor=(1, 1))\n",
    "#     plt.show()\n",
    "#     #plt.xticks(unique_mac_per_min['date-time'].index)"
   ]
  }
 ],
 "metadata": {
  "kernelspec": {
   "display_name": "Python 3 (ipykernel)",
   "language": "python",
   "name": "python3"
  },
  "language_info": {
   "codemirror_mode": {
    "name": "ipython",
    "version": 3
   },
   "file_extension": ".py",
   "mimetype": "text/x-python",
   "name": "python",
   "nbconvert_exporter": "python",
   "pygments_lexer": "ipython3",
   "version": "3.10.13"
  }
 },
 "nbformat": 4,
 "nbformat_minor": 5
}
