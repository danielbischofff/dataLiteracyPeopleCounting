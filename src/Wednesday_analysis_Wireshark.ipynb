{
 "cells": [
  {
   "cell_type": "code",
   "execution_count": 1,
   "metadata": {
    "ExecuteTime": {
     "end_time": "2024-01-18T10:19:08.879014800Z",
     "start_time": "2024-01-18T10:19:08.320383Z"
    }
   },
   "outputs": [
    {
     "name": "stderr",
     "output_type": "stream",
     "text": [
      "WARNING: Wireshark is installed, but cannot read manuf !\n"
     ]
    }
   ],
   "source": [
    "import pandas as pd\n",
    "import numpy as np\n",
    "import matplotlib.pyplot as plt\n",
    "import seaborn as sns\n",
    "import sweetviz as sz\n",
    "import pandas as pd\n",
    "import pandas as pd\n",
    "from scapy.all import rdpcap\n",
    "from tueplots import bundles\n",
    "from tueplots.constants.color import rgb\n",
    "from matplotlib.colors import LinearSegmentedColormap\n",
    "import chardet\n"
   ]
  },
  {
   "cell_type": "code",
   "execution_count": 6,
   "metadata": {
    "ExecuteTime": {
     "end_time": "2024-01-18T10:26:14.905535700Z",
     "start_time": "2024-01-18T10:26:00.813427300Z"
    }
   },
   "outputs": [
    {
     "data": {
      "text/plain": "               No.                        Time             Source  \\\n0                1  2024-01-10 09:01:07,758711  00:f6:63:81:c8:6b   \n1                2  2024-01-10 09:01:07,784807                NaN   \n2                3  2024-01-10 09:01:07,794917  50:ed:3c:13:d7:4d   \n3                4  2024-01-10 09:01:07,795010                NaN   \n4                5  2024-01-10 09:01:07,795542  00:f6:63:81:c8:6e   \n...            ...                         ...                ...   \n15338369  15338370  2024-01-10 11:59:52,317226                NaN   \n15338370  15338371  2024-01-10 11:59:52,317274                NaN   \n15338371  15338372  2024-01-10 11:59:52,317323                NaN   \n15338372  15338373  2024-01-10 11:59:52,317375                NaN   \n15338373  15338374  2024-01-10 11:59:52,321428                NaN   \n\n                Destination Protocol  Length       SSID  \n0         ff:ff:ff:ff:ff:ff   802.11     298  \"UTguest\"  \n1                       NaN   802.11      39        NaN  \n2         00:f6:63:81:c8:6f   802.11      43        NaN  \n3                       NaN   802.11      29        NaN  \n4         ff:ff:ff:ff:ff:ff   802.11     286    \"Guest\"  \n...                     ...      ...     ...        ...  \n15338369                NaN   802.11      35        NaN  \n15338370                NaN   802.11      29        NaN  \n15338371                NaN   802.11      33        NaN  \n15338372                NaN   802.11      47        NaN  \n15338373                NaN   802.11      60        NaN  \n\n[15338374 rows x 7 columns]",
      "text/html": "<div>\n<style scoped>\n    .dataframe tbody tr th:only-of-type {\n        vertical-align: middle;\n    }\n\n    .dataframe tbody tr th {\n        vertical-align: top;\n    }\n\n    .dataframe thead th {\n        text-align: right;\n    }\n</style>\n<table border=\"1\" class=\"dataframe\">\n  <thead>\n    <tr style=\"text-align: right;\">\n      <th></th>\n      <th>No.</th>\n      <th>Time</th>\n      <th>Source</th>\n      <th>Destination</th>\n      <th>Protocol</th>\n      <th>Length</th>\n      <th>SSID</th>\n    </tr>\n  </thead>\n  <tbody>\n    <tr>\n      <th>0</th>\n      <td>1</td>\n      <td>2024-01-10 09:01:07,758711</td>\n      <td>00:f6:63:81:c8:6b</td>\n      <td>ff:ff:ff:ff:ff:ff</td>\n      <td>802.11</td>\n      <td>298</td>\n      <td>\"UTguest\"</td>\n    </tr>\n    <tr>\n      <th>1</th>\n      <td>2</td>\n      <td>2024-01-10 09:01:07,784807</td>\n      <td>NaN</td>\n      <td>NaN</td>\n      <td>802.11</td>\n      <td>39</td>\n      <td>NaN</td>\n    </tr>\n    <tr>\n      <th>2</th>\n      <td>3</td>\n      <td>2024-01-10 09:01:07,794917</td>\n      <td>50:ed:3c:13:d7:4d</td>\n      <td>00:f6:63:81:c8:6f</td>\n      <td>802.11</td>\n      <td>43</td>\n      <td>NaN</td>\n    </tr>\n    <tr>\n      <th>3</th>\n      <td>4</td>\n      <td>2024-01-10 09:01:07,795010</td>\n      <td>NaN</td>\n      <td>NaN</td>\n      <td>802.11</td>\n      <td>29</td>\n      <td>NaN</td>\n    </tr>\n    <tr>\n      <th>4</th>\n      <td>5</td>\n      <td>2024-01-10 09:01:07,795542</td>\n      <td>00:f6:63:81:c8:6e</td>\n      <td>ff:ff:ff:ff:ff:ff</td>\n      <td>802.11</td>\n      <td>286</td>\n      <td>\"Guest\"</td>\n    </tr>\n    <tr>\n      <th>...</th>\n      <td>...</td>\n      <td>...</td>\n      <td>...</td>\n      <td>...</td>\n      <td>...</td>\n      <td>...</td>\n      <td>...</td>\n    </tr>\n    <tr>\n      <th>15338369</th>\n      <td>15338370</td>\n      <td>2024-01-10 11:59:52,317226</td>\n      <td>NaN</td>\n      <td>NaN</td>\n      <td>802.11</td>\n      <td>35</td>\n      <td>NaN</td>\n    </tr>\n    <tr>\n      <th>15338370</th>\n      <td>15338371</td>\n      <td>2024-01-10 11:59:52,317274</td>\n      <td>NaN</td>\n      <td>NaN</td>\n      <td>802.11</td>\n      <td>29</td>\n      <td>NaN</td>\n    </tr>\n    <tr>\n      <th>15338371</th>\n      <td>15338372</td>\n      <td>2024-01-10 11:59:52,317323</td>\n      <td>NaN</td>\n      <td>NaN</td>\n      <td>802.11</td>\n      <td>33</td>\n      <td>NaN</td>\n    </tr>\n    <tr>\n      <th>15338372</th>\n      <td>15338373</td>\n      <td>2024-01-10 11:59:52,317375</td>\n      <td>NaN</td>\n      <td>NaN</td>\n      <td>802.11</td>\n      <td>47</td>\n      <td>NaN</td>\n    </tr>\n    <tr>\n      <th>15338373</th>\n      <td>15338374</td>\n      <td>2024-01-10 11:59:52,321428</td>\n      <td>NaN</td>\n      <td>NaN</td>\n      <td>802.11</td>\n      <td>60</td>\n      <td>NaN</td>\n    </tr>\n  </tbody>\n</table>\n<p>15338374 rows × 7 columns</p>\n</div>"
     },
     "execution_count": 6,
     "metadata": {},
     "output_type": "execute_result"
    }
   ],
   "source": [
    "csv_path = \"C:\\\\Users\\Philipp\\OneDrive - UT Cloud\\Data_literacy_mensa\\Mensa_10-01-24\\csv\\wednesday_wireshark.csv\"\n",
    "\n",
    "# with open(csv_path, 'rb') as f:\n",
    "#    result = chardet.detect(f.read())\n",
    "# \n",
    "# print(result['encoding'])\n",
    "\n",
    "df_all = pd.read_csv(csv_path, encoding='cp1252')\n",
    "\n",
    "df_all"
   ]
  },
  {
   "cell_type": "code",
   "execution_count": 7,
   "metadata": {
    "ExecuteTime": {
     "end_time": "2024-01-18T10:27:05.050517700Z",
     "start_time": "2024-01-18T10:26:34.554816800Z"
    }
   },
   "outputs": [
    {
     "ename": "LinAlgError",
     "evalue": "The data appears to lie in a lower-dimensional subspace of the space in which it is expressed. This has resulted in a singular data covariance matrix, which cannot be treated using the algorithms implemented in `gaussian_kde`. Consider performing principle component analysis / dimensionality reduction and using `gaussian_kde` with the transformed data.",
     "output_type": "error",
     "traceback": [
      "\u001B[1;31m---------------------------------------------------------------------------\u001B[0m",
      "\u001B[1;31mLinAlgError\u001B[0m                               Traceback (most recent call last)",
      "File \u001B[1;32mC:\\Philipp\\Studium\\WS23-24\\Data Literacy\\dataLiteracyPeopleCounting\\lit_env\\lib\\site-packages\\scipy\\stats\\_kde.py:223\u001B[0m, in \u001B[0;36mgaussian_kde.__init__\u001B[1;34m(self, dataset, bw_method, weights)\u001B[0m\n\u001B[0;32m    222\u001B[0m \u001B[38;5;28;01mtry\u001B[39;00m:\n\u001B[1;32m--> 223\u001B[0m     \u001B[38;5;28;43mself\u001B[39;49m\u001B[38;5;241;43m.\u001B[39;49m\u001B[43mset_bandwidth\u001B[49m\u001B[43m(\u001B[49m\u001B[43mbw_method\u001B[49m\u001B[38;5;241;43m=\u001B[39;49m\u001B[43mbw_method\u001B[49m\u001B[43m)\u001B[49m\n\u001B[0;32m    224\u001B[0m \u001B[38;5;28;01mexcept\u001B[39;00m linalg\u001B[38;5;241m.\u001B[39mLinAlgError \u001B[38;5;28;01mas\u001B[39;00m e:\n",
      "File \u001B[1;32mC:\\Philipp\\Studium\\WS23-24\\Data Literacy\\dataLiteracyPeopleCounting\\lit_env\\lib\\site-packages\\scipy\\stats\\_kde.py:571\u001B[0m, in \u001B[0;36mgaussian_kde.set_bandwidth\u001B[1;34m(self, bw_method)\u001B[0m\n\u001B[0;32m    569\u001B[0m     \u001B[38;5;28;01mraise\u001B[39;00m \u001B[38;5;167;01mValueError\u001B[39;00m(msg)\n\u001B[1;32m--> 571\u001B[0m \u001B[38;5;28;43mself\u001B[39;49m\u001B[38;5;241;43m.\u001B[39;49m\u001B[43m_compute_covariance\u001B[49m\u001B[43m(\u001B[49m\u001B[43m)\u001B[49m\n",
      "File \u001B[1;32mC:\\Philipp\\Studium\\WS23-24\\Data Literacy\\dataLiteracyPeopleCounting\\lit_env\\lib\\site-packages\\scipy\\stats\\_kde.py:583\u001B[0m, in \u001B[0;36mgaussian_kde._compute_covariance\u001B[1;34m(self)\u001B[0m\n\u001B[0;32m    580\u001B[0m     \u001B[38;5;28mself\u001B[39m\u001B[38;5;241m.\u001B[39m_data_covariance \u001B[38;5;241m=\u001B[39m atleast_2d(cov(\u001B[38;5;28mself\u001B[39m\u001B[38;5;241m.\u001B[39mdataset, rowvar\u001B[38;5;241m=\u001B[39m\u001B[38;5;241m1\u001B[39m,\n\u001B[0;32m    581\u001B[0m                                        bias\u001B[38;5;241m=\u001B[39m\u001B[38;5;28;01mFalse\u001B[39;00m,\n\u001B[0;32m    582\u001B[0m                                        aweights\u001B[38;5;241m=\u001B[39m\u001B[38;5;28mself\u001B[39m\u001B[38;5;241m.\u001B[39mweights))\n\u001B[1;32m--> 583\u001B[0m     \u001B[38;5;28mself\u001B[39m\u001B[38;5;241m.\u001B[39m_data_cho_cov \u001B[38;5;241m=\u001B[39m \u001B[43mlinalg\u001B[49m\u001B[38;5;241;43m.\u001B[39;49m\u001B[43mcholesky\u001B[49m\u001B[43m(\u001B[49m\u001B[38;5;28;43mself\u001B[39;49m\u001B[38;5;241;43m.\u001B[39;49m\u001B[43m_data_covariance\u001B[49m\u001B[43m,\u001B[49m\n\u001B[0;32m    584\u001B[0m \u001B[43m                                         \u001B[49m\u001B[43mlower\u001B[49m\u001B[38;5;241;43m=\u001B[39;49m\u001B[38;5;28;43;01mTrue\u001B[39;49;00m\u001B[43m)\u001B[49m\n\u001B[0;32m    586\u001B[0m \u001B[38;5;28mself\u001B[39m\u001B[38;5;241m.\u001B[39mcovariance \u001B[38;5;241m=\u001B[39m \u001B[38;5;28mself\u001B[39m\u001B[38;5;241m.\u001B[39m_data_covariance \u001B[38;5;241m*\u001B[39m \u001B[38;5;28mself\u001B[39m\u001B[38;5;241m.\u001B[39mfactor\u001B[38;5;241m*\u001B[39m\u001B[38;5;241m*\u001B[39m\u001B[38;5;241m2\u001B[39m\n",
      "File \u001B[1;32mC:\\Philipp\\Studium\\WS23-24\\Data Literacy\\dataLiteracyPeopleCounting\\lit_env\\lib\\site-packages\\scipy\\linalg\\_decomp_cholesky.py:89\u001B[0m, in \u001B[0;36mcholesky\u001B[1;34m(a, lower, overwrite_a, check_finite)\u001B[0m\n\u001B[0;32m     46\u001B[0m \u001B[38;5;250m\u001B[39m\u001B[38;5;124;03m\"\"\"\u001B[39;00m\n\u001B[0;32m     47\u001B[0m \u001B[38;5;124;03mCompute the Cholesky decomposition of a matrix.\u001B[39;00m\n\u001B[0;32m     48\u001B[0m \n\u001B[1;32m   (...)\u001B[0m\n\u001B[0;32m     87\u001B[0m \n\u001B[0;32m     88\u001B[0m \u001B[38;5;124;03m\"\"\"\u001B[39;00m\n\u001B[1;32m---> 89\u001B[0m c, lower \u001B[38;5;241m=\u001B[39m \u001B[43m_cholesky\u001B[49m\u001B[43m(\u001B[49m\u001B[43ma\u001B[49m\u001B[43m,\u001B[49m\u001B[43m \u001B[49m\u001B[43mlower\u001B[49m\u001B[38;5;241;43m=\u001B[39;49m\u001B[43mlower\u001B[49m\u001B[43m,\u001B[49m\u001B[43m \u001B[49m\u001B[43moverwrite_a\u001B[49m\u001B[38;5;241;43m=\u001B[39;49m\u001B[43moverwrite_a\u001B[49m\u001B[43m,\u001B[49m\u001B[43m \u001B[49m\u001B[43mclean\u001B[49m\u001B[38;5;241;43m=\u001B[39;49m\u001B[38;5;28;43;01mTrue\u001B[39;49;00m\u001B[43m,\u001B[49m\n\u001B[0;32m     90\u001B[0m \u001B[43m                     \u001B[49m\u001B[43mcheck_finite\u001B[49m\u001B[38;5;241;43m=\u001B[39;49m\u001B[43mcheck_finite\u001B[49m\u001B[43m)\u001B[49m\n\u001B[0;32m     91\u001B[0m \u001B[38;5;28;01mreturn\u001B[39;00m c\n",
      "File \u001B[1;32mC:\\Philipp\\Studium\\WS23-24\\Data Literacy\\dataLiteracyPeopleCounting\\lit_env\\lib\\site-packages\\scipy\\linalg\\_decomp_cholesky.py:37\u001B[0m, in \u001B[0;36m_cholesky\u001B[1;34m(a, lower, overwrite_a, clean, check_finite)\u001B[0m\n\u001B[0;32m     36\u001B[0m \u001B[38;5;28;01mif\u001B[39;00m info \u001B[38;5;241m>\u001B[39m \u001B[38;5;241m0\u001B[39m:\n\u001B[1;32m---> 37\u001B[0m     \u001B[38;5;28;01mraise\u001B[39;00m LinAlgError(\u001B[38;5;124m\"\u001B[39m\u001B[38;5;132;01m%d\u001B[39;00m\u001B[38;5;124m-th leading minor of the array is not positive \u001B[39m\u001B[38;5;124m\"\u001B[39m\n\u001B[0;32m     38\u001B[0m                       \u001B[38;5;124m\"\u001B[39m\u001B[38;5;124mdefinite\u001B[39m\u001B[38;5;124m\"\u001B[39m \u001B[38;5;241m%\u001B[39m info)\n\u001B[0;32m     39\u001B[0m \u001B[38;5;28;01mif\u001B[39;00m info \u001B[38;5;241m<\u001B[39m \u001B[38;5;241m0\u001B[39m:\n",
      "\u001B[1;31mLinAlgError\u001B[0m: 1-th leading minor of the array is not positive definite",
      "\nThe above exception was the direct cause of the following exception:\n",
      "\u001B[1;31mLinAlgError\u001B[0m                               Traceback (most recent call last)",
      "Cell \u001B[1;32mIn[7], line 2\u001B[0m\n\u001B[0;32m      1\u001B[0m df_all[\u001B[38;5;124m\"\u001B[39m\u001B[38;5;124mTime\u001B[39m\u001B[38;5;124m\"\u001B[39m] \u001B[38;5;241m=\u001B[39m df_all[\u001B[38;5;124m\"\u001B[39m\u001B[38;5;124mTime\u001B[39m\u001B[38;5;124m\"\u001B[39m]\u001B[38;5;241m.\u001B[39mstr\u001B[38;5;241m.\u001B[39mreplace(\u001B[38;5;124mr\u001B[39m\u001B[38;5;124m'\u001B[39m\u001B[38;5;124m:\u001B[39m\u001B[38;5;124m\\\u001B[39m\u001B[38;5;124md+\u001B[39m\u001B[38;5;124m\\\u001B[39m\u001B[38;5;124m.\u001B[39m\u001B[38;5;124m\\\u001B[39m\u001B[38;5;124md+\u001B[39m\u001B[38;5;124m'\u001B[39m, \u001B[38;5;124m'\u001B[39m\u001B[38;5;124m'\u001B[39m, regex\u001B[38;5;241m=\u001B[39m\u001B[38;5;28;01mTrue\u001B[39;00m)\n\u001B[1;32m----> 2\u001B[0m \u001B[43mdf_all\u001B[49m\u001B[43m[\u001B[49m\u001B[38;5;124;43m\"\u001B[39;49m\u001B[38;5;124;43mTime\u001B[39;49m\u001B[38;5;124;43m\"\u001B[39;49m\u001B[43m]\u001B[49m\u001B[38;5;241;43m.\u001B[39;49m\u001B[43mvalue_counts\u001B[49m\u001B[43m(\u001B[49m\u001B[43m)\u001B[49m\u001B[38;5;241;43m.\u001B[39;49m\u001B[43msort_index\u001B[49m\u001B[43m(\u001B[49m\u001B[43m)\u001B[49m\u001B[38;5;241;43m.\u001B[39;49m\u001B[43mplot\u001B[49m\u001B[43m(\u001B[49m\u001B[43mkind\u001B[49m\u001B[38;5;241;43m=\u001B[39;49m\u001B[38;5;124;43m'\u001B[39;49m\u001B[38;5;124;43mdensity\u001B[39;49m\u001B[38;5;124;43m'\u001B[39;49m\u001B[43m)\u001B[49m\n",
      "File \u001B[1;32mC:\\Philipp\\Studium\\WS23-24\\Data Literacy\\dataLiteracyPeopleCounting\\lit_env\\lib\\site-packages\\pandas\\plotting\\_core.py:1031\u001B[0m, in \u001B[0;36mPlotAccessor.__call__\u001B[1;34m(self, *args, **kwargs)\u001B[0m\n\u001B[0;32m   1028\u001B[0m             label_name \u001B[38;5;241m=\u001B[39m label_kw \u001B[38;5;129;01mor\u001B[39;00m data\u001B[38;5;241m.\u001B[39mcolumns\n\u001B[0;32m   1029\u001B[0m             data\u001B[38;5;241m.\u001B[39mcolumns \u001B[38;5;241m=\u001B[39m label_name\n\u001B[1;32m-> 1031\u001B[0m \u001B[38;5;28;01mreturn\u001B[39;00m plot_backend\u001B[38;5;241m.\u001B[39mplot(data, kind\u001B[38;5;241m=\u001B[39mkind, \u001B[38;5;241m*\u001B[39m\u001B[38;5;241m*\u001B[39mkwargs)\n",
      "File \u001B[1;32mC:\\Philipp\\Studium\\WS23-24\\Data Literacy\\dataLiteracyPeopleCounting\\lit_env\\lib\\site-packages\\pandas\\plotting\\_matplotlib\\__init__.py:71\u001B[0m, in \u001B[0;36mplot\u001B[1;34m(data, kind, **kwargs)\u001B[0m\n\u001B[0;32m     69\u001B[0m         kwargs[\u001B[38;5;124m\"\u001B[39m\u001B[38;5;124max\u001B[39m\u001B[38;5;124m\"\u001B[39m] \u001B[38;5;241m=\u001B[39m \u001B[38;5;28mgetattr\u001B[39m(ax, \u001B[38;5;124m\"\u001B[39m\u001B[38;5;124mleft_ax\u001B[39m\u001B[38;5;124m\"\u001B[39m, ax)\n\u001B[0;32m     70\u001B[0m plot_obj \u001B[38;5;241m=\u001B[39m PLOT_CLASSES[kind](data, \u001B[38;5;241m*\u001B[39m\u001B[38;5;241m*\u001B[39mkwargs)\n\u001B[1;32m---> 71\u001B[0m \u001B[43mplot_obj\u001B[49m\u001B[38;5;241;43m.\u001B[39;49m\u001B[43mgenerate\u001B[49m\u001B[43m(\u001B[49m\u001B[43m)\u001B[49m\n\u001B[0;32m     72\u001B[0m plot_obj\u001B[38;5;241m.\u001B[39mdraw()\n\u001B[0;32m     73\u001B[0m \u001B[38;5;28;01mreturn\u001B[39;00m plot_obj\u001B[38;5;241m.\u001B[39mresult\n",
      "File \u001B[1;32mC:\\Philipp\\Studium\\WS23-24\\Data Literacy\\dataLiteracyPeopleCounting\\lit_env\\lib\\site-packages\\pandas\\plotting\\_matplotlib\\core.py:453\u001B[0m, in \u001B[0;36mMPLPlot.generate\u001B[1;34m(self)\u001B[0m\n\u001B[0;32m    451\u001B[0m \u001B[38;5;28mself\u001B[39m\u001B[38;5;241m.\u001B[39m_compute_plot_data()\n\u001B[0;32m    452\u001B[0m \u001B[38;5;28mself\u001B[39m\u001B[38;5;241m.\u001B[39m_setup_subplots()\n\u001B[1;32m--> 453\u001B[0m \u001B[38;5;28;43mself\u001B[39;49m\u001B[38;5;241;43m.\u001B[39;49m\u001B[43m_make_plot\u001B[49m\u001B[43m(\u001B[49m\u001B[43m)\u001B[49m\n\u001B[0;32m    454\u001B[0m \u001B[38;5;28mself\u001B[39m\u001B[38;5;241m.\u001B[39m_add_table()\n\u001B[0;32m    455\u001B[0m \u001B[38;5;28mself\u001B[39m\u001B[38;5;241m.\u001B[39m_make_legend()\n",
      "File \u001B[1;32mC:\\Philipp\\Studium\\WS23-24\\Data Literacy\\dataLiteracyPeopleCounting\\lit_env\\lib\\site-packages\\pandas\\plotting\\_matplotlib\\hist.py:167\u001B[0m, in \u001B[0;36mHistPlot._make_plot\u001B[1;34m(self)\u001B[0m\n\u001B[0;32m    163\u001B[0m     kwds[\u001B[38;5;124m\"\u001B[39m\u001B[38;5;124mweights\u001B[39m\u001B[38;5;124m\"\u001B[39m] \u001B[38;5;241m=\u001B[39m weights\n\u001B[0;32m    165\u001B[0m y \u001B[38;5;241m=\u001B[39m reformat_hist_y_given_by(y, \u001B[38;5;28mself\u001B[39m\u001B[38;5;241m.\u001B[39mby)\n\u001B[1;32m--> 167\u001B[0m artists \u001B[38;5;241m=\u001B[39m \u001B[38;5;28mself\u001B[39m\u001B[38;5;241m.\u001B[39m_plot(ax, y, column_num\u001B[38;5;241m=\u001B[39mi, stacking_id\u001B[38;5;241m=\u001B[39mstacking_id, \u001B[38;5;241m*\u001B[39m\u001B[38;5;241m*\u001B[39mkwds)\n\u001B[0;32m    169\u001B[0m \u001B[38;5;66;03m# when by is applied, show title for subplots to know which group it is\u001B[39;00m\n\u001B[0;32m    170\u001B[0m \u001B[38;5;28;01mif\u001B[39;00m \u001B[38;5;28mself\u001B[39m\u001B[38;5;241m.\u001B[39mby \u001B[38;5;129;01mis\u001B[39;00m \u001B[38;5;129;01mnot\u001B[39;00m \u001B[38;5;28;01mNone\u001B[39;00m:\n",
      "File \u001B[1;32mC:\\Philipp\\Studium\\WS23-24\\Data Literacy\\dataLiteracyPeopleCounting\\lit_env\\lib\\site-packages\\pandas\\plotting\\_matplotlib\\hist.py:251\u001B[0m, in \u001B[0;36mKdePlot._plot\u001B[1;34m(cls, ax, y, style, bw_method, ind, column_num, stacking_id, **kwds)\u001B[0m\n\u001B[0;32m    248\u001B[0m \u001B[38;5;28;01mfrom\u001B[39;00m \u001B[38;5;21;01mscipy\u001B[39;00m\u001B[38;5;21;01m.\u001B[39;00m\u001B[38;5;21;01mstats\u001B[39;00m \u001B[38;5;28;01mimport\u001B[39;00m gaussian_kde\n\u001B[0;32m    250\u001B[0m y \u001B[38;5;241m=\u001B[39m remove_na_arraylike(y)\n\u001B[1;32m--> 251\u001B[0m gkde \u001B[38;5;241m=\u001B[39m \u001B[43mgaussian_kde\u001B[49m\u001B[43m(\u001B[49m\u001B[43my\u001B[49m\u001B[43m,\u001B[49m\u001B[43m \u001B[49m\u001B[43mbw_method\u001B[49m\u001B[38;5;241;43m=\u001B[39;49m\u001B[43mbw_method\u001B[49m\u001B[43m)\u001B[49m\n\u001B[0;32m    253\u001B[0m y \u001B[38;5;241m=\u001B[39m gkde\u001B[38;5;241m.\u001B[39mevaluate(ind)\n\u001B[0;32m    254\u001B[0m lines \u001B[38;5;241m=\u001B[39m MPLPlot\u001B[38;5;241m.\u001B[39m_plot(ax, ind, y, style\u001B[38;5;241m=\u001B[39mstyle, \u001B[38;5;241m*\u001B[39m\u001B[38;5;241m*\u001B[39mkwds)\n",
      "File \u001B[1;32mC:\\Philipp\\Studium\\WS23-24\\Data Literacy\\dataLiteracyPeopleCounting\\lit_env\\lib\\site-packages\\scipy\\stats\\_kde.py:232\u001B[0m, in \u001B[0;36mgaussian_kde.__init__\u001B[1;34m(self, dataset, bw_method, weights)\u001B[0m\n\u001B[0;32m    224\u001B[0m \u001B[38;5;28;01mexcept\u001B[39;00m linalg\u001B[38;5;241m.\u001B[39mLinAlgError \u001B[38;5;28;01mas\u001B[39;00m e:\n\u001B[0;32m    225\u001B[0m     msg \u001B[38;5;241m=\u001B[39m (\u001B[38;5;124m\"\u001B[39m\u001B[38;5;124mThe data appears to lie in a lower-dimensional subspace \u001B[39m\u001B[38;5;124m\"\u001B[39m\n\u001B[0;32m    226\u001B[0m            \u001B[38;5;124m\"\u001B[39m\u001B[38;5;124mof the space in which it is expressed. This has resulted \u001B[39m\u001B[38;5;124m\"\u001B[39m\n\u001B[0;32m    227\u001B[0m            \u001B[38;5;124m\"\u001B[39m\u001B[38;5;124min a singular data covariance matrix, which cannot be \u001B[39m\u001B[38;5;124m\"\u001B[39m\n\u001B[1;32m   (...)\u001B[0m\n\u001B[0;32m    230\u001B[0m            \u001B[38;5;124m\"\u001B[39m\u001B[38;5;124manalysis / dimensionality reduction and using \u001B[39m\u001B[38;5;124m\"\u001B[39m\n\u001B[0;32m    231\u001B[0m            \u001B[38;5;124m\"\u001B[39m\u001B[38;5;124m`gaussian_kde` with the transformed data.\u001B[39m\u001B[38;5;124m\"\u001B[39m)\n\u001B[1;32m--> 232\u001B[0m     \u001B[38;5;28;01mraise\u001B[39;00m linalg\u001B[38;5;241m.\u001B[39mLinAlgError(msg) \u001B[38;5;28;01mfrom\u001B[39;00m \u001B[38;5;21;01me\u001B[39;00m\n",
      "\u001B[1;31mLinAlgError\u001B[0m: The data appears to lie in a lower-dimensional subspace of the space in which it is expressed. This has resulted in a singular data covariance matrix, which cannot be treated using the algorithms implemented in `gaussian_kde`. Consider performing principle component analysis / dimensionality reduction and using `gaussian_kde` with the transformed data."
     ]
    },
    {
     "data": {
      "text/plain": "<Figure size 640x480 with 1 Axes>",
      "image/png": "[encoded data removed]"
     },
     "metadata": {},
     "output_type": "display_data"
    }
   ],
   "source": [
    "df_all[\"Time\"] = df_all[\"Time\"].str.replace(r':\\d+\\.\\d+', '', regex=True)\n",
    "df_all[\"Time\"].value_counts().sort_index().plot(kind='density')\n"
   ]
  },
  {
   "cell_type": "code",
   "execution_count": 8,
   "metadata": {
    "ExecuteTime": {
     "end_time": "2024-01-18T10:28:47.655876900Z",
     "start_time": "2024-01-18T10:27:19.523056800Z"
    }
   },
   "outputs": [
    {
     "data": {
      "text/plain": "               No.                        Time             Source  \\\n0                1  2024-01-10 09:01:07,758711  00:f6:63:81:c8:6b   \n1                2  2024-01-10 09:01:07,784807                NaN   \n2                3  2024-01-10 09:01:07,794917  50:ed:3c:13:d7:4d   \n3                4  2024-01-10 09:01:07,795010                NaN   \n4                5  2024-01-10 09:01:07,795542  00:f6:63:81:c8:6e   \n...            ...                         ...                ...   \n15338369  15338370  2024-01-10 11:59:52,317226                NaN   \n15338370  15338371  2024-01-10 11:59:52,317274                NaN   \n15338371  15338372  2024-01-10 11:59:52,317323                NaN   \n15338372  15338373  2024-01-10 11:59:52,317375                NaN   \n15338373  15338374  2024-01-10 11:59:52,321428                NaN   \n\n                Destination Protocol  Length       SSID  \\\n0         ff:ff:ff:ff:ff:ff   802.11     298  \"UTguest\"   \n1                       NaN   802.11      39        NaN   \n2         00:f6:63:81:c8:6f   802.11      43        NaN   \n3                       NaN   802.11      29        NaN   \n4         ff:ff:ff:ff:ff:ff   802.11     286    \"Guest\"   \n...                     ...      ...     ...        ...   \n15338369                NaN   802.11      35        NaN   \n15338370                NaN   802.11      29        NaN   \n15338371                NaN   802.11      33        NaN   \n15338372                NaN   802.11      47        NaN   \n15338373                NaN   802.11      60        NaN   \n\n                          date-time hour:minute  \n0        2024-01-10 09:01:07.758711       09:01  \n1        2024-01-10 09:01:07.784807       09:01  \n2        2024-01-10 09:01:07.794917       09:01  \n3        2024-01-10 09:01:07.795010       09:01  \n4        2024-01-10 09:01:07.795542       09:01  \n...                             ...         ...  \n15338369 2024-01-10 11:59:52.317226       11:59  \n15338370 2024-01-10 11:59:52.317274       11:59  \n15338371 2024-01-10 11:59:52.317323       11:59  \n15338372 2024-01-10 11:59:52.317375       11:59  \n15338373 2024-01-10 11:59:52.321428       11:59  \n\n[15338374 rows x 9 columns]",
      "text/html": "<div>\n<style scoped>\n    .dataframe tbody tr th:only-of-type {\n        vertical-align: middle;\n    }\n\n    .dataframe tbody tr th {\n        vertical-align: top;\n    }\n\n    .dataframe thead th {\n        text-align: right;\n    }\n</style>\n<table border=\"1\" class=\"dataframe\">\n  <thead>\n    <tr style=\"text-align: right;\">\n      <th></th>\n      <th>No.</th>\n      <th>Time</th>\n      <th>Source</th>\n      <th>Destination</th>\n      <th>Protocol</th>\n      <th>Length</th>\n      <th>SSID</th>\n      <th>date-time</th>\n      <th>hour:minute</th>\n    </tr>\n  </thead>\n  <tbody>\n    <tr>\n      <th>0</th>\n      <td>1</td>\n      <td>2024-01-10 09:01:07,758711</td>\n      <td>00:f6:63:81:c8:6b</td>\n      <td>ff:ff:ff:ff:ff:ff</td>\n      <td>802.11</td>\n      <td>298</td>\n      <td>\"UTguest\"</td>\n      <td>2024-01-10 09:01:07.758711</td>\n      <td>09:01</td>\n    </tr>\n    <tr>\n      <th>1</th>\n      <td>2</td>\n      <td>2024-01-10 09:01:07,784807</td>\n      <td>NaN</td>\n      <td>NaN</td>\n      <td>802.11</td>\n      <td>39</td>\n      <td>NaN</td>\n      <td>2024-01-10 09:01:07.784807</td>\n      <td>09:01</td>\n    </tr>\n    <tr>\n      <th>2</th>\n      <td>3</td>\n      <td>2024-01-10 09:01:07,794917</td>\n      <td>50:ed:3c:13:d7:4d</td>\n      <td>00:f6:63:81:c8:6f</td>\n      <td>802.11</td>\n      <td>43</td>\n      <td>NaN</td>\n      <td>2024-01-10 09:01:07.794917</td>\n      <td>09:01</td>\n    </tr>\n    <tr>\n      <th>3</th>\n      <td>4</td>\n      <td>2024-01-10 09:01:07,795010</td>\n      <td>NaN</td>\n      <td>NaN</td>\n      <td>802.11</td>\n      <td>29</td>\n      <td>NaN</td>\n      <td>2024-01-10 09:01:07.795010</td>\n      <td>09:01</td>\n    </tr>\n    <tr>\n      <th>4</th>\n      <td>5</td>\n      <td>2024-01-10 09:01:07,795542</td>\n      <td>00:f6:63:81:c8:6e</td>\n      <td>ff:ff:ff:ff:ff:ff</td>\n      <td>802.11</td>\n      <td>286</td>\n      <td>\"Guest\"</td>\n      <td>2024-01-10 09:01:07.795542</td>\n      <td>09:01</td>\n    </tr>\n    <tr>\n      <th>...</th>\n      <td>...</td>\n      <td>...</td>\n      <td>...</td>\n      <td>...</td>\n      <td>...</td>\n      <td>...</td>\n      <td>...</td>\n      <td>...</td>\n      <td>...</td>\n    </tr>\n    <tr>\n      <th>15338369</th>\n      <td>15338370</td>\n      <td>2024-01-10 11:59:52,317226</td>\n      <td>NaN</td>\n      <td>NaN</td>\n      <td>802.11</td>\n      <td>35</td>\n      <td>NaN</td>\n      <td>2024-01-10 11:59:52.317226</td>\n      <td>11:59</td>\n    </tr>\n    <tr>\n      <th>15338370</th>\n      <td>15338371</td>\n      <td>2024-01-10 11:59:52,317274</td>\n      <td>NaN</td>\n      <td>NaN</td>\n      <td>802.11</td>\n      <td>29</td>\n      <td>NaN</td>\n      <td>2024-01-10 11:59:52.317274</td>\n      <td>11:59</td>\n    </tr>\n    <tr>\n      <th>15338371</th>\n      <td>15338372</td>\n      <td>2024-01-10 11:59:52,317323</td>\n      <td>NaN</td>\n      <td>NaN</td>\n      <td>802.11</td>\n      <td>33</td>\n      <td>NaN</td>\n      <td>2024-01-10 11:59:52.317323</td>\n      <td>11:59</td>\n    </tr>\n    <tr>\n      <th>15338372</th>\n      <td>15338373</td>\n      <td>2024-01-10 11:59:52,317375</td>\n      <td>NaN</td>\n      <td>NaN</td>\n      <td>802.11</td>\n      <td>47</td>\n      <td>NaN</td>\n      <td>2024-01-10 11:59:52.317375</td>\n      <td>11:59</td>\n    </tr>\n    <tr>\n      <th>15338373</th>\n      <td>15338374</td>\n      <td>2024-01-10 11:59:52,321428</td>\n      <td>NaN</td>\n      <td>NaN</td>\n      <td>802.11</td>\n      <td>60</td>\n      <td>NaN</td>\n      <td>2024-01-10 11:59:52.321428</td>\n      <td>11:59</td>\n    </tr>\n  </tbody>\n</table>\n<p>15338374 rows × 9 columns</p>\n</div>"
     },
     "execution_count": 8,
     "metadata": {},
     "output_type": "execute_result"
    }
   ],
   "source": [
    "df_all['date-time'] = pd.to_datetime(df_all['Time'].str.replace('W. Europe Standard Time', 'CET'), format='%Y-%m-%d %H:%M:%S,%f')\n",
    "df_all['hour:minute'] = df_all['date-time'].dt.strftime('%H:%M')\n",
    "df_all"
   ]
  },
  {
   "cell_type": "code",
   "execution_count": 13,
   "outputs": [
    {
     "name": "stdout",
     "output_type": "stream",
     "text": [
      "1465\n"
     ]
    },
    {
     "data": {
      "text/plain": "               No.                        Time             Source  \\\n33              34  2024-01-10 09:01:07,850907  00:f6:63:81:c8:6f   \n39              40  2024-01-10 09:01:07,955395  00:f6:63:81:c8:6f   \n42              43  2024-01-10 09:01:08,059798  00:f6:63:81:c8:6f   \n45              46  2024-01-10 09:01:08,164289  00:f6:63:81:c8:6f   \n91              92  2024-01-10 09:01:08,268731  00:f6:63:81:c8:6f   \n...            ...                         ...                ...   \n15336965  15336966  2024-01-10 11:59:51,848980  00:f6:63:81:c8:6f   \n15337344  15337345  2024-01-10 11:59:51,955040  00:f6:63:81:c8:6f   \n15337637  15337638  2024-01-10 11:59:52,057916  00:f6:63:81:c8:6f   \n15337980  15337981  2024-01-10 11:59:52,162358  00:f6:63:81:c8:6f   \n15338241  15338242  2024-01-10 11:59:52,266789  00:f6:63:81:c8:6f   \n\n                Destination Protocol  Length       SSID  \\\n33        ff:ff:ff:ff:ff:ff   802.11     336  \"eduroam\"   \n39        ff:ff:ff:ff:ff:ff   802.11     336  \"eduroam\"   \n42        ff:ff:ff:ff:ff:ff   802.11     336  \"eduroam\"   \n45        ff:ff:ff:ff:ff:ff   802.11     336  \"eduroam\"   \n91        ff:ff:ff:ff:ff:ff   802.11     336  \"eduroam\"   \n...                     ...      ...     ...        ...   \n15336965  ff:ff:ff:ff:ff:ff   802.11     336  \"eduroam\"   \n15337344  ff:ff:ff:ff:ff:ff   802.11     336  \"eduroam\"   \n15337637  ff:ff:ff:ff:ff:ff   802.11     344  \"eduroam\"   \n15337980  ff:ff:ff:ff:ff:ff   802.11     344  \"eduroam\"   \n15338241  ff:ff:ff:ff:ff:ff   802.11     336  \"eduroam\"   \n\n                          date-time hour:minute  \n33       2024-01-10 09:01:07.850907       09:01  \n39       2024-01-10 09:01:07.955395       09:01  \n42       2024-01-10 09:01:08.059798       09:01  \n45       2024-01-10 09:01:08.164289       09:01  \n91       2024-01-10 09:01:08.268731       09:01  \n...                             ...         ...  \n15336965 2024-01-10 11:59:51.848980       11:59  \n15337344 2024-01-10 11:59:51.955040       11:59  \n15337637 2024-01-10 11:59:52.057916       11:59  \n15337980 2024-01-10 11:59:52.162358       11:59  \n15338241 2024-01-10 11:59:52.266789       11:59  \n\n[176550 rows x 9 columns]",
      "text/html": "<div>\n<style scoped>\n    .dataframe tbody tr th:only-of-type {\n        vertical-align: middle;\n    }\n\n    .dataframe tbody tr th {\n        vertical-align: top;\n    }\n\n    .dataframe thead th {\n        text-align: right;\n    }\n</style>\n<table border=\"1\" class=\"dataframe\">\n  <thead>\n    <tr style=\"text-align: right;\">\n      <th></th>\n      <th>No.</th>\n      <th>Time</th>\n      <th>Source</th>\n      <th>Destination</th>\n      <th>Protocol</th>\n      <th>Length</th>\n      <th>SSID</th>\n      <th>date-time</th>\n      <th>hour:minute</th>\n    </tr>\n  </thead>\n  <tbody>\n    <tr>\n      <th>33</th>\n      <td>34</td>\n      <td>2024-01-10 09:01:07,850907</td>\n      <td>00:f6:63:81:c8:6f</td>\n      <td>ff:ff:ff:ff:ff:ff</td>\n      <td>802.11</td>\n      <td>336</td>\n      <td>\"eduroam\"</td>\n      <td>2024-01-10 09:01:07.850907</td>\n      <td>09:01</td>\n    </tr>\n    <tr>\n      <th>39</th>\n      <td>40</td>\n      <td>2024-01-10 09:01:07,955395</td>\n      <td>00:f6:63:81:c8:6f</td>\n      <td>ff:ff:ff:ff:ff:ff</td>\n      <td>802.11</td>\n      <td>336</td>\n      <td>\"eduroam\"</td>\n      <td>2024-01-10 09:01:07.955395</td>\n      <td>09:01</td>\n    </tr>\n    <tr>\n      <th>42</th>\n      <td>43</td>\n      <td>2024-01-10 09:01:08,059798</td>\n      <td>00:f6:63:81:c8:6f</td>\n      <td>ff:ff:ff:ff:ff:ff</td>\n      <td>802.11</td>\n      <td>336</td>\n      <td>\"eduroam\"</td>\n      <td>2024-01-10 09:01:08.059798</td>\n      <td>09:01</td>\n    </tr>\n    <tr>\n      <th>45</th>\n      <td>46</td>\n      <td>2024-01-10 09:01:08,164289</td>\n      <td>00:f6:63:81:c8:6f</td>\n      <td>ff:ff:ff:ff:ff:ff</td>\n      <td>802.11</td>\n      <td>336</td>\n      <td>\"eduroam\"</td>\n      <td>2024-01-10 09:01:08.164289</td>\n      <td>09:01</td>\n    </tr>\n    <tr>\n      <th>91</th>\n      <td>92</td>\n      <td>2024-01-10 09:01:08,268731</td>\n      <td>00:f6:63:81:c8:6f</td>\n      <td>ff:ff:ff:ff:ff:ff</td>\n      <td>802.11</td>\n      <td>336</td>\n      <td>\"eduroam\"</td>\n      <td>2024-01-10 09:01:08.268731</td>\n      <td>09:01</td>\n    </tr>\n    <tr>\n      <th>...</th>\n      <td>...</td>\n      <td>...</td>\n      <td>...</td>\n      <td>...</td>\n      <td>...</td>\n      <td>...</td>\n      <td>...</td>\n      <td>...</td>\n      <td>...</td>\n    </tr>\n    <tr>\n      <th>15336965</th>\n      <td>15336966</td>\n      <td>2024-01-10 11:59:51,848980</td>\n      <td>00:f6:63:81:c8:6f</td>\n      <td>ff:ff:ff:ff:ff:ff</td>\n      <td>802.11</td>\n      <td>336</td>\n      <td>\"eduroam\"</td>\n      <td>2024-01-10 11:59:51.848980</td>\n      <td>11:59</td>\n    </tr>\n    <tr>\n      <th>15337344</th>\n      <td>15337345</td>\n      <td>2024-01-10 11:59:51,955040</td>\n      <td>00:f6:63:81:c8:6f</td>\n      <td>ff:ff:ff:ff:ff:ff</td>\n      <td>802.11</td>\n      <td>336</td>\n      <td>\"eduroam\"</td>\n      <td>2024-01-10 11:59:51.955040</td>\n      <td>11:59</td>\n    </tr>\n    <tr>\n      <th>15337637</th>\n      <td>15337638</td>\n      <td>2024-01-10 11:59:52,057916</td>\n      <td>00:f6:63:81:c8:6f</td>\n      <td>ff:ff:ff:ff:ff:ff</td>\n      <td>802.11</td>\n      <td>344</td>\n      <td>\"eduroam\"</td>\n      <td>2024-01-10 11:59:52.057916</td>\n      <td>11:59</td>\n    </tr>\n    <tr>\n      <th>15337980</th>\n      <td>15337981</td>\n      <td>2024-01-10 11:59:52,162358</td>\n      <td>00:f6:63:81:c8:6f</td>\n      <td>ff:ff:ff:ff:ff:ff</td>\n      <td>802.11</td>\n      <td>344</td>\n      <td>\"eduroam\"</td>\n      <td>2024-01-10 11:59:52.162358</td>\n      <td>11:59</td>\n    </tr>\n    <tr>\n      <th>15338241</th>\n      <td>15338242</td>\n      <td>2024-01-10 11:59:52,266789</td>\n      <td>00:f6:63:81:c8:6f</td>\n      <td>ff:ff:ff:ff:ff:ff</td>\n      <td>802.11</td>\n      <td>336</td>\n      <td>\"eduroam\"</td>\n      <td>2024-01-10 11:59:52.266789</td>\n      <td>11:59</td>\n    </tr>\n  </tbody>\n</table>\n<p>176550 rows × 9 columns</p>\n</div>"
     },
     "execution_count": 13,
     "metadata": {},
     "output_type": "execute_result"
    }
   ],
   "source": [
    "print((df_all[\"SSID\"].value_counts()).count())\n",
    "#df[\"wlan.sa\"].value_counts()\n",
    "df = df_all.loc[df_all[\"SSID\"] == '\"eduroam\"']\n",
    "df"
   ],
   "metadata": {
    "collapsed": false,
    "ExecuteTime": {
     "end_time": "2024-01-18T10:30:15.605327800Z",
     "start_time": "2024-01-18T10:30:15.089632900Z"
    }
   }
  },
  {
   "cell_type": "code",
   "execution_count": 14,
   "metadata": {
    "ExecuteTime": {
     "end_time": "2024-01-18T10:30:21.097047200Z",
     "start_time": "2024-01-18T10:30:21.065128Z"
    }
   },
   "outputs": [
    {
     "data": {
      "text/plain": "1662"
     },
     "execution_count": 14,
     "metadata": {},
     "output_type": "execute_result"
    }
   ],
   "source": [
    "(df[\"Source\"].value_counts()).count()\n",
    "#df[\"wlan.sa\"].value_counts()"
   ]
  },
  {
   "cell_type": "code",
   "execution_count": null,
   "outputs": [],
   "source": [
    "df_only_broadcast = df.loc[df[\"Destination\"] == 'ff:ff:ff:ff:ff:ff']"
   ],
   "metadata": {
    "collapsed": false,
    "ExecuteTime": {
     "start_time": "2024-01-18T08:04:00.815718400Z"
    }
   }
  },
  {
   "cell_type": "code",
   "execution_count": null,
   "metadata": {
    "ExecuteTime": {
     "start_time": "2024-01-18T08:04:00.815718400Z"
    }
   },
   "outputs": [],
   "source": [
    "df_first = df_only_broadcast.drop_duplicates(subset='Source', keep='first')\n",
    "df_first.tail()"
   ]
  },
  {
   "cell_type": "code",
   "execution_count": null,
   "metadata": {
    "ExecuteTime": {
     "start_time": "2024-01-18T08:04:00.815718400Z"
    }
   },
   "outputs": [],
   "source": []
  },
  {
   "cell_type": "code",
   "execution_count": null,
   "metadata": {
    "ExecuteTime": {
     "end_time": "2024-01-18T08:04:00.862593300Z",
     "start_time": "2024-01-18T08:04:00.815718400Z"
    }
   },
   "outputs": [],
   "source": [
    "per_min_new=pd.DataFrame(df_first[\"hour:minute\"].value_counts().sort_index())\n",
    "plt.plot(per_min_new['count'], marker='o')\n",
    "plt.xlabel('Time (hour:minute)')\n",
    "plt.ylabel('Count')\n",
    "plt.title('first seen Count vs Time')"
   ]
  },
  {
   "cell_type": "code",
   "execution_count": null,
   "metadata": {
    "ExecuteTime": {
     "start_time": "2024-01-18T08:04:00.815718400Z"
    }
   },
   "outputs": [],
   "source": [
    "df_last = df.drop_duplicates(subset='Destination', keep='last')\n",
    "df_last.tail()"
   ]
  },
  {
   "cell_type": "code",
   "execution_count": null,
   "metadata": {
    "ExecuteTime": {
     "start_time": "2024-01-18T08:04:00.815718400Z"
    }
   },
   "outputs": [],
   "source": [
    "per_min_last=pd.DataFrame(df_last[\"hour:minute\"].value_counts().sort_index())\n",
    "plt.plot(per_min_last['count'], marker='o')\n",
    "plt.xlabel('Time (hour:minute)')\n",
    "plt.ylabel('Count')\n",
    "plt.title('Last seen Count vs Time')"
   ]
  },
  {
   "cell_type": "code",
   "execution_count": null,
   "metadata": {
    "ExecuteTime": {
     "start_time": "2024-01-18T08:04:00.815718400Z"
    }
   },
   "outputs": [],
   "source": [
    "per_min=pd.DataFrame(df[\"hour:minute\"].value_counts().sort_index())\n",
    "plt.plot(per_min['count'], marker='o')\n",
    "plt.xlabel('Time (hour:minute)')\n",
    "plt.ylabel('Count')\n",
    "plt.title('Count vs Time')"
   ]
  },
  {
   "cell_type": "code",
   "execution_count": null,
   "metadata": {
    "ExecuteTime": {
     "start_time": "2024-01-18T08:04:00.831341700Z"
    }
   },
   "outputs": [],
   "source": [
    "dtt = pd.DataFrame({'hour:minute':per_min.index.tolist(),'count': per_min[\"count\"]})\n",
    "dtt['hour:minute'] = pd.to_datetime(dtt['hour:minute'], format=None)\n",
    "dtt.set_index('hour:minute', inplace=True)\n",
    "dtt_new = dtt.resample('2T').sum()\n",
    "dtt_new\n",
    "plt.plot(dtt_new['count'], marker=\"o\")\n",
    "plt.xlabel('Time (hour:minute)')\n",
    "plt.ylabel('Count')\n",
    "plt.title('Count vs Time')"
   ]
  },
  {
   "cell_type": "code",
   "execution_count": null,
   "metadata": {
    "ExecuteTime": {
     "start_time": "2024-01-18T08:04:00.831341700Z"
    }
   },
   "outputs": [],
   "source": [
    "ax=plt.plot_date(per_min.index,per_min[\"count\"],xdate=True)"
   ]
  },
  {
   "cell_type": "code",
   "execution_count": null,
   "metadata": {
    "ExecuteTime": {
     "start_time": "2024-01-18T08:04:00.831341700Z"
    }
   },
   "outputs": [],
   "source": [
    "from dateutil import parser\n",
    "from datetime import datetime\n",
    "import re"
   ]
  }
 ],
 "metadata": {
  "kernelspec": {
   "display_name": "Python 3",
   "language": "python",
   "name": "python3"
  },
  "language_info": {
   "codemirror_mode": {
    "name": "ipython",
    "version": 3
   },
   "file_extension": ".py",
   "mimetype": "text/x-python",
   "name": "python",
   "nbconvert_exporter": "python",
   "pygments_lexer": "ipython3",
   "version": "3.11.5"
  }
 },
 "nbformat": 4,
 "nbformat_minor": 2
}
