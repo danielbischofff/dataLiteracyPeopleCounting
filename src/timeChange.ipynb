{
 "cells": [
  {
   "cell_type": "code",
   "execution_count": 18,
   "metadata": {},
   "outputs": [],
   "source": [
    "import pandas as pd\n",
    "from datetime import timedelta"
   ]
  },
  {
   "cell_type": "code",
   "execution_count": 83,
   "metadata": {},
   "outputs": [],
   "source": [
    "dMonday = pd.read_csv(r'/Users/danielbischoff/Library/CloudStorage/OneDrive-UTCloud/Documents - Dateien von Philipp Langsteiner/Data_literacy_mensa/Mensa_data_combined/monday080124.csv')\n",
    "dTuesday = pd.read_csv(r'/Users/danielbischoff/Library/CloudStorage/OneDrive-UTCloud/Documents - Dateien von Philipp Langsteiner/Data_literacy_mensa/Mensa_data_combined/tuesday090124.csv')\n",
    "dWednesday = pd.read_csv(r'/Users/danielbischoff/Library/CloudStorage/OneDrive-UTCloud/Documents - Dateien von Philipp Langsteiner/Data_literacy_mensa/Mensa_data_combined/wednesday100124.csv')\n",
    "dThursday = pd.read_csv(r'/Users/danielbischoff/Library/CloudStorage/OneDrive-UTCloud/Documents - Dateien von Philipp Langsteiner/Data_literacy_mensa/Mensa_data_combined/Thursday110124.csv')\n",
    "dFriday = pd.read_csv(r'/Users/danielbischoff/Library/CloudStorage/OneDrive-UTCloud/Documents - Dateien von Philipp Langsteiner/Data_literacy_mensa/Mensa_data_combined/Friday120124.csv')"
   ]
  },
  {
   "cell_type": "code",
   "execution_count": 104,
   "metadata": {},
   "outputs": [
    {
     "data": {
      "text/html": [
       "<div>\n",
       "<style scoped>\n",
       "    .dataframe tbody tr th:only-of-type {\n",
       "        vertical-align: middle;\n",
       "    }\n",
       "\n",
       "    .dataframe tbody tr th {\n",
       "        vertical-align: top;\n",
       "    }\n",
       "\n",
       "    .dataframe thead th {\n",
       "        text-align: right;\n",
       "    }\n",
       "</style>\n",
       "<table border=\"1\" class=\"dataframe\">\n",
       "  <thead>\n",
       "    <tr style=\"text-align: right;\">\n",
       "      <th></th>\n",
       "      <th>frame.time</th>\n",
       "      <th>wlan.sa</th>\n",
       "      <th>wlan.da</th>\n",
       "      <th>_ws.col.protocol</th>\n",
       "      <th>wlan.ssid</th>\n",
       "    </tr>\n",
       "  </thead>\n",
       "  <tbody>\n",
       "    <tr>\n",
       "      <th>0</th>\n",
       "      <td>Jan 12, 2024 10:57:39.977602000 W. Europe Stan...</td>\n",
       "      <td>NaN</td>\n",
       "      <td>NaN</td>\n",
       "      <td>802.11</td>\n",
       "      <td>NaN</td>\n",
       "    </tr>\n",
       "    <tr>\n",
       "      <th>1</th>\n",
       "      <td>Jan 12, 2024 10:57:39.982785000 W. Europe Stan...</td>\n",
       "      <td>NaN</td>\n",
       "      <td>19:d4:3b:1e:14:44</td>\n",
       "      <td>802.11</td>\n",
       "      <td>NaN</td>\n",
       "    </tr>\n",
       "    <tr>\n",
       "      <th>2</th>\n",
       "      <td>Jan 12, 2024 10:57:39.986001000 W. Europe Stan...</td>\n",
       "      <td>5a:ef:5b:d6:c7:3a</td>\n",
       "      <td>2d:2c:93:b7:93:a3</td>\n",
       "      <td>802.11</td>\n",
       "      <td>NaN</td>\n",
       "    </tr>\n",
       "    <tr>\n",
       "      <th>3</th>\n",
       "      <td>Jan 12, 2024 10:57:39.992557000 W. Europe Stan...</td>\n",
       "      <td>06:dd:c6:6a:a4:53</td>\n",
       "      <td>NaN</td>\n",
       "      <td>802.11</td>\n",
       "      <td>NaN</td>\n",
       "    </tr>\n",
       "    <tr>\n",
       "      <th>4</th>\n",
       "      <td>Jan 12, 2024 10:57:39.994440000 W. Europe Stan...</td>\n",
       "      <td>8b:53:e0:85:86:9a</td>\n",
       "      <td>ea:1e:89:fe:01:92</td>\n",
       "      <td>802.11</td>\n",
       "      <td>NaN</td>\n",
       "    </tr>\n",
       "    <tr>\n",
       "      <th>...</th>\n",
       "      <td>...</td>\n",
       "      <td>...</td>\n",
       "      <td>...</td>\n",
       "      <td>...</td>\n",
       "      <td>...</td>\n",
       "    </tr>\n",
       "    <tr>\n",
       "      <th>2568580</th>\n",
       "      <td>Jan 12, 2024 14:10:25.579532000 W. Europe Stan...</td>\n",
       "      <td>NaN</td>\n",
       "      <td>NaN</td>\n",
       "      <td>802.11</td>\n",
       "      <td>NaN</td>\n",
       "    </tr>\n",
       "    <tr>\n",
       "      <th>2568581</th>\n",
       "      <td>Jan 12, 2024 14:10:25.602809000 W. Europe Stan...</td>\n",
       "      <td>00:f6:63:79:03:d0</td>\n",
       "      <td>ff:ff:ff:ff:ff:ff</td>\n",
       "      <td>802.11</td>\n",
       "      <td>656475726f616d</td>\n",
       "    </tr>\n",
       "    <tr>\n",
       "      <th>2568582</th>\n",
       "      <td>Jan 12, 2024 14:10:25.603659000 W. Europe Stan...</td>\n",
       "      <td>NaN</td>\n",
       "      <td>NaN</td>\n",
       "      <td>802.11</td>\n",
       "      <td>NaN</td>\n",
       "    </tr>\n",
       "    <tr>\n",
       "      <th>2568583</th>\n",
       "      <td>Jan 12, 2024 14:10:25.604634000 W. Europe Stan...</td>\n",
       "      <td>NaN</td>\n",
       "      <td>NaN</td>\n",
       "      <td>802.11</td>\n",
       "      <td>NaN</td>\n",
       "    </tr>\n",
       "    <tr>\n",
       "      <th>2568584</th>\n",
       "      <td>Jan 12, 2024 14:10:25.608134000 W. Europe Stan...</td>\n",
       "      <td>NaN</td>\n",
       "      <td>NaN</td>\n",
       "      <td>802.11</td>\n",
       "      <td>NaN</td>\n",
       "    </tr>\n",
       "  </tbody>\n",
       "</table>\n",
       "<p>2568585 rows × 5 columns</p>\n",
       "</div>"
      ],
      "text/plain": [
       "                                                frame.time            wlan.sa  \\\n",
       "0        Jan 12, 2024 10:57:39.977602000 W. Europe Stan...                NaN   \n",
       "1        Jan 12, 2024 10:57:39.982785000 W. Europe Stan...                NaN   \n",
       "2        Jan 12, 2024 10:57:39.986001000 W. Europe Stan...  5a:ef:5b:d6:c7:3a   \n",
       "3        Jan 12, 2024 10:57:39.992557000 W. Europe Stan...  06:dd:c6:6a:a4:53   \n",
       "4        Jan 12, 2024 10:57:39.994440000 W. Europe Stan...  8b:53:e0:85:86:9a   \n",
       "...                                                    ...                ...   \n",
       "2568580  Jan 12, 2024 14:10:25.579532000 W. Europe Stan...                NaN   \n",
       "2568581  Jan 12, 2024 14:10:25.602809000 W. Europe Stan...  00:f6:63:79:03:d0   \n",
       "2568582  Jan 12, 2024 14:10:25.603659000 W. Europe Stan...                NaN   \n",
       "2568583  Jan 12, 2024 14:10:25.604634000 W. Europe Stan...                NaN   \n",
       "2568584  Jan 12, 2024 14:10:25.608134000 W. Europe Stan...                NaN   \n",
       "\n",
       "                   wlan.da _ws.col.protocol       wlan.ssid  \n",
       "0                      NaN           802.11             NaN  \n",
       "1        19:d4:3b:1e:14:44           802.11             NaN  \n",
       "2        2d:2c:93:b7:93:a3           802.11             NaN  \n",
       "3                      NaN           802.11             NaN  \n",
       "4        ea:1e:89:fe:01:92           802.11             NaN  \n",
       "...                    ...              ...             ...  \n",
       "2568580                NaN           802.11             NaN  \n",
       "2568581  ff:ff:ff:ff:ff:ff           802.11  656475726f616d  \n",
       "2568582                NaN           802.11             NaN  \n",
       "2568583                NaN           802.11             NaN  \n",
       "2568584                NaN           802.11             NaN  \n",
       "\n",
       "[2568585 rows x 5 columns]"
      ]
     },
     "execution_count": 104,
     "metadata": {},
     "output_type": "execute_result"
    }
   ],
   "source": [
    "dMonday\n",
    "dTuesday\n",
    "dWednesday\n",
    "dThursday\n",
    "dFriday"
   ]
  },
  {
   "cell_type": "code",
   "execution_count": 98,
   "metadata": {},
   "outputs": [],
   "source": [
    "# change time format to defined format\n",
    "def changeTimeFormat(data):\n",
    "    data = data.copy()\n",
    "    data['frame.time'] = data['frame.time'].str.replace('W. Europe Standard Time', 'CET')\n",
    "    data['frame.time'] = pd.to_datetime(data['frame.time'], format='%b %d, %Y %H:%M:%S.%f %Z')\n",
    "    \n",
    "    return data\n"
   ]
  },
  {
   "cell_type": "code",
   "execution_count": 103,
   "metadata": {},
   "outputs": [],
   "source": [
    "dTimeFormatMonday = changeTimeFormat(dMonday)\n",
    "dTimeFormatTuesday = changeTimeFormat(dTuesday)\n",
    "dTimeFormatWednesday = changeTimeFormat(dWednesday)\n",
    "dTimeFormatThursday = changeTimeFormat(dThursday)\n",
    "dTimeFormatFriday = changeTimeFormat(dFriday)"
   ]
  },
  {
   "cell_type": "code",
   "execution_count": 107,
   "metadata": {},
   "outputs": [],
   "source": [
    "nan_count = dFriday['frame.time'].isna().sum()\n",
    "nan_new_count = dTimeFormatFriday['frame.time'].isna().sum()\n",
    "count = len(dFriday['frame.time'])\n",
    "count = len(dTimeFormatFriday['frame.time'])"
   ]
  },
  {
   "cell_type": "code",
   "execution_count": 109,
   "metadata": {},
   "outputs": [
    {
     "data": {
      "text/html": [
       "<div>\n",
       "<style scoped>\n",
       "    .dataframe tbody tr th:only-of-type {\n",
       "        vertical-align: middle;\n",
       "    }\n",
       "\n",
       "    .dataframe tbody tr th {\n",
       "        vertical-align: top;\n",
       "    }\n",
       "\n",
       "    .dataframe thead th {\n",
       "        text-align: right;\n",
       "    }\n",
       "</style>\n",
       "<table border=\"1\" class=\"dataframe\">\n",
       "  <thead>\n",
       "    <tr style=\"text-align: right;\">\n",
       "      <th></th>\n",
       "      <th>frame.time</th>\n",
       "      <th>wlan.sa</th>\n",
       "      <th>wlan.da</th>\n",
       "      <th>_ws.col.protocol</th>\n",
       "      <th>wlan.ssid</th>\n",
       "    </tr>\n",
       "  </thead>\n",
       "  <tbody>\n",
       "    <tr>\n",
       "      <th>0</th>\n",
       "      <td>2024-01-10 11:01:07.758711+01:00</td>\n",
       "      <td>00:f6:63:81:c8:6b</td>\n",
       "      <td>ff:ff:ff:ff:ff:ff</td>\n",
       "      <td>802.11</td>\n",
       "      <td>55546775657374</td>\n",
       "    </tr>\n",
       "    <tr>\n",
       "      <th>1</th>\n",
       "      <td>2024-01-10 11:01:07.784807+01:00</td>\n",
       "      <td>NaN</td>\n",
       "      <td>NaN</td>\n",
       "      <td>802.11</td>\n",
       "      <td>NaN</td>\n",
       "    </tr>\n",
       "  </tbody>\n",
       "</table>\n",
       "</div>"
      ],
      "text/plain": [
       "                        frame.time            wlan.sa            wlan.da  \\\n",
       "0 2024-01-10 11:01:07.758711+01:00  00:f6:63:81:c8:6b  ff:ff:ff:ff:ff:ff   \n",
       "1 2024-01-10 11:01:07.784807+01:00                NaN                NaN   \n",
       "\n",
       "  _ws.col.protocol       wlan.ssid  \n",
       "0           802.11  55546775657374  \n",
       "1           802.11             NaN  "
      ]
     },
     "execution_count": 109,
     "metadata": {},
     "output_type": "execute_result"
    }
   ],
   "source": [
    "# shift Wednesday one hour\n",
    "dTimeFormatWednesday['frame.time'] = dTimeFormatWednesday['frame.time'] + timedelta(hours=1)\n"
   ]
  },
  {
   "cell_type": "code",
   "execution_count": 128,
   "metadata": {},
   "outputs": [
    {
     "name": "stdout",
     "output_type": "stream",
     "text": [
      "RangeIndex(start=0, stop=2568585, step=1)\n"
     ]
    }
   ],
   "source": [
    "# dTimeFormatMonday\n",
    "# dTimeFormatTuesday\n",
    "# dTimeFormatWednesday\n",
    "# dTimeFormatThursday\n",
    "# dTimeFormatFriday\n",
    "\n",
    "# nan_new_count = dTimeFormatFriday['frame.time'].isna().sum()\n",
    "\n",
    "\n",
    "# dTimeFormatFriday.set_index('frame.time', inplace=True)\n",
    "# print(dTimeFormatFriday.index)\n",
    "# dTimeFormatFriday.reset_index(inplace=True)"
   ]
  },
  {
   "cell_type": "code",
   "execution_count": 129,
   "metadata": {},
   "outputs": [],
   "source": [
    "# Save the modified DataFrame as a CSV file\n",
    "dTimeFormatMonday.to_csv(r'/Users/danielbischoff/Library/CloudStorage/OneDrive-UTCloud/Documents - Dateien von Philipp Langsteiner/Data_literacy_mensa/Mensa_data_time_formated/080124Monday.csv')\n",
    "dTimeFormatTuesday.to_csv(r'/Users/danielbischoff/Library/CloudStorage/OneDrive-UTCloud/Documents - Dateien von Philipp Langsteiner/Data_literacy_mensa/Mensa_data_time_formated/090124Tuesday')\n",
    "dTimeFormatWednesday.to_csv(r'/Users/danielbischoff/Library/CloudStorage/OneDrive-UTCloud/Documents - Dateien von Philipp Langsteiner/Data_literacy_mensa/Mensa_data_time_formated/100124Wednesday')\n",
    "dTimeFormatThursday.to_csv(r'/Users/danielbischoff/Library/CloudStorage/OneDrive-UTCloud/Documents - Dateien von Philipp Langsteiner/Data_literacy_mensa/Mensa_data_time_formated/110124Thursday')\n",
    "dTimeFormatFriday.to_csv(r'/Users/danielbischoff/Library/CloudStorage/OneDrive-UTCloud/Documents - Dateien von Philipp Langsteiner/Data_literacy_mensa/Mensa_data_time_formated/120124Friday')"
   ]
  }
 ],
 "metadata": {
  "kernelspec": {
   "display_name": "dataLiteracy",
   "language": "python",
   "name": "python3"
  },
  "language_info": {
   "codemirror_mode": {
    "name": "ipython",
    "version": 3
   },
   "file_extension": ".py",
   "mimetype": "text/x-python",
   "name": "python",
   "nbconvert_exporter": "python",
   "pygments_lexer": "ipython3",
   "version": "3.11.7"
  }
 },
 "nbformat": 4,
 "nbformat_minor": 2
}
