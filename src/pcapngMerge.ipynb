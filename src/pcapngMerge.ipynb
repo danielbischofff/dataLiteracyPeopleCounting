{
 "cells": [
  {
   "cell_type": "code",
   "execution_count": 1,
   "metadata": {
    "ExecuteTime": {
     "end_time": "2024-01-13T10:02:00.907069600Z",
     "start_time": "2024-01-13T10:02:00.385279200Z"
    }
   },
   "outputs": [],
   "source": [
    "import os\n",
    "import subprocess\n",
    "import pandas as pd\n",
    "import csv\n",
    "import pyshark\n",
    "import asyncio\n",
    "from tqdm import tqdm\n",
    "import concurrent.futures as mp\n"
   ]
  },
  {
   "cell_type": "code",
   "execution_count": 2,
   "metadata": {
    "ExecuteTime": {
     "end_time": "2024-01-13T10:02:00.922691900Z",
     "start_time": "2024-01-13T10:02:00.907069600Z"
    }
   },
   "outputs": [],
   "source": [
    "# Directory containing the pcapng files\n",
    "pcapng_dir = \"C:\\\\Users\\\\Philipp\\\\OneDrive - UT Cloud\\\\Data_literacy_mensa\\\\Mensa_11-01-24\\\\pcapng\"\n",
    "\n",
    "# Directory to save the csv files\n",
    "csv_dir = \"C:/Users/Philipp/OneDrive - UT Cloud/Data_literacy_mensa/Mensa_11-01-24/CSV_files\"\n",
    "\n",
    "# File name for merged CSV\n",
    "csvMerged = \"Thursday11012024.csv\""
   ]
  },
  {
   "cell_type": "code",
   "execution_count": 5,
   "metadata": {
    "ExecuteTime": {
     "end_time": "2024-01-13T10:09:28.847773200Z",
     "start_time": "2024-01-13T10:07:54.157493900Z"
    }
   },
   "outputs": [],
   "source": [
    "def convert_pcapng_to_csv(pcapng_file):\n",
    "    # Full path to the pcapng file\n",
    "    pcapng_path = os.path.join(pcapng_dir, pcapng_file)\n",
    "    \n",
    "    if not os.path.exists(pcapng_path):\n",
    "        print(f\"Error: File {pcapng_path} does not exist.\")\n",
    "        return\n",
    "    \n",
    "    csv_path = os.path.join(csv_dir, pcapng_file + '.csv')\n",
    "\n",
    "    command = [\n",
    "    \"C:\\\\Program Files\\\\Wireshark\\\\tshark.exe\",\n",
    "    \"-r\",\n",
    "    pcapng_path,\n",
    "    \"-T\",\n",
    "    \"fields\",\n",
    "    \"-E\",\n",
    "    \"header=y\",\n",
    "    \"-E\",\n",
    "    \"separator=,\",\n",
    "    \"-E\",\n",
    "    \"quote=d\",\n",
    "    \"-E\",\n",
    "    \"occurrence=f\", \n",
    "    \"-e\",\n",
    "    \"frame.number\",\n",
    "    \"-e\",\n",
    "    \"frame.time\",\n",
    "    \"-e\",\n",
    "    \"wlan.sa\",\n",
    "    \"-e\",\n",
    "    \"wlan.da\",\n",
    "    \"-e\",\n",
    "    \"_ws.col.Protocol\",\n",
    "    \"-e\",\n",
    "    \"_ws.col.Info\",\n",
    "    ]\n",
    "\n",
    "    try:\n",
    "        with open(csv_path, \"w\") as f:\n",
    "            subprocess.run(command, stdout=f, check=True)\n",
    "    except Exception as e:\n",
    "            print(f\"Error processing {pcapng_file}: {e}\")\n",
    "\n",
    "# def write_results_to_file(result_data, csv_path):\n",
    "#     # Write the results to a CSV file\n",
    "#     with open(csv_path, \"w\", newline='') as csv_file:\n",
    "#         fieldnames = [\"frame.number\", \"frame.time\", \"ip.src\", \"ip.dst\", \"_ws.col.Protocol\", \"frame.len\", \"_ws.col.Info\"]\n",
    "#         writer = csv.DictWriter(csv_file, fieldnames=fieldnames)\n",
    "# \n",
    "#         # Write the header\n",
    "#         writer.writeheader()\n",
    "# \n",
    "#         # Write the data\n",
    "#         writer.writerows(result_data)\n",
    "\n",
    "# Example usage with concurrent.futures\n",
    "pcapng_files = [f for f in os.listdir(pcapng_dir)]\n",
    "\n",
    "with mp.ThreadPoolExecutor(max_workers=16) as executor:\n",
    "    executor.map(convert_pcapng_to_csv, pcapng_files)\n",
    "    # # Submit the tasks for each file\n",
    "    # future_to_file = {executor.submit(convert_pcapng_to_csv, pcapng_file): pcapng_file for pcapng_file in pcapng_files}\n",
    "    # \n",
    "    # # Wait for the tasks to complete\n",
    "    # for future in mp.as_completed(future_to_file):\n",
    "    #     pcapng_file = future_to_file[future]\n",
    "    #     try:\n",
    "    #         result_data = future.result()\n",
    "    #         write_results_to_file(result_data, os.path.join(csv_dir, pcapng_file + '_parsed.csv'))\n",
    "    #     except Exception as e:\n",
    "    #         print(f\"Error processing {pcapng_file}: {e}\")\n"
   ]
  },
  {
   "cell_type": "code",
   "execution_count": 11,
   "metadata": {},
   "outputs": [
    {
     "ename": "ParserError",
     "evalue": "Error tokenizing data. C error: Expected 5 fields in line 3, saw 7\n",
     "output_type": "error",
     "traceback": [
      "\u001B[0;31m---------------------------------------------------------------------------\u001B[0m",
      "\u001B[0;31mParserError\u001B[0m                               Traceback (most recent call last)",
      "Cell \u001B[0;32mIn[11], line 5\u001B[0m\n\u001B[1;32m      2\u001B[0m csv_files \u001B[38;5;241m=\u001B[39m [f \u001B[38;5;28;01mfor\u001B[39;00m f \u001B[38;5;129;01min\u001B[39;00m os\u001B[38;5;241m.\u001B[39mlistdir(csv_dir) \u001B[38;5;28;01mif\u001B[39;00m f\u001B[38;5;241m.\u001B[39mendswith(\u001B[38;5;124m'\u001B[39m\u001B[38;5;124m.csv\u001B[39m\u001B[38;5;124m'\u001B[39m)]\n\u001B[1;32m      4\u001B[0m \u001B[38;5;66;03m# Read each csv file and append it to the list of dataframes\u001B[39;00m\n\u001B[0;32m----> 5\u001B[0m dfs \u001B[38;5;241m=\u001B[39m [pd\u001B[38;5;241m.\u001B[39mread_csv(os\u001B[38;5;241m.\u001B[39mpath\u001B[38;5;241m.\u001B[39mjoin(csv_dir, csv_file)) \u001B[38;5;28;01mfor\u001B[39;00m csv_file \u001B[38;5;129;01min\u001B[39;00m csv_files]\n\u001B[1;32m      7\u001B[0m \u001B[38;5;66;03m# Concatenate all dataframes into one\u001B[39;00m\n\u001B[1;32m      8\u001B[0m df \u001B[38;5;241m=\u001B[39m pd\u001B[38;5;241m.\u001B[39mconcat(dfs, ignore_index\u001B[38;5;241m=\u001B[39m\u001B[38;5;28;01mTrue\u001B[39;00m)\n",
      "Cell \u001B[0;32mIn[11], line 5\u001B[0m, in \u001B[0;36m<listcomp>\u001B[0;34m(.0)\u001B[0m\n\u001B[1;32m      2\u001B[0m csv_files \u001B[38;5;241m=\u001B[39m [f \u001B[38;5;28;01mfor\u001B[39;00m f \u001B[38;5;129;01min\u001B[39;00m os\u001B[38;5;241m.\u001B[39mlistdir(csv_dir) \u001B[38;5;28;01mif\u001B[39;00m f\u001B[38;5;241m.\u001B[39mendswith(\u001B[38;5;124m'\u001B[39m\u001B[38;5;124m.csv\u001B[39m\u001B[38;5;124m'\u001B[39m)]\n\u001B[1;32m      4\u001B[0m \u001B[38;5;66;03m# Read each csv file and append it to the list of dataframes\u001B[39;00m\n\u001B[0;32m----> 5\u001B[0m dfs \u001B[38;5;241m=\u001B[39m [pd\u001B[38;5;241m.\u001B[39mread_csv(os\u001B[38;5;241m.\u001B[39mpath\u001B[38;5;241m.\u001B[39mjoin(csv_dir, csv_file)) \u001B[38;5;28;01mfor\u001B[39;00m csv_file \u001B[38;5;129;01min\u001B[39;00m csv_files]\n\u001B[1;32m      7\u001B[0m \u001B[38;5;66;03m# Concatenate all dataframes into one\u001B[39;00m\n\u001B[1;32m      8\u001B[0m df \u001B[38;5;241m=\u001B[39m pd\u001B[38;5;241m.\u001B[39mconcat(dfs, ignore_index\u001B[38;5;241m=\u001B[39m\u001B[38;5;28;01mTrue\u001B[39;00m)\n",
      "File \u001B[0;32m/usr/local/Caskroom/miniconda/base/envs/dataLiteracy/lib/python3.11/site-packages/pandas/io/parsers/readers.py:948\u001B[0m, in \u001B[0;36mread_csv\u001B[0;34m(filepath_or_buffer, sep, delimiter, header, names, index_col, usecols, dtype, engine, converters, true_values, false_values, skipinitialspace, skiprows, skipfooter, nrows, na_values, keep_default_na, na_filter, verbose, skip_blank_lines, parse_dates, infer_datetime_format, keep_date_col, date_parser, date_format, dayfirst, cache_dates, iterator, chunksize, compression, thousands, decimal, lineterminator, quotechar, quoting, doublequote, escapechar, comment, encoding, encoding_errors, dialect, on_bad_lines, delim_whitespace, low_memory, memory_map, float_precision, storage_options, dtype_backend)\u001B[0m\n\u001B[1;32m    935\u001B[0m kwds_defaults \u001B[38;5;241m=\u001B[39m _refine_defaults_read(\n\u001B[1;32m    936\u001B[0m     dialect,\n\u001B[1;32m    937\u001B[0m     delimiter,\n\u001B[0;32m   (...)\u001B[0m\n\u001B[1;32m    944\u001B[0m     dtype_backend\u001B[38;5;241m=\u001B[39mdtype_backend,\n\u001B[1;32m    945\u001B[0m )\n\u001B[1;32m    946\u001B[0m kwds\u001B[38;5;241m.\u001B[39mupdate(kwds_defaults)\n\u001B[0;32m--> 948\u001B[0m \u001B[38;5;28;01mreturn\u001B[39;00m _read(filepath_or_buffer, kwds)\n",
      "File \u001B[0;32m/usr/local/Caskroom/miniconda/base/envs/dataLiteracy/lib/python3.11/site-packages/pandas/io/parsers/readers.py:617\u001B[0m, in \u001B[0;36m_read\u001B[0;34m(filepath_or_buffer, kwds)\u001B[0m\n\u001B[1;32m    614\u001B[0m     \u001B[38;5;28;01mreturn\u001B[39;00m parser\n\u001B[1;32m    616\u001B[0m \u001B[38;5;28;01mwith\u001B[39;00m parser:\n\u001B[0;32m--> 617\u001B[0m     \u001B[38;5;28;01mreturn\u001B[39;00m parser\u001B[38;5;241m.\u001B[39mread(nrows)\n",
      "File \u001B[0;32m/usr/local/Caskroom/miniconda/base/envs/dataLiteracy/lib/python3.11/site-packages/pandas/io/parsers/readers.py:1748\u001B[0m, in \u001B[0;36mTextFileReader.read\u001B[0;34m(self, nrows)\u001B[0m\n\u001B[1;32m   1741\u001B[0m nrows \u001B[38;5;241m=\u001B[39m validate_integer(\u001B[38;5;124m\"\u001B[39m\u001B[38;5;124mnrows\u001B[39m\u001B[38;5;124m\"\u001B[39m, nrows)\n\u001B[1;32m   1742\u001B[0m \u001B[38;5;28;01mtry\u001B[39;00m:\n\u001B[1;32m   1743\u001B[0m     \u001B[38;5;66;03m# error: \"ParserBase\" has no attribute \"read\"\u001B[39;00m\n\u001B[1;32m   1744\u001B[0m     (\n\u001B[1;32m   1745\u001B[0m         index,\n\u001B[1;32m   1746\u001B[0m         columns,\n\u001B[1;32m   1747\u001B[0m         col_dict,\n\u001B[0;32m-> 1748\u001B[0m     ) \u001B[38;5;241m=\u001B[39m \u001B[38;5;28mself\u001B[39m\u001B[38;5;241m.\u001B[39m_engine\u001B[38;5;241m.\u001B[39mread(  \u001B[38;5;66;03m# type: ignore[attr-defined]\u001B[39;00m\n\u001B[1;32m   1749\u001B[0m         nrows\n\u001B[1;32m   1750\u001B[0m     )\n\u001B[1;32m   1751\u001B[0m \u001B[38;5;28;01mexcept\u001B[39;00m \u001B[38;5;167;01mException\u001B[39;00m:\n\u001B[1;32m   1752\u001B[0m     \u001B[38;5;28mself\u001B[39m\u001B[38;5;241m.\u001B[39mclose()\n",
      "File \u001B[0;32m/usr/local/Caskroom/miniconda/base/envs/dataLiteracy/lib/python3.11/site-packages/pandas/io/parsers/c_parser_wrapper.py:234\u001B[0m, in \u001B[0;36mCParserWrapper.read\u001B[0;34m(self, nrows)\u001B[0m\n\u001B[1;32m    232\u001B[0m \u001B[38;5;28;01mtry\u001B[39;00m:\n\u001B[1;32m    233\u001B[0m     \u001B[38;5;28;01mif\u001B[39;00m \u001B[38;5;28mself\u001B[39m\u001B[38;5;241m.\u001B[39mlow_memory:\n\u001B[0;32m--> 234\u001B[0m         chunks \u001B[38;5;241m=\u001B[39m \u001B[38;5;28mself\u001B[39m\u001B[38;5;241m.\u001B[39m_reader\u001B[38;5;241m.\u001B[39mread_low_memory(nrows)\n\u001B[1;32m    235\u001B[0m         \u001B[38;5;66;03m# destructive to chunks\u001B[39;00m\n\u001B[1;32m    236\u001B[0m         data \u001B[38;5;241m=\u001B[39m _concatenate_chunks(chunks)\n",
      "File \u001B[0;32mparsers.pyx:843\u001B[0m, in \u001B[0;36mpandas._libs.parsers.TextReader.read_low_memory\u001B[0;34m()\u001B[0m\n",
      "File \u001B[0;32mparsers.pyx:904\u001B[0m, in \u001B[0;36mpandas._libs.parsers.TextReader._read_rows\u001B[0;34m()\u001B[0m\n",
      "File \u001B[0;32mparsers.pyx:879\u001B[0m, in \u001B[0;36mpandas._libs.parsers.TextReader._tokenize_rows\u001B[0;34m()\u001B[0m\n",
      "File \u001B[0;32mparsers.pyx:890\u001B[0m, in \u001B[0;36mpandas._libs.parsers.TextReader._check_tokenize_status\u001B[0;34m()\u001B[0m\n",
      "File \u001B[0;32mparsers.pyx:2058\u001B[0m, in \u001B[0;36mpandas._libs.parsers.raise_parser_error\u001B[0;34m()\u001B[0m\n",
      "\u001B[0;31mParserError\u001B[0m: Error tokenizing data. C error: Expected 5 fields in line 3, saw 7\n"
     ]
    }
   ],
   "source": [
    "# Get a list of all csv files in the directory\n",
    "csv_files = [f for f in os.listdir(csv_dir) if f.endswith('.csv')]\n",
    "\n",
    "# Read each csv file and append it to the list of dataframes\n",
    "dfs = [pd.read_csv(os.path.join(csv_dir, csv_file)) for csv_file in csv_files]\n",
    "\n",
    "# Concatenate all dataframes into one\n",
    "df = pd.concat(dfs, ignore_index=True)\n",
    "\n",
    "print(\"dataframe\")\n",
    "\n",
    "# Save the combined dataframe to a new csv file\n",
    "df.to_csv(os.path.join(csv_dir, csvMerged), index=False)"
   ]
  },
  {
   "cell_type": "code",
   "execution_count": null,
   "metadata": {},
   "outputs": [],
   "source": []
  }
 ],
 "metadata": {
  "kernelspec": {
   "display_name": "dataLiteracy",
   "language": "python",
   "name": "python3"
  },
  "language_info": {
   "codemirror_mode": {
    "name": "ipython",
    "version": 3
   },
   "file_extension": ".py",
   "mimetype": "text/x-python",
   "name": "python",
   "nbconvert_exporter": "python",
   "pygments_lexer": "ipython3",
   "version": "3.11.7"
  }
 },
 "nbformat": 4,
 "nbformat_minor": 2
}
