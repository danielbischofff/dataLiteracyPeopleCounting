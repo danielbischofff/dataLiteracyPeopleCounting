{
 "cells": [
  {
   "cell_type": "code",
   "execution_count": 1,
   "metadata": {
    "ExecuteTime": {
     "end_time": "2024-01-21T15:52:41.296896300Z",
     "start_time": "2024-01-21T15:52:41.234395Z"
    }
   },
   "outputs": [],
   "source": [
    "import os\n",
    "import subprocess\n",
    "import io\n",
    "import pandas as pd\n",
    "import csv\n",
    "import asyncio\n",
    "from tqdm import tqdm\n",
    "import concurrent.futures as mp\n"
   ]
  },
  {
   "cell_type": "code",
   "execution_count": 6,
   "metadata": {
    "ExecuteTime": {
     "end_time": "2024-01-21T16:07:36.666391400Z",
     "start_time": "2024-01-21T16:07:36.651043200Z"
    }
   },
   "outputs": [],
   "source": [
    "# Directory containing the pcapng files\n",
    "pcapng_dir = \"C:\\\\Users\\Philipp\\OneDrive - UT Cloud\\Data_literacy_mensa\\Mensa_10-01-24\\pcapng\"\n",
    "\n",
    "# Directory to save the csv files\n",
    "csv_dir = \"C:\\\\Users\\Philipp\\OneDrive - UT Cloud\\Data_literacy_mensa\\Mensa_10-01-24\\csv\"\n",
    "\n",
    "# File name for merged CSV\n",
    "csvMerged = \"Wednesday100124.csv\""
   ]
  },
  {
   "cell_type": "code",
   "execution_count": 7,
   "metadata": {
    "ExecuteTime": {
     "end_time": "2024-01-21T16:15:56.818625800Z",
     "start_time": "2024-01-21T16:07:37.323583500Z"
    }
   },
   "outputs": [],
   "source": [
    "# This cell can take upto 20 min to load\n",
    "def convert_pcapng_to_csv(pcapng_file):\n",
    "    # Full path to the pcapng file\n",
    "    pcapng_path = os.path.join(pcapng_dir, pcapng_file)\n",
    "\n",
    "    if not os.path.exists(pcapng_path):\n",
    "        print(f\"Error: File {pcapng_path} does not exist.\")\n",
    "        return\n",
    "\n",
    "    csv_path = os.path.join(csv_dir, pcapng_file + '.csv')\n",
    "\n",
    "    commandPcapngToCsv = [\n",
    "        \"C:\\\\Program Files\\\\Wireshark\\\\tshark.exe\",\n",
    "        \"-r\",\n",
    "        pcapng_path,\n",
    "        \"-T\",\n",
    "        \"fields\",\n",
    "        \"-E\",\n",
    "        \"header=y\",\n",
    "        \"-E\",\n",
    "        \"separator=,\",\n",
    "        \"-E\",\n",
    "        \"quote=d\",\n",
    "        \"-E\",\n",
    "        \"occurrence=f\",\n",
    "        \"-e\",\n",
    "        \"frame.time\",\n",
    "        \"-e\",\n",
    "        \"wlan.sa\",\n",
    "        \"-e\",\n",
    "        \"wlan.da\",\n",
    "        \"-e\",\n",
    "        \"_ws.col.Protocol\",\n",
    "        \"-e\",\n",
    "        \"wlan.ssid\",\n",
    "        \"-e\",\n",
    "        \"wlan.bssid\",\n",
    "        \"-e\",\n",
    "        \"wlan.seq\",\n",
    "        \"-e\",\n",
    "        \"wlan.fc.type_subtype\"\n",
    "    ]\n",
    "\n",
    "    try:\n",
    "        with open(csv_path, \"w\") as f:\n",
    "            subprocess.run(commandPcapngToCsv, stdout=f, check=True)\n",
    "    except Exception as e:\n",
    "        print(f\"Error processing {pcapng_file}: {e}\")\n",
    "\n",
    "\n",
    "# Example usage with concurrent.futures\n",
    "pcapng_files = [f for f in os.listdir(pcapng_dir)]\n",
    "\n",
    "with mp.ThreadPoolExecutor(max_workers=16) as executor:\n",
    "    try:\n",
    "        executor.map(convert_pcapng_to_csv, pcapng_files)\n",
    "    except Exception as e:\n",
    "        print(f\"Error processing: {e}\")\n"
   ]
  },
  {
   "cell_type": "code",
   "execution_count": 8,
   "metadata": {
    "ExecuteTime": {
     "end_time": "2024-01-21T16:16:27.231703Z",
     "start_time": "2024-01-21T16:15:56.818625800Z"
    }
   },
   "outputs": [
    {
     "ename": "UnicodeDecodeError",
     "evalue": "'utf-8' codec can't decode byte 0xe2 in position 199682: invalid continuation byte",
     "output_type": "error",
     "traceback": [
      "\u001B[1;31m---------------------------------------------------------------------------\u001B[0m",
      "\u001B[1;31mUnicodeDecodeError\u001B[0m                        Traceback (most recent call last)",
      "Cell \u001B[1;32mIn[8], line 5\u001B[0m\n\u001B[0;32m      2\u001B[0m csv_files \u001B[38;5;241m=\u001B[39m [f \u001B[38;5;28;01mfor\u001B[39;00m f \u001B[38;5;129;01min\u001B[39;00m os\u001B[38;5;241m.\u001B[39mlistdir(csv_dir) \u001B[38;5;28;01mif\u001B[39;00m f\u001B[38;5;241m.\u001B[39mendswith(\u001B[38;5;124m'\u001B[39m\u001B[38;5;124m.csv\u001B[39m\u001B[38;5;124m'\u001B[39m)]\n\u001B[0;32m      4\u001B[0m \u001B[38;5;66;03m# # Read each csv file and append it to the list of dataframes\u001B[39;00m\n\u001B[1;32m----> 5\u001B[0m dfs \u001B[38;5;241m=\u001B[39m [pd\u001B[38;5;241m.\u001B[39mread_csv(os\u001B[38;5;241m.\u001B[39mpath\u001B[38;5;241m.\u001B[39mjoin(csv_dir, csv_file), low_memory\u001B[38;5;241m=\u001B[39m\u001B[38;5;28;01mFalse\u001B[39;00m) \u001B[38;5;28;01mfor\u001B[39;00m csv_file \u001B[38;5;129;01min\u001B[39;00m csv_files]\n\u001B[0;32m      7\u001B[0m \u001B[38;5;66;03m# Concatenate all dataframes into one\u001B[39;00m\n\u001B[0;32m      8\u001B[0m df \u001B[38;5;241m=\u001B[39m pd\u001B[38;5;241m.\u001B[39mconcat(dfs, ignore_index\u001B[38;5;241m=\u001B[39m\u001B[38;5;28;01mTrue\u001B[39;00m)\n",
      "Cell \u001B[1;32mIn[8], line 5\u001B[0m, in \u001B[0;36m<listcomp>\u001B[1;34m(.0)\u001B[0m\n\u001B[0;32m      2\u001B[0m csv_files \u001B[38;5;241m=\u001B[39m [f \u001B[38;5;28;01mfor\u001B[39;00m f \u001B[38;5;129;01min\u001B[39;00m os\u001B[38;5;241m.\u001B[39mlistdir(csv_dir) \u001B[38;5;28;01mif\u001B[39;00m f\u001B[38;5;241m.\u001B[39mendswith(\u001B[38;5;124m'\u001B[39m\u001B[38;5;124m.csv\u001B[39m\u001B[38;5;124m'\u001B[39m)]\n\u001B[0;32m      4\u001B[0m \u001B[38;5;66;03m# # Read each csv file and append it to the list of dataframes\u001B[39;00m\n\u001B[1;32m----> 5\u001B[0m dfs \u001B[38;5;241m=\u001B[39m [\u001B[43mpd\u001B[49m\u001B[38;5;241;43m.\u001B[39;49m\u001B[43mread_csv\u001B[49m\u001B[43m(\u001B[49m\u001B[43mos\u001B[49m\u001B[38;5;241;43m.\u001B[39;49m\u001B[43mpath\u001B[49m\u001B[38;5;241;43m.\u001B[39;49m\u001B[43mjoin\u001B[49m\u001B[43m(\u001B[49m\u001B[43mcsv_dir\u001B[49m\u001B[43m,\u001B[49m\u001B[43m \u001B[49m\u001B[43mcsv_file\u001B[49m\u001B[43m)\u001B[49m\u001B[43m,\u001B[49m\u001B[43m \u001B[49m\u001B[43mlow_memory\u001B[49m\u001B[38;5;241;43m=\u001B[39;49m\u001B[38;5;28;43;01mFalse\u001B[39;49;00m\u001B[43m)\u001B[49m \u001B[38;5;28;01mfor\u001B[39;00m csv_file \u001B[38;5;129;01min\u001B[39;00m csv_files]\n\u001B[0;32m      7\u001B[0m \u001B[38;5;66;03m# Concatenate all dataframes into one\u001B[39;00m\n\u001B[0;32m      8\u001B[0m df \u001B[38;5;241m=\u001B[39m pd\u001B[38;5;241m.\u001B[39mconcat(dfs, ignore_index\u001B[38;5;241m=\u001B[39m\u001B[38;5;28;01mTrue\u001B[39;00m)\n",
      "File \u001B[1;32mC:\\Philipp\\Studium\\WS23-24\\Data Literacy\\dataLiteracyPeopleCounting\\lit_env\\lib\\site-packages\\pandas\\io\\parsers\\readers.py:948\u001B[0m, in \u001B[0;36mread_csv\u001B[1;34m(filepath_or_buffer, sep, delimiter, header, names, index_col, usecols, dtype, engine, converters, true_values, false_values, skipinitialspace, skiprows, skipfooter, nrows, na_values, keep_default_na, na_filter, verbose, skip_blank_lines, parse_dates, infer_datetime_format, keep_date_col, date_parser, date_format, dayfirst, cache_dates, iterator, chunksize, compression, thousands, decimal, lineterminator, quotechar, quoting, doublequote, escapechar, comment, encoding, encoding_errors, dialect, on_bad_lines, delim_whitespace, low_memory, memory_map, float_precision, storage_options, dtype_backend)\u001B[0m\n\u001B[0;32m    935\u001B[0m kwds_defaults \u001B[38;5;241m=\u001B[39m _refine_defaults_read(\n\u001B[0;32m    936\u001B[0m     dialect,\n\u001B[0;32m    937\u001B[0m     delimiter,\n\u001B[1;32m   (...)\u001B[0m\n\u001B[0;32m    944\u001B[0m     dtype_backend\u001B[38;5;241m=\u001B[39mdtype_backend,\n\u001B[0;32m    945\u001B[0m )\n\u001B[0;32m    946\u001B[0m kwds\u001B[38;5;241m.\u001B[39mupdate(kwds_defaults)\n\u001B[1;32m--> 948\u001B[0m \u001B[38;5;28;01mreturn\u001B[39;00m \u001B[43m_read\u001B[49m\u001B[43m(\u001B[49m\u001B[43mfilepath_or_buffer\u001B[49m\u001B[43m,\u001B[49m\u001B[43m \u001B[49m\u001B[43mkwds\u001B[49m\u001B[43m)\u001B[49m\n",
      "File \u001B[1;32mC:\\Philipp\\Studium\\WS23-24\\Data Literacy\\dataLiteracyPeopleCounting\\lit_env\\lib\\site-packages\\pandas\\io\\parsers\\readers.py:617\u001B[0m, in \u001B[0;36m_read\u001B[1;34m(filepath_or_buffer, kwds)\u001B[0m\n\u001B[0;32m    614\u001B[0m     \u001B[38;5;28;01mreturn\u001B[39;00m parser\n\u001B[0;32m    616\u001B[0m \u001B[38;5;28;01mwith\u001B[39;00m parser:\n\u001B[1;32m--> 617\u001B[0m     \u001B[38;5;28;01mreturn\u001B[39;00m \u001B[43mparser\u001B[49m\u001B[38;5;241;43m.\u001B[39;49m\u001B[43mread\u001B[49m\u001B[43m(\u001B[49m\u001B[43mnrows\u001B[49m\u001B[43m)\u001B[49m\n",
      "File \u001B[1;32mC:\\Philipp\\Studium\\WS23-24\\Data Literacy\\dataLiteracyPeopleCounting\\lit_env\\lib\\site-packages\\pandas\\io\\parsers\\readers.py:1748\u001B[0m, in \u001B[0;36mTextFileReader.read\u001B[1;34m(self, nrows)\u001B[0m\n\u001B[0;32m   1741\u001B[0m nrows \u001B[38;5;241m=\u001B[39m validate_integer(\u001B[38;5;124m\"\u001B[39m\u001B[38;5;124mnrows\u001B[39m\u001B[38;5;124m\"\u001B[39m, nrows)\n\u001B[0;32m   1742\u001B[0m \u001B[38;5;28;01mtry\u001B[39;00m:\n\u001B[0;32m   1743\u001B[0m     \u001B[38;5;66;03m# error: \"ParserBase\" has no attribute \"read\"\u001B[39;00m\n\u001B[0;32m   1744\u001B[0m     (\n\u001B[0;32m   1745\u001B[0m         index,\n\u001B[0;32m   1746\u001B[0m         columns,\n\u001B[0;32m   1747\u001B[0m         col_dict,\n\u001B[1;32m-> 1748\u001B[0m     ) \u001B[38;5;241m=\u001B[39m \u001B[38;5;28;43mself\u001B[39;49m\u001B[38;5;241;43m.\u001B[39;49m\u001B[43m_engine\u001B[49m\u001B[38;5;241;43m.\u001B[39;49m\u001B[43mread\u001B[49m\u001B[43m(\u001B[49m\u001B[43m  \u001B[49m\u001B[38;5;66;43;03m# type: ignore[attr-defined]\u001B[39;49;00m\n\u001B[0;32m   1749\u001B[0m \u001B[43m        \u001B[49m\u001B[43mnrows\u001B[49m\n\u001B[0;32m   1750\u001B[0m \u001B[43m    \u001B[49m\u001B[43m)\u001B[49m\n\u001B[0;32m   1751\u001B[0m \u001B[38;5;28;01mexcept\u001B[39;00m \u001B[38;5;167;01mException\u001B[39;00m:\n\u001B[0;32m   1752\u001B[0m     \u001B[38;5;28mself\u001B[39m\u001B[38;5;241m.\u001B[39mclose()\n",
      "File \u001B[1;32mC:\\Philipp\\Studium\\WS23-24\\Data Literacy\\dataLiteracyPeopleCounting\\lit_env\\lib\\site-packages\\pandas\\io\\parsers\\c_parser_wrapper.py:239\u001B[0m, in \u001B[0;36mCParserWrapper.read\u001B[1;34m(self, nrows)\u001B[0m\n\u001B[0;32m    236\u001B[0m         data \u001B[38;5;241m=\u001B[39m _concatenate_chunks(chunks)\n\u001B[0;32m    238\u001B[0m     \u001B[38;5;28;01melse\u001B[39;00m:\n\u001B[1;32m--> 239\u001B[0m         data \u001B[38;5;241m=\u001B[39m \u001B[38;5;28;43mself\u001B[39;49m\u001B[38;5;241;43m.\u001B[39;49m\u001B[43m_reader\u001B[49m\u001B[38;5;241;43m.\u001B[39;49m\u001B[43mread\u001B[49m\u001B[43m(\u001B[49m\u001B[43mnrows\u001B[49m\u001B[43m)\u001B[49m\n\u001B[0;32m    240\u001B[0m \u001B[38;5;28;01mexcept\u001B[39;00m \u001B[38;5;167;01mStopIteration\u001B[39;00m:\n\u001B[0;32m    241\u001B[0m     \u001B[38;5;28;01mif\u001B[39;00m \u001B[38;5;28mself\u001B[39m\u001B[38;5;241m.\u001B[39m_first_chunk:\n",
      "File \u001B[1;32mparsers.pyx:825\u001B[0m, in \u001B[0;36mpandas._libs.parsers.TextReader.read\u001B[1;34m()\u001B[0m\n",
      "File \u001B[1;32mparsers.pyx:913\u001B[0m, in \u001B[0;36mpandas._libs.parsers.TextReader._read_rows\u001B[1;34m()\u001B[0m\n",
      "File \u001B[1;32mparsers.pyx:890\u001B[0m, in \u001B[0;36mpandas._libs.parsers.TextReader._check_tokenize_status\u001B[1;34m()\u001B[0m\n",
      "File \u001B[1;32mparsers.pyx:2050\u001B[0m, in \u001B[0;36mpandas._libs.parsers.raise_parser_error\u001B[1;34m()\u001B[0m\n",
      "\u001B[1;31mUnicodeDecodeError\u001B[0m: 'utf-8' codec can't decode byte 0xe2 in position 199682: invalid continuation byte"
     ]
    }
   ],
   "source": [
    "# Get a list of all csv files in the directory\n",
    "csv_files = [f for f in os.listdir(csv_dir) if f.endswith('.csv')]\n",
    "\n",
    "# # Read each csv file and append it to the list of dataframes\n",
    "dfs = [pd.read_csv(os.path.join(csv_dir, csv_file), low_memory=False) for csv_file in csv_files]\n",
    "\n",
    "# Concatenate all dataframes into one\n",
    "df = pd.concat(dfs, ignore_index=True)\n",
    "\n",
    "# Save the combined dataframe to a new csv file\n",
    "df.to_csv(os.path.join(csv_dir, csvMerged), index=False)"
   ]
  },
  {
   "cell_type": "code",
   "execution_count": 5,
   "metadata": {
    "ExecuteTime": {
     "end_time": "2024-01-16T09:27:00.344466Z",
     "start_time": "2024-01-16T09:26:59.964767500Z"
    }
   },
   "outputs": [
    {
     "data": {
      "text/plain": "326030"
     },
     "execution_count": 5,
     "metadata": {},
     "output_type": "execute_result"
    }
   ],
   "source": [
    "df['wlan.sa'].nunique()"
   ]
  },
  {
   "cell_type": "code",
   "execution_count": null,
   "metadata": {},
   "outputs": [],
   "source": []
  }
 ],
 "metadata": {
  "kernelspec": {
   "display_name": "dataLiteracy",
   "language": "python",
   "name": "python3"
  },
  "language_info": {
   "codemirror_mode": {
    "name": "ipython",
    "version": 3
   },
   "file_extension": ".py",
   "mimetype": "text/x-python",
   "name": "python",
   "nbconvert_exporter": "python",
   "pygments_lexer": "ipython3",
   "version": "3.11.7"
  }
 },
 "nbformat": 4,
 "nbformat_minor": 2
}
