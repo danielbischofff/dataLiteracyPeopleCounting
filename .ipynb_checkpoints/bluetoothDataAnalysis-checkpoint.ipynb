{
 "cells": [
  {
   "cell_type": "code",
   "execution_count": 3,
   "metadata": {
    "editable": true,
    "slideshow": {
     "slide_type": ""
    },
    "tags": []
   },
   "outputs": [
    {
     "ename": "UnboundLocalError",
     "evalue": "local variable 'rssi' referenced before assignment",
     "output_type": "error",
     "traceback": [
      "\u001b[0;31m---------------------------------------------------------------------------\u001b[0m",
      "\u001b[0;31mUnboundLocalError\u001b[0m                         Traceback (most recent call last)",
      "Cell \u001b[0;32mIn[3], line 51\u001b[0m\n\u001b[1;32m     48\u001b[0m     file_data \u001b[38;5;241m=\u001b[39m file\u001b[38;5;241m.\u001b[39mread()\n\u001b[1;32m     50\u001b[0m \u001b[38;5;66;03m# Parse the data\u001b[39;00m\n\u001b[0;32m---> 51\u001b[0m parsed_data \u001b[38;5;241m=\u001b[39m \u001b[43mparse_data\u001b[49m\u001b[43m(\u001b[49m\u001b[43mfile_data\u001b[49m\u001b[43m)\u001b[49m\n\u001b[1;32m     53\u001b[0m \u001b[38;5;66;03m# Write parsed data to CSV file\u001b[39;00m\n\u001b[1;32m     54\u001b[0m csv_filename \u001b[38;5;241m=\u001b[39m \u001b[38;5;124m'\u001b[39m\u001b[38;5;124moutput.csv\u001b[39m\u001b[38;5;124m'\u001b[39m\n",
      "Cell \u001b[0;32mIn[3], line 41\u001b[0m, in \u001b[0;36mparse_data\u001b[0;34m(data)\u001b[0m\n\u001b[1;32m     39\u001b[0m     \u001b[38;5;28;01mif\u001b[39;00m address_match:\n\u001b[1;32m     40\u001b[0m         address, address_type \u001b[38;5;241m=\u001b[39m address_match\u001b[38;5;241m.\u001b[39mgroups()\n\u001b[0;32m---> 41\u001b[0m         parsed_data\u001b[38;5;241m.\u001b[39mappend([date, time, event_type, \u001b[43mrssi\u001b[49m, company, data_value, address, address_type])\n\u001b[1;32m     43\u001b[0m \u001b[38;5;28;01mreturn\u001b[39;00m parsed_data\n",
      "\u001b[0;31mUnboundLocalError\u001b[0m: local variable 'rssi' referenced before assignment"
     ]
    }
   ],
   "source": [
    "import re\n",
    "import csv\n",
    "\n",
    "# Function to parse the data and return a list of records\n",
    "def parse_data(data):\n",
    "    date_time_pattern = re.compile(r\"(\\d{4}-\\d{2}-\\d{2}) (\\d{2}:\\d{2}:\\d{2}\\.\\d+)\")\n",
    "    event_type_pattern = re.compile(r\"(MGMT Event|HCI Event):\")\n",
    "    rssi_pattern = re.compile(r\"RSSI: (-?\\d+) dBm\")\n",
    "    company_pattern = re.compile(r\"Company: (.+?) \\((\\d+)\\)\")\n",
    "    data_pattern = re.compile(r\"Data: (.+)\")\n",
    "    address_pattern = re.compile(r\"Address: (.+) \\((\\w+)\\)\")\n",
    "\n",
    "    parsed_data = []\n",
    "\n",
    "\n",
    "    date, time, event_type, rssi, company, data_value, address, address_type = None, None, None, None, None, None, None, None\n",
    "    \n",
    "    lines = data.strip().split('\\n')\n",
    "    for line in lines:\n",
    "        date_match = date_time_pattern.search(line)\n",
    "        event_type_match = event_type_pattern.search(line)\n",
    "        rssi_match = rssi_pattern.search(line)\n",
    "        company_match = company_pattern.search(line)\n",
    "        data_match = data_pattern.search(line)\n",
    "        address_match = address_pattern.search(line)\n",
    "\n",
    "        if date_match:\n",
    "            date, time = date_match.groups()\n",
    "\n",
    "        if event_type_match:\n",
    "            event_type = event_type_match.group(1)\n",
    "\n",
    "        if rssi_match:\n",
    "            rssi = rssi_match.group(1)\n",
    "\n",
    "        if company_match:\n",
    "            company, _ = company_match.groups()\n",
    "\n",
    "        if data_match:\n",
    "            data_value = data_match.group(1)\n",
    "\n",
    "        if address_match:\n",
    "            address, address_type = address_match.groups()\n",
    "            parsed_data.append([date, time, event_type, rssi, company, data_value, address, address_type])\n",
    "\n",
    "    return parsed_data\n",
    "\n",
    "# Read data from the text file\n",
    "file_path = './blCapWedMensa130014000.txt'  # Replace with the actual path to your text file\n",
    "with open(file_path, 'r') as file:\n",
    "    file_data = file.read()\n",
    "\n",
    "# Parse the data\n",
    "parsed_data = parse_data(file_data)\n",
    "\n",
    "# Write parsed data to CSV file\n",
    "csv_filename = 'output.csv'\n",
    "with open(csv_filename, 'w', newline='') as csvfile:\n",
    "    csv_writer = csv.writer(csvfile)\n",
    "    csv_writer.writerow(['Date', 'Time', 'Event Type', 'RSSI', 'Company', 'Data', 'Address', 'Address Type'])\n",
    "    csv_writer.writerows(parsed_data)\n",
    "\n",
    "print(f\"Data has been parsed and saved to {csv_filename}.\")\n"
   ]
  },
  {
   "cell_type": "code",
   "execution_count": null,
   "metadata": {},
   "outputs": [],
   "source": []
  }
 ],
 "metadata": {
  "kernelspec": {
   "display_name": "Python 3 (ipykernel)",
   "language": "python",
   "name": "python3"
  },
  "language_info": {
   "codemirror_mode": {
    "name": "ipython",
    "version": 3
   },
   "file_extension": ".py",
   "mimetype": "text/x-python",
   "name": "python",
   "nbconvert_exporter": "python",
   "pygments_lexer": "ipython3",
   "version": "3.10.9"
  }
 },
 "nbformat": 4,
 "nbformat_minor": 4
}
