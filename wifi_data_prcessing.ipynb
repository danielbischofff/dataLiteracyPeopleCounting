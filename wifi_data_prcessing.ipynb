{
 "cells": [
  {
   "cell_type": "code",
   "execution_count": 30,
   "id": "initial_id",
   "metadata": {
    "collapsed": true,
    "ExecuteTime": {
     "end_time": "2024-01-07T12:28:38.778500100Z",
     "start_time": "2024-01-07T12:28:38.773356900Z"
    }
   },
   "outputs": [],
   "source": [
    "import pandas as pd\n",
    "from scapy.all import PcapReader\n",
    "import os \n",
    "from datetime import datetime \n",
    "\n",
    "from scapy.layers.dot11 import Dot11"
   ]
  },
  {
   "cell_type": "code",
   "execution_count": 89,
   "outputs": [],
   "source": [
    "def read_pcapng(filename):\n",
    "    df = pd.DataFrame(columns=['Timestamp', 'Sender', 'Receiver', 'Signal-Strength'])\n",
    "\n",
    "    for pkt in PcapReader(filename):\n",
    "        if pkt.haslayer('Dot11'):\n",
    "            timestamp = datetime.fromtimestamp(float(pkt.time))\n",
    "            rssi =  pkt.getlayer('RadioTap').dBm_AntSignal\n",
    "            sender =  pkt.addr2\n",
    "            receiver =  pkt.addr1\n",
    "        else:\n",
    "            print('this package is not a wifi package')\n",
    "            continue\n",
    "\n",
    "        new_row = pd.DataFrame({'Timestamp': [timestamp], 'Sender': [sender], 'Receiver': [receiver], 'Signal-Strength': [rssi]})\n",
    "        df = pd.concat([df, new_row], ignore_index=True)\n",
    "\n",
    "    return df\n"
   ],
   "metadata": {
    "collapsed": false,
    "ExecuteTime": {
     "end_time": "2024-01-07T13:12:17.164953200Z",
     "start_time": "2024-01-07T13:12:17.156921700Z"
    }
   },
   "id": "4ee7211e0d122302"
  },
  {
   "cell_type": "code",
   "execution_count": 90,
   "outputs": [
    {
     "name": "stderr",
     "output_type": "stream",
     "text": [
      "C:\\Users\\phili\\AppData\\Local\\Temp\\ipykernel_13688\\2312789360.py:15: FutureWarning: The behavior of DataFrame concatenation with empty or all-NA entries is deprecated. In a future version, this will no longer exclude empty or all-NA columns when determining the result dtypes. To retain the old behavior, exclude the relevant entries before the concat operation.\n",
      "  df = pd.concat([df, new_row], ignore_index=True)\n"
     ]
    },
    {
     "name": "stdout",
     "output_type": "stream",
     "text": [
      "                      Timestamp             Sender           Receiver  \\\n",
      "0    2023-12-12 08:26:31.261669  ea:f5:71:1e:46:bc  00:f6:63:ad:8a:a0   \n",
      "1    2023-12-12 08:26:31.294627  ea:f5:71:1e:46:bc  00:f6:63:ad:8a:a0   \n",
      "2    2023-12-12 08:26:31.879087  ea:f5:71:1e:46:bc  00:f6:63:ad:8a:a0   \n",
      "3    2023-12-12 08:26:31.897903               None  ea:f5:71:1e:46:bc   \n",
      "4    2023-12-12 08:26:32.782836  3a:cf:d1:b9:84:d6  ff:ff:ff:ff:ff:ff   \n",
      "...                         ...                ...                ...   \n",
      "2425 2023-12-12 08:36:23.525919               None  ac:bd:70:d8:71:cc   \n",
      "2426 2023-12-12 08:36:25.542764               None  26:3b:22:93:ac:e6   \n",
      "2427 2023-12-12 08:36:26.894979  16:cf:27:01:cb:7b  ff:ff:ff:ff:ff:ff   \n",
      "2428 2023-12-12 08:36:26.975547  16:cf:27:01:cb:7b  ff:ff:ff:ff:ff:ff   \n",
      "2429 2023-12-12 08:36:26.995736  16:cf:27:01:cb:7b  ff:ff:ff:ff:ff:ff   \n",
      "\n",
      "     Signal-Strength  \n",
      "0                -81  \n",
      "1                -83  \n",
      "2                -84  \n",
      "3                -63  \n",
      "4                -70  \n",
      "...              ...  \n",
      "2425             -82  \n",
      "2426             -61  \n",
      "2427             -80  \n",
      "2428             -75  \n",
      "2429             -74  \n",
      "\n",
      "[2430 rows x 4 columns]\n"
     ]
    }
   ],
   "source": [
    "filepath = os.getcwd()\n",
    "# print(filepath)\n",
    "filepath += \"\\\\Lecture-Data\\\\Lecture-12-12_00002_20231212082631.pcapng\"\n",
    "\n",
    "df = read_pcapng(filepath)\n",
    "\n",
    "print(df)\n"
   ],
   "metadata": {
    "collapsed": false,
    "ExecuteTime": {
     "end_time": "2024-01-07T13:12:20.593328800Z",
     "start_time": "2024-01-07T13:12:17.554436100Z"
    }
   },
   "id": "c1b9863ed88f8a74"
  },
  {
   "cell_type": "code",
   "execution_count": 97,
   "outputs": [
    {
     "name": "stdout",
     "output_type": "stream",
     "text": [
      "487\n"
     ]
    }
   ],
   "source": [
    "addresses = pd.concat((df['Sender'].astype(str), df['Receiver'].astype(str)))\n",
    "\n",
    "print(addresses.nunique())"
   ],
   "metadata": {
    "collapsed": false,
    "ExecuteTime": {
     "end_time": "2024-01-07T13:20:09.714900300Z",
     "start_time": "2024-01-07T13:20:09.706892200Z"
    }
   },
   "id": "cc6f6a0182a2dc49"
  },
  {
   "cell_type": "code",
   "execution_count": 99,
   "outputs": [
    {
     "name": "stderr",
     "output_type": "stream",
     "text": [
      "C:\\Users\\phili\\AppData\\Local\\Temp\\ipykernel_13688\\2312789360.py:15: FutureWarning: The behavior of DataFrame concatenation with empty or all-NA entries is deprecated. In a future version, this will no longer exclude empty or all-NA columns when determining the result dtypes. To retain the old behavior, exclude the relevant entries before the concat operation.\n",
      "  df = pd.concat([df, new_row], ignore_index=True)\n",
      "C:\\Users\\phili\\AppData\\Local\\Temp\\ipykernel_13688\\3338776499.py:20: FutureWarning: The behavior of DataFrame concatenation with empty or all-NA entries is deprecated. In a future version, this will no longer exclude empty or all-NA columns when determining the result dtypes. To retain the old behavior, exclude the relevant entries before the concat operation.\n",
      "  df = pd.concat([df, read_pcapng(filename)], ignore_index=True)\n",
      "C:\\Users\\phili\\AppData\\Local\\Temp\\ipykernel_13688\\2312789360.py:15: FutureWarning: The behavior of DataFrame concatenation with empty or all-NA entries is deprecated. In a future version, this will no longer exclude empty or all-NA columns when determining the result dtypes. To retain the old behavior, exclude the relevant entries before the concat operation.\n",
      "  df = pd.concat([df, new_row], ignore_index=True)\n",
      "C:\\Users\\phili\\AppData\\Local\\Temp\\ipykernel_13688\\2312789360.py:15: FutureWarning: The behavior of DataFrame concatenation with empty or all-NA entries is deprecated. In a future version, this will no longer exclude empty or all-NA columns when determining the result dtypes. To retain the old behavior, exclude the relevant entries before the concat operation.\n",
      "  df = pd.concat([df, new_row], ignore_index=True)\n",
      "C:\\Users\\phili\\AppData\\Local\\Temp\\ipykernel_13688\\2312789360.py:15: FutureWarning: The behavior of DataFrame concatenation with empty or all-NA entries is deprecated. In a future version, this will no longer exclude empty or all-NA columns when determining the result dtypes. To retain the old behavior, exclude the relevant entries before the concat operation.\n",
      "  df = pd.concat([df, new_row], ignore_index=True)\n",
      "C:\\Users\\phili\\AppData\\Local\\Temp\\ipykernel_13688\\2312789360.py:15: FutureWarning: The behavior of DataFrame concatenation with empty or all-NA entries is deprecated. In a future version, this will no longer exclude empty or all-NA columns when determining the result dtypes. To retain the old behavior, exclude the relevant entries before the concat operation.\n",
      "  df = pd.concat([df, new_row], ignore_index=True)\n",
      "C:\\Users\\phili\\AppData\\Local\\Temp\\ipykernel_13688\\2312789360.py:15: FutureWarning: The behavior of DataFrame concatenation with empty or all-NA entries is deprecated. In a future version, this will no longer exclude empty or all-NA columns when determining the result dtypes. To retain the old behavior, exclude the relevant entries before the concat operation.\n",
      "  df = pd.concat([df, new_row], ignore_index=True)\n",
      "C:\\Users\\phili\\AppData\\Local\\Temp\\ipykernel_13688\\2312789360.py:15: FutureWarning: The behavior of DataFrame concatenation with empty or all-NA entries is deprecated. In a future version, this will no longer exclude empty or all-NA columns when determining the result dtypes. To retain the old behavior, exclude the relevant entries before the concat operation.\n",
      "  df = pd.concat([df, new_row], ignore_index=True)\n",
      "C:\\Users\\phili\\AppData\\Local\\Temp\\ipykernel_13688\\2312789360.py:15: FutureWarning: The behavior of DataFrame concatenation with empty or all-NA entries is deprecated. In a future version, this will no longer exclude empty or all-NA columns when determining the result dtypes. To retain the old behavior, exclude the relevant entries before the concat operation.\n",
      "  df = pd.concat([df, new_row], ignore_index=True)\n",
      "C:\\Users\\phili\\AppData\\Local\\Temp\\ipykernel_13688\\2312789360.py:15: FutureWarning: The behavior of DataFrame concatenation with empty or all-NA entries is deprecated. In a future version, this will no longer exclude empty or all-NA columns when determining the result dtypes. To retain the old behavior, exclude the relevant entries before the concat operation.\n",
      "  df = pd.concat([df, new_row], ignore_index=True)\n",
      "C:\\Users\\phili\\AppData\\Local\\Temp\\ipykernel_13688\\2312789360.py:15: FutureWarning: The behavior of DataFrame concatenation with empty or all-NA entries is deprecated. In a future version, this will no longer exclude empty or all-NA columns when determining the result dtypes. To retain the old behavior, exclude the relevant entries before the concat operation.\n",
      "  df = pd.concat([df, new_row], ignore_index=True)\n",
      "C:\\Users\\phili\\AppData\\Local\\Temp\\ipykernel_13688\\2312789360.py:15: FutureWarning: The behavior of DataFrame concatenation with empty or all-NA entries is deprecated. In a future version, this will no longer exclude empty or all-NA columns when determining the result dtypes. To retain the old behavior, exclude the relevant entries before the concat operation.\n",
      "  df = pd.concat([df, new_row], ignore_index=True)\n",
      "C:\\Users\\phili\\AppData\\Local\\Temp\\ipykernel_13688\\2312789360.py:15: FutureWarning: The behavior of DataFrame concatenation with empty or all-NA entries is deprecated. In a future version, this will no longer exclude empty or all-NA columns when determining the result dtypes. To retain the old behavior, exclude the relevant entries before the concat operation.\n",
      "  df = pd.concat([df, new_row], ignore_index=True)\n",
      "C:\\Users\\phili\\AppData\\Local\\Temp\\ipykernel_13688\\2312789360.py:15: FutureWarning: The behavior of DataFrame concatenation with empty or all-NA entries is deprecated. In a future version, this will no longer exclude empty or all-NA columns when determining the result dtypes. To retain the old behavior, exclude the relevant entries before the concat operation.\n",
      "  df = pd.concat([df, new_row], ignore_index=True)\n",
      "C:\\Users\\phili\\AppData\\Local\\Temp\\ipykernel_13688\\2312789360.py:15: FutureWarning: The behavior of DataFrame concatenation with empty or all-NA entries is deprecated. In a future version, this will no longer exclude empty or all-NA columns when determining the result dtypes. To retain the old behavior, exclude the relevant entries before the concat operation.\n",
      "  df = pd.concat([df, new_row], ignore_index=True)\n",
      "C:\\Users\\phili\\AppData\\Local\\Temp\\ipykernel_13688\\2312789360.py:15: FutureWarning: The behavior of DataFrame concatenation with empty or all-NA entries is deprecated. In a future version, this will no longer exclude empty or all-NA columns when determining the result dtypes. To retain the old behavior, exclude the relevant entries before the concat operation.\n",
      "  df = pd.concat([df, new_row], ignore_index=True)\n",
      "C:\\Users\\phili\\AppData\\Local\\Temp\\ipykernel_13688\\2312789360.py:15: FutureWarning: The behavior of DataFrame concatenation with empty or all-NA entries is deprecated. In a future version, this will no longer exclude empty or all-NA columns when determining the result dtypes. To retain the old behavior, exclude the relevant entries before the concat operation.\n",
      "  df = pd.concat([df, new_row], ignore_index=True)\n",
      "C:\\Users\\phili\\AppData\\Local\\Temp\\ipykernel_13688\\2312789360.py:15: FutureWarning: The behavior of DataFrame concatenation with empty or all-NA entries is deprecated. In a future version, this will no longer exclude empty or all-NA columns when determining the result dtypes. To retain the old behavior, exclude the relevant entries before the concat operation.\n",
      "  df = pd.concat([df, new_row], ignore_index=True)\n",
      "C:\\Users\\phili\\AppData\\Local\\Temp\\ipykernel_13688\\2312789360.py:15: FutureWarning: The behavior of DataFrame concatenation with empty or all-NA entries is deprecated. In a future version, this will no longer exclude empty or all-NA columns when determining the result dtypes. To retain the old behavior, exclude the relevant entries before the concat operation.\n",
      "  df = pd.concat([df, new_row], ignore_index=True)\n",
      "C:\\Users\\phili\\AppData\\Local\\Temp\\ipykernel_13688\\2312789360.py:15: FutureWarning: The behavior of DataFrame concatenation with empty or all-NA entries is deprecated. In a future version, this will no longer exclude empty or all-NA columns when determining the result dtypes. To retain the old behavior, exclude the relevant entries before the concat operation.\n",
      "  df = pd.concat([df, new_row], ignore_index=True)\n",
      "C:\\Users\\phili\\AppData\\Local\\Temp\\ipykernel_13688\\2312789360.py:15: FutureWarning: The behavior of DataFrame concatenation with empty or all-NA entries is deprecated. In a future version, this will no longer exclude empty or all-NA columns when determining the result dtypes. To retain the old behavior, exclude the relevant entries before the concat operation.\n",
      "  df = pd.concat([df, new_row], ignore_index=True)\n",
      "C:\\Users\\phili\\AppData\\Local\\Temp\\ipykernel_13688\\2312789360.py:15: FutureWarning: The behavior of DataFrame concatenation with empty or all-NA entries is deprecated. In a future version, this will no longer exclude empty or all-NA columns when determining the result dtypes. To retain the old behavior, exclude the relevant entries before the concat operation.\n",
      "  df = pd.concat([df, new_row], ignore_index=True)\n",
      "C:\\Users\\phili\\AppData\\Local\\Temp\\ipykernel_13688\\2312789360.py:15: FutureWarning: The behavior of DataFrame concatenation with empty or all-NA entries is deprecated. In a future version, this will no longer exclude empty or all-NA columns when determining the result dtypes. To retain the old behavior, exclude the relevant entries before the concat operation.\n",
      "  df = pd.concat([df, new_row], ignore_index=True)\n",
      "C:\\Users\\phili\\AppData\\Local\\Temp\\ipykernel_13688\\2312789360.py:15: FutureWarning: The behavior of DataFrame concatenation with empty or all-NA entries is deprecated. In a future version, this will no longer exclude empty or all-NA columns when determining the result dtypes. To retain the old behavior, exclude the relevant entries before the concat operation.\n",
      "  df = pd.concat([df, new_row], ignore_index=True)\n"
     ]
    },
    {
     "name": "stdout",
     "output_type": "stream",
     "text": [
      "                       Timestamp             Sender           Receiver  \\\n",
      "0     2023-12-12 08:26:31.261669  ea:f5:71:1e:46:bc  00:f6:63:ad:8a:a0   \n",
      "1     2023-12-12 08:26:31.294627  ea:f5:71:1e:46:bc  00:f6:63:ad:8a:a0   \n",
      "2     2023-12-12 08:26:31.879087  ea:f5:71:1e:46:bc  00:f6:63:ad:8a:a0   \n",
      "3     2023-12-12 08:26:31.897903               None  ea:f5:71:1e:46:bc   \n",
      "4     2023-12-12 08:26:32.782836  3a:cf:d1:b9:84:d6  ff:ff:ff:ff:ff:ff   \n",
      "...                          ...                ...                ...   \n",
      "99888 2023-12-12 08:15:03.673286               None  d0:16:b4:fc:98:c3   \n",
      "99889 2023-12-12 08:15:03.802218  de:38:e5:24:8d:9d  ff:ff:ff:ff:ff:ff   \n",
      "99890 2023-12-12 08:15:05.086811  6e:36:4c:8b:83:ab  ff:ff:ff:ff:ff:ff   \n",
      "99891 2023-12-12 08:15:05.599234  fa:c6:91:03:73:0b  ff:ff:ff:ff:ff:ff   \n",
      "99892 2023-12-12 08:15:05.621162  fa:c6:91:03:73:0b  ff:ff:ff:ff:ff:ff   \n",
      "\n",
      "      Signal-Strength  \n",
      "0                 -81  \n",
      "1                 -83  \n",
      "2                 -84  \n",
      "3                 -63  \n",
      "4                 -70  \n",
      "...               ...  \n",
      "99888             -59  \n",
      "99889             -79  \n",
      "99890             -79  \n",
      "99891             -70  \n",
      "99892             -72  \n",
      "\n",
      "[99893 rows x 4 columns]\n"
     ]
    }
   ],
   "source": [
    "import glob\n",
    "\n",
    "filepath = os.getcwd()\n",
    "# print(filepath)\n",
    "filepath += \"\\\\Lecture-Data\"\n",
    "\n",
    "def read_multiple_pcapng(directory):\n",
    "   # Define the path to the directory containing the pcapng files\n",
    "   path = os.path.join(directory, \"*.pcapng\")\n",
    "   \n",
    "   # Identify all pcapng files in the directory\n",
    "   all_files = glob.glob(path)\n",
    "   \n",
    "   # Initialize an empty DataFrame\n",
    "   df = pd.DataFrame(columns=['Timestamp', 'Sender', 'Receiver', 'Signal-Strength'])\n",
    "   \n",
    "   # Iterate over all pcapng files\n",
    "   for filename in all_files:\n",
    "       # Read the pcapng file and append the result to the DataFrame\n",
    "       df = pd.concat([df, read_pcapng(filename)], ignore_index=True)\n",
    "   \n",
    "   return df\n",
    "\n",
    "# Call the function\n",
    "df = read_multiple_pcapng(filepath)\n",
    "\n",
    "print(df)\n"
   ],
   "metadata": {
    "collapsed": false,
    "ExecuteTime": {
     "end_time": "2024-01-07T13:24:41.203967Z",
     "start_time": "2024-01-07T13:22:38.489711500Z"
    }
   },
   "id": "240829de1492512b"
  },
  {
   "cell_type": "code",
   "execution_count": 102,
   "outputs": [
    {
     "name": "stdout",
     "output_type": "stream",
     "text": [
      "12073\n",
      "11764\n",
      "842\n"
     ]
    }
   ],
   "source": [
    "addresses = pd.concat((df['Sender'].astype(str), df['Receiver'].astype(str)))\n",
    "\n",
    "print(addresses.nunique())\n",
    "print(df['Sender'].nunique())\n",
    "print(df['Receiver'].nunique())"
   ],
   "metadata": {
    "collapsed": false,
    "ExecuteTime": {
     "end_time": "2024-01-07T13:25:55.092167400Z",
     "start_time": "2024-01-07T13:25:55.033087200Z"
    }
   },
   "id": "7ff1615ab71cbb47"
  },
  {
   "cell_type": "code",
   "execution_count": null,
   "outputs": [],
   "source": [],
   "metadata": {
    "collapsed": false
   },
   "id": "3935148e521b492c"
  }
 ],
 "metadata": {
  "kernelspec": {
   "display_name": "Python 3",
   "language": "python",
   "name": "python3"
  },
  "language_info": {
   "codemirror_mode": {
    "name": "ipython",
    "version": 2
   },
   "file_extension": ".py",
   "mimetype": "text/x-python",
   "name": "python",
   "nbconvert_exporter": "python",
   "pygments_lexer": "ipython2",
   "version": "2.7.6"
  }
 },
 "nbformat": 4,
 "nbformat_minor": 5
}
