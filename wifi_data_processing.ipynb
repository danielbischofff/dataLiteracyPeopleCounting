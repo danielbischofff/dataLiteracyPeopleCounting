{
 "cells": [
  {
   "cell_type": "code",
   "execution_count": 71,
   "id": "initial_id",
   "metadata": {
    "collapsed": true,
    "ExecuteTime": {
     "end_time": "2024-01-08T14:24:02.869312600Z",
     "start_time": "2024-01-08T14:24:02.850865600Z"
    }
   },
   "outputs": [],
   "source": [
    "import pandas as pd\n",
    "from scapy.all import PcapReader\n",
    "import os \n",
    "from datetime import datetime \n",
    "import numpy as np\n",
    "from tqdm import tqdm\n",
    "\n",
    "from scapy.layers.dot11 import Dot11"
   ]
  },
  {
   "cell_type": "code",
   "execution_count": 35,
   "outputs": [],
   "source": [
    "def read_pcapng(filename):\n",
    "    df = pd.DataFrame(columns=['Timestamp', 'Sender', 'Receiver', 'Signal-Strength'])\n",
    "\n",
    "    for pkt in PcapReader(filename):\n",
    "        if pkt.haslayer('Dot11'):\n",
    "            timestamp = datetime.fromtimestamp(float(pkt.time))\n",
    "            rssi =  pkt.getlayer('RadioTap').dBm_AntSignal\n",
    "            sender =  pkt.addr2\n",
    "            receiver =  pkt.addr1\n",
    "        else:\n",
    "            print('this package is not a wifi package')\n",
    "            continue\n",
    "\n",
    "        new_row = pd.DataFrame({'Timestamp': [timestamp], 'Sender': [sender], 'Receiver': [receiver], 'Signal-Strength': [rssi]})\n",
    "        df = pd.concat([df, new_row], ignore_index=True)\n",
    "\n",
    "    return df\n"
   ],
   "metadata": {
    "collapsed": false,
    "ExecuteTime": {
     "end_time": "2024-01-08T13:44:07.256994400Z",
     "start_time": "2024-01-08T13:44:07.237131900Z"
    }
   },
   "id": "4ee7211e0d122302"
  },
  {
   "cell_type": "code",
   "execution_count": 36,
   "outputs": [
    {
     "name": "stderr",
     "output_type": "stream",
     "text": [
      "C:\\Users\\Philipp\\AppData\\Local\\Temp\\ipykernel_13024\\1954771597.py:15: FutureWarning: The behavior of DataFrame concatenation with empty or all-NA entries is deprecated. In a future version, this will no longer exclude empty or all-NA columns when determining the result dtypes. To retain the old behavior, exclude the relevant entries before the concat operation.\n",
      "  df = pd.concat([df, new_row], ignore_index=True)\n"
     ]
    },
    {
     "name": "stdout",
     "output_type": "stream",
     "text": [
      "                      Timestamp             Sender           Receiver  \\\n",
      "0    2023-12-12 08:26:31.261669  ea:f5:71:1e:46:bc  00:f6:63:ad:8a:a0   \n",
      "1    2023-12-12 08:26:31.294627  ea:f5:71:1e:46:bc  00:f6:63:ad:8a:a0   \n",
      "2    2023-12-12 08:26:31.879087  ea:f5:71:1e:46:bc  00:f6:63:ad:8a:a0   \n",
      "3    2023-12-12 08:26:31.897903               None  ea:f5:71:1e:46:bc   \n",
      "4    2023-12-12 08:26:32.782836  3a:cf:d1:b9:84:d6  ff:ff:ff:ff:ff:ff   \n",
      "...                         ...                ...                ...   \n",
      "2425 2023-12-12 08:36:23.525919               None  ac:bd:70:d8:71:cc   \n",
      "2426 2023-12-12 08:36:25.542764               None  26:3b:22:93:ac:e6   \n",
      "2427 2023-12-12 08:36:26.894979  16:cf:27:01:cb:7b  ff:ff:ff:ff:ff:ff   \n",
      "2428 2023-12-12 08:36:26.975547  16:cf:27:01:cb:7b  ff:ff:ff:ff:ff:ff   \n",
      "2429 2023-12-12 08:36:26.995736  16:cf:27:01:cb:7b  ff:ff:ff:ff:ff:ff   \n",
      "\n",
      "     Signal-Strength  \n",
      "0                -81  \n",
      "1                -83  \n",
      "2                -84  \n",
      "3                -63  \n",
      "4                -70  \n",
      "...              ...  \n",
      "2425             -82  \n",
      "2426             -61  \n",
      "2427             -80  \n",
      "2428             -75  \n",
      "2429             -74  \n",
      "\n",
      "[2430 rows x 4 columns]\n"
     ]
    }
   ],
   "source": [
    "filepath = os.getcwd()\n",
    "# print(filepath)\n",
    "filepath += \"\\\\Lecture-Data\\\\Lecture-12-12_00002_20231212082631.pcapng\"\n",
    "\n",
    "df = read_pcapng(filepath)\n",
    "\n",
    "print(df)\n"
   ],
   "metadata": {
    "collapsed": false,
    "ExecuteTime": {
     "end_time": "2024-01-08T13:44:11.292014500Z",
     "start_time": "2024-01-08T13:44:08.053502200Z"
    }
   },
   "id": "c1b9863ed88f8a74"
  },
  {
   "cell_type": "code",
   "execution_count": 37,
   "outputs": [
    {
     "name": "stdout",
     "output_type": "stream",
     "text": [
      "474\n"
     ]
    }
   ],
   "source": [
    "addresses = pd.concat((df['Sender'].astype(str), df['Receiver'].astype(str)))\n",
    "addresses = addresses.drop(addresses[addresses == 'None'].index)\n",
    "\n",
    "print(addresses.nunique())"
   ],
   "metadata": {
    "collapsed": false,
    "ExecuteTime": {
     "end_time": "2024-01-08T13:44:16.965625700Z",
     "start_time": "2024-01-08T13:44:16.934328400Z"
    }
   },
   "id": "cc6f6a0182a2dc49"
  },
  {
   "cell_type": "code",
   "execution_count": 46,
   "outputs": [
    {
     "name": "stdout",
     "output_type": "stream",
     "text": [
      "[3.000e+00 2.000e+00 2.000e+00 1.000e+00 6.000e+00 2.000e+00 3.000e+00\n",
      " 2.000e+00 2.000e+00 1.000e+00 2.000e+00 9.400e+01 2.000e+00 1.000e+00\n",
      " 3.000e+00 1.000e+00 2.000e+00 2.000e+00 2.000e+00 2.000e+00 1.000e+00\n",
      " 1.200e+01 1.000e+00 2.000e+00 1.000e+00 1.000e+00 1.000e+00 2.000e+00\n",
      " 1.000e+00 1.000e+00 2.000e+00 1.000e+00 2.000e+00 1.200e+01 2.000e+00\n",
      " 1.000e+00 1.000e+00 2.000e+00 1.000e+01 1.000e+01 1.000e+00 1.000e+00\n",
      " 2.000e+00 2.000e+00 1.000e+00 1.000e+00 2.000e+00 4.000e+00 1.000e+00\n",
      " 2.000e+00 2.000e+00 6.000e+00 2.000e+00 2.000e+00 1.000e+00 8.000e+00\n",
      " 4.000e+00 1.000e+00 2.000e+00 1.000e+00 2.000e+00 2.000e+00 4.000e+00\n",
      " 4.000e+00 7.000e+00 1.000e+00 7.000e+00 2.000e+00 1.000e+00 1.000e+00\n",
      " 1.000e+00 7.400e+01 3.000e+00 3.000e+00 4.000e+00 2.000e+00 1.000e+00\n",
      " 1.000e+00 1.000e+00 3.000e+00 6.400e+01 3.000e+00 1.000e+00 2.000e+00\n",
      " 1.000e+00 2.000e+00 1.000e+00 1.000e+00 1.000e+00 1.000e+00 1.000e+00\n",
      " 1.000e+00 2.000e+00 1.000e+00 1.420e+02 1.400e+01 1.000e+00 1.000e+00\n",
      " 2.000e+00 1.000e+00 1.000e+00 2.000e+00 1.000e+00 1.000e+00 1.000e+00\n",
      " 1.000e+00 2.000e+00 3.000e+00 2.000e+00 1.000e+00 1.000e+00 1.000e+00\n",
      " 1.000e+00 8.000e+00 9.000e+00 1.000e+00 2.000e+00 1.000e+00 1.000e+00\n",
      " 1.000e+00 1.000e+00 1.000e+00 1.000e+00 3.000e+00 1.000e+00 2.000e+00\n",
      " 1.000e+00 2.000e+00 2.000e+00 1.000e+00 2.000e+00 1.000e+00 1.000e+00\n",
      " 1.000e+00 2.000e+00 2.000e+00 1.000e+00 1.000e+00 1.000e+00 1.000e+01\n",
      " 1.000e+00 1.000e+00 1.000e+00 1.000e+00 1.000e+00 1.000e+00 1.000e+01\n",
      " 2.000e+00 2.000e+00 2.000e+00 1.000e+00 2.000e+00 1.000e+00 1.000e+00\n",
      " 1.000e+00 1.000e+00 1.000e+00 2.000e+00 6.000e+01 1.000e+00 1.000e+00\n",
      " 3.000e+00 2.000e+00 1.000e+00 1.000e+00 1.000e+00 2.000e+00 3.000e+00\n",
      " 1.500e+01 1.000e+00 1.000e+00 3.000e+00 1.000e+00 1.000e+00 1.000e+00\n",
      " 2.000e+00 2.000e+00 1.000e+00 2.000e+00 4.000e+00 1.000e+00 3.000e+00\n",
      " 1.000e+00 1.000e+00 1.000e+00 1.000e+00 1.000e+00 3.000e+00 2.000e+00\n",
      " 1.000e+00 1.000e+00 2.000e+00 1.000e+00 2.000e+00 2.000e+00 1.300e+01\n",
      " 3.000e+00 4.000e+00 3.000e+00 3.000e+00 1.000e+00 1.000e+00 1.000e+00\n",
      " 4.000e+00 3.000e+01 2.000e+00 3.000e+00 3.000e+00 1.000e+00 1.000e+00\n",
      " 2.000e+00 3.000e+00 1.000e+00 1.000e+00 2.900e+01 4.000e+00 1.900e+01\n",
      " 2.000e+00 1.000e+00 2.200e+01 1.000e+00 1.000e+00 1.000e+00 1.000e+00\n",
      " 3.200e+01 3.400e+01 3.000e+00 1.000e+00 1.000e+00 1.000e+00 3.000e+00\n",
      " 2.000e+00 2.000e+00 1.000e+00 2.000e+00 2.000e+00 1.000e+00 1.200e+01\n",
      " 3.000e+00 2.000e+00 8.000e+00 2.000e+00 1.000e+00 2.000e+00 2.000e+00\n",
      " 2.000e+00 1.000e+00 1.000e+00 3.000e+00 1.000e+00 1.000e+00 2.000e+00\n",
      " 1.000e+00 1.000e+00 1.000e+00 4.000e+00 1.000e+00 1.000e+00 1.000e+00\n",
      " 4.000e+00 2.000e+00 3.000e+00 1.000e+00 1.000e+00 2.000e+00 1.000e+00\n",
      " 2.000e+00 1.000e+00 1.000e+00 1.000e+00 3.000e+00 1.000e+00 2.000e+00\n",
      " 2.000e+00 1.000e+00 1.000e+00 2.000e+00 1.000e+00 2.000e+00 1.000e+00\n",
      " 1.000e+00 1.000e+00 2.000e+00 2.000e+00 2.000e+00 1.000e+00 2.000e+00\n",
      " 2.000e+00 1.000e+00 2.000e+00 2.000e+00 1.000e+00 2.000e+00 1.000e+00\n",
      " 1.000e+00 2.000e+00 2.000e+00 1.000e+00 2.000e+00 1.000e+00 1.000e+00\n",
      " 1.000e+00 4.000e+00 2.000e+00 3.000e+00 1.000e+00 4.000e+00 2.000e+00\n",
      " 1.000e+00 2.000e+00 2.000e+00 2.000e+00 2.000e+00 2.000e+00 2.000e+00\n",
      " 1.000e+00 2.000e+00 3.000e+00 1.000e+00 1.000e+00 2.000e+00 3.000e+00\n",
      " 1.000e+00 2.000e+00 2.000e+00 2.000e+00 1.000e+00 2.000e+00 1.000e+00\n",
      " 1.000e+00 1.000e+00 2.000e+00 2.000e+00 1.000e+00 3.000e+00 1.000e+00\n",
      " 1.000e+00 1.000e+00 1.000e+00 2.000e+00 1.270e+02 3.000e+00 1.000e+00\n",
      " 2.000e+00 2.000e+00 6.800e+01 1.000e+00 1.000e+00 2.000e+00 2.000e+00\n",
      " 2.000e+00 1.000e+00 3.000e+00 1.000e+00 1.000e+00 1.100e+01 2.000e+00\n",
      " 1.000e+00 1.000e+00 1.000e+00 1.000e+00 1.000e+00 1.000e+00 1.000e+00\n",
      " 1.000e+00 2.000e+00 1.000e+00 2.000e+00 1.000e+00 1.000e+00 1.000e+00\n",
      " 1.000e+00 1.000e+00 2.000e+00 1.000e+00 2.000e+00 2.000e+00 1.000e+00\n",
      " 1.000e+00 2.000e+00 1.000e+00 1.000e+00 3.000e+00 5.000e+00 4.000e+00\n",
      " 2.000e+00 2.000e+00 2.000e+00 1.000e+00 2.000e+00 2.000e+00 1.000e+00\n",
      " 2.000e+00 3.000e+00 1.000e+00 3.000e+00 2.000e+00 2.000e+00 1.000e+00\n",
      " 6.000e+00 9.000e+00 1.000e+00 1.000e+00 1.600e+01 3.000e+00 1.000e+00\n",
      " 4.000e+00 2.000e+00 2.000e+00 1.000e+00 1.000e+00 1.000e+00 2.000e+00\n",
      " 2.000e+00 1.000e+00 1.000e+00 2.000e+00 1.000e+00 2.000e+00 1.000e+00\n",
      " 2.000e+00 1.000e+00 1.000e+00 1.000e+00 1.000e+00 1.000e+00 1.000e+00\n",
      " 1.000e+00 1.000e+00 4.000e+00 4.000e+00 2.000e+00 1.000e+00 1.000e+00\n",
      " 1.000e+00 2.000e+00 1.000e+00 1.000e+00 1.000e+00 1.000e+00 1.000e+00\n",
      " 1.000e+00 1.000e+00 1.000e+00 1.000e+00 1.000e+00 1.000e+00 1.000e+00\n",
      " 4.000e+00 3.000e+00 1.000e+00 2.000e+00 1.000e+00 1.000e+00 4.000e+00\n",
      " 1.000e+00 2.000e+00 6.000e+00 1.000e+00 2.000e+00 2.000e+00 3.000e+00\n",
      " 1.044e+03 9.400e+01 1.500e+01 6.000e+00 4.000e+00 7.000e+01 4.000e+00\n",
      " 1.600e+01 1.180e+02 1.600e+01 3.000e+00 5.000e+00]\n"
     ]
    }
   ],
   "source": [
    "unique_addresses = addresses.unique()\n",
    "addresses_counts = np.zeros(addresses.nunique())\n",
    "for index, address in enumerate(unique_addresses):\n",
    "    addresses_counts[index] = addresses[addresses == address].count()\n",
    "\n",
    "print(addresses_counts)"
   ],
   "metadata": {
    "collapsed": false,
    "ExecuteTime": {
     "end_time": "2024-01-08T13:54:09.566188400Z",
     "start_time": "2024-01-08T13:54:09.451350500Z"
    }
   },
   "id": "e012783283ecc6d1"
  },
  {
   "cell_type": "code",
   "execution_count": 47,
   "outputs": [
    {
     "name": "stderr",
     "output_type": "stream",
     "text": [
      "C:\\Users\\Philipp\\AppData\\Local\\Temp\\ipykernel_13024\\1954771597.py:15: FutureWarning: The behavior of DataFrame concatenation with empty or all-NA entries is deprecated. In a future version, this will no longer exclude empty or all-NA columns when determining the result dtypes. To retain the old behavior, exclude the relevant entries before the concat operation.\n",
      "  df = pd.concat([df, new_row], ignore_index=True)\n",
      "C:\\Users\\Philipp\\AppData\\Local\\Temp\\ipykernel_13024\\3338776499.py:20: FutureWarning: The behavior of DataFrame concatenation with empty or all-NA entries is deprecated. In a future version, this will no longer exclude empty or all-NA columns when determining the result dtypes. To retain the old behavior, exclude the relevant entries before the concat operation.\n",
      "  df = pd.concat([df, read_pcapng(filename)], ignore_index=True)\n",
      "C:\\Users\\Philipp\\AppData\\Local\\Temp\\ipykernel_13024\\1954771597.py:15: FutureWarning: The behavior of DataFrame concatenation with empty or all-NA entries is deprecated. In a future version, this will no longer exclude empty or all-NA columns when determining the result dtypes. To retain the old behavior, exclude the relevant entries before the concat operation.\n",
      "  df = pd.concat([df, new_row], ignore_index=True)\n",
      "C:\\Users\\Philipp\\AppData\\Local\\Temp\\ipykernel_13024\\1954771597.py:15: FutureWarning: The behavior of DataFrame concatenation with empty or all-NA entries is deprecated. In a future version, this will no longer exclude empty or all-NA columns when determining the result dtypes. To retain the old behavior, exclude the relevant entries before the concat operation.\n",
      "  df = pd.concat([df, new_row], ignore_index=True)\n",
      "C:\\Users\\Philipp\\AppData\\Local\\Temp\\ipykernel_13024\\1954771597.py:15: FutureWarning: The behavior of DataFrame concatenation with empty or all-NA entries is deprecated. In a future version, this will no longer exclude empty or all-NA columns when determining the result dtypes. To retain the old behavior, exclude the relevant entries before the concat operation.\n",
      "  df = pd.concat([df, new_row], ignore_index=True)\n",
      "C:\\Users\\Philipp\\AppData\\Local\\Temp\\ipykernel_13024\\1954771597.py:15: FutureWarning: The behavior of DataFrame concatenation with empty or all-NA entries is deprecated. In a future version, this will no longer exclude empty or all-NA columns when determining the result dtypes. To retain the old behavior, exclude the relevant entries before the concat operation.\n",
      "  df = pd.concat([df, new_row], ignore_index=True)\n",
      "C:\\Users\\Philipp\\AppData\\Local\\Temp\\ipykernel_13024\\1954771597.py:15: FutureWarning: The behavior of DataFrame concatenation with empty or all-NA entries is deprecated. In a future version, this will no longer exclude empty or all-NA columns when determining the result dtypes. To retain the old behavior, exclude the relevant entries before the concat operation.\n",
      "  df = pd.concat([df, new_row], ignore_index=True)\n",
      "C:\\Users\\Philipp\\AppData\\Local\\Temp\\ipykernel_13024\\1954771597.py:15: FutureWarning: The behavior of DataFrame concatenation with empty or all-NA entries is deprecated. In a future version, this will no longer exclude empty or all-NA columns when determining the result dtypes. To retain the old behavior, exclude the relevant entries before the concat operation.\n",
      "  df = pd.concat([df, new_row], ignore_index=True)\n",
      "C:\\Users\\Philipp\\AppData\\Local\\Temp\\ipykernel_13024\\1954771597.py:15: FutureWarning: The behavior of DataFrame concatenation with empty or all-NA entries is deprecated. In a future version, this will no longer exclude empty or all-NA columns when determining the result dtypes. To retain the old behavior, exclude the relevant entries before the concat operation.\n",
      "  df = pd.concat([df, new_row], ignore_index=True)\n",
      "C:\\Users\\Philipp\\AppData\\Local\\Temp\\ipykernel_13024\\1954771597.py:15: FutureWarning: The behavior of DataFrame concatenation with empty or all-NA entries is deprecated. In a future version, this will no longer exclude empty or all-NA columns when determining the result dtypes. To retain the old behavior, exclude the relevant entries before the concat operation.\n",
      "  df = pd.concat([df, new_row], ignore_index=True)\n",
      "C:\\Users\\Philipp\\AppData\\Local\\Temp\\ipykernel_13024\\1954771597.py:15: FutureWarning: The behavior of DataFrame concatenation with empty or all-NA entries is deprecated. In a future version, this will no longer exclude empty or all-NA columns when determining the result dtypes. To retain the old behavior, exclude the relevant entries before the concat operation.\n",
      "  df = pd.concat([df, new_row], ignore_index=True)\n",
      "C:\\Users\\Philipp\\AppData\\Local\\Temp\\ipykernel_13024\\1954771597.py:15: FutureWarning: The behavior of DataFrame concatenation with empty or all-NA entries is deprecated. In a future version, this will no longer exclude empty or all-NA columns when determining the result dtypes. To retain the old behavior, exclude the relevant entries before the concat operation.\n",
      "  df = pd.concat([df, new_row], ignore_index=True)\n",
      "C:\\Users\\Philipp\\AppData\\Local\\Temp\\ipykernel_13024\\1954771597.py:15: FutureWarning: The behavior of DataFrame concatenation with empty or all-NA entries is deprecated. In a future version, this will no longer exclude empty or all-NA columns when determining the result dtypes. To retain the old behavior, exclude the relevant entries before the concat operation.\n",
      "  df = pd.concat([df, new_row], ignore_index=True)\n",
      "C:\\Users\\Philipp\\AppData\\Local\\Temp\\ipykernel_13024\\1954771597.py:15: FutureWarning: The behavior of DataFrame concatenation with empty or all-NA entries is deprecated. In a future version, this will no longer exclude empty or all-NA columns when determining the result dtypes. To retain the old behavior, exclude the relevant entries before the concat operation.\n",
      "  df = pd.concat([df, new_row], ignore_index=True)\n",
      "C:\\Users\\Philipp\\AppData\\Local\\Temp\\ipykernel_13024\\1954771597.py:15: FutureWarning: The behavior of DataFrame concatenation with empty or all-NA entries is deprecated. In a future version, this will no longer exclude empty or all-NA columns when determining the result dtypes. To retain the old behavior, exclude the relevant entries before the concat operation.\n",
      "  df = pd.concat([df, new_row], ignore_index=True)\n",
      "C:\\Users\\Philipp\\AppData\\Local\\Temp\\ipykernel_13024\\1954771597.py:15: FutureWarning: The behavior of DataFrame concatenation with empty or all-NA entries is deprecated. In a future version, this will no longer exclude empty or all-NA columns when determining the result dtypes. To retain the old behavior, exclude the relevant entries before the concat operation.\n",
      "  df = pd.concat([df, new_row], ignore_index=True)\n",
      "C:\\Users\\Philipp\\AppData\\Local\\Temp\\ipykernel_13024\\1954771597.py:15: FutureWarning: The behavior of DataFrame concatenation with empty or all-NA entries is deprecated. In a future version, this will no longer exclude empty or all-NA columns when determining the result dtypes. To retain the old behavior, exclude the relevant entries before the concat operation.\n",
      "  df = pd.concat([df, new_row], ignore_index=True)\n",
      "C:\\Users\\Philipp\\AppData\\Local\\Temp\\ipykernel_13024\\1954771597.py:15: FutureWarning: The behavior of DataFrame concatenation with empty or all-NA entries is deprecated. In a future version, this will no longer exclude empty or all-NA columns when determining the result dtypes. To retain the old behavior, exclude the relevant entries before the concat operation.\n",
      "  df = pd.concat([df, new_row], ignore_index=True)\n",
      "C:\\Users\\Philipp\\AppData\\Local\\Temp\\ipykernel_13024\\1954771597.py:15: FutureWarning: The behavior of DataFrame concatenation with empty or all-NA entries is deprecated. In a future version, this will no longer exclude empty or all-NA columns when determining the result dtypes. To retain the old behavior, exclude the relevant entries before the concat operation.\n",
      "  df = pd.concat([df, new_row], ignore_index=True)\n",
      "C:\\Users\\Philipp\\AppData\\Local\\Temp\\ipykernel_13024\\1954771597.py:15: FutureWarning: The behavior of DataFrame concatenation with empty or all-NA entries is deprecated. In a future version, this will no longer exclude empty or all-NA columns when determining the result dtypes. To retain the old behavior, exclude the relevant entries before the concat operation.\n",
      "  df = pd.concat([df, new_row], ignore_index=True)\n",
      "C:\\Users\\Philipp\\AppData\\Local\\Temp\\ipykernel_13024\\1954771597.py:15: FutureWarning: The behavior of DataFrame concatenation with empty or all-NA entries is deprecated. In a future version, this will no longer exclude empty or all-NA columns when determining the result dtypes. To retain the old behavior, exclude the relevant entries before the concat operation.\n",
      "  df = pd.concat([df, new_row], ignore_index=True)\n",
      "C:\\Users\\Philipp\\AppData\\Local\\Temp\\ipykernel_13024\\1954771597.py:15: FutureWarning: The behavior of DataFrame concatenation with empty or all-NA entries is deprecated. In a future version, this will no longer exclude empty or all-NA columns when determining the result dtypes. To retain the old behavior, exclude the relevant entries before the concat operation.\n",
      "  df = pd.concat([df, new_row], ignore_index=True)\n",
      "C:\\Users\\Philipp\\AppData\\Local\\Temp\\ipykernel_13024\\1954771597.py:15: FutureWarning: The behavior of DataFrame concatenation with empty or all-NA entries is deprecated. In a future version, this will no longer exclude empty or all-NA columns when determining the result dtypes. To retain the old behavior, exclude the relevant entries before the concat operation.\n",
      "  df = pd.concat([df, new_row], ignore_index=True)\n",
      "C:\\Users\\Philipp\\AppData\\Local\\Temp\\ipykernel_13024\\1954771597.py:15: FutureWarning: The behavior of DataFrame concatenation with empty or all-NA entries is deprecated. In a future version, this will no longer exclude empty or all-NA columns when determining the result dtypes. To retain the old behavior, exclude the relevant entries before the concat operation.\n",
      "  df = pd.concat([df, new_row], ignore_index=True)\n"
     ]
    },
    {
     "name": "stdout",
     "output_type": "stream",
     "text": [
      "                       Timestamp             Sender           Receiver  \\\n",
      "0     2023-12-12 08:26:31.261669  ea:f5:71:1e:46:bc  00:f6:63:ad:8a:a0   \n",
      "1     2023-12-12 08:26:31.294627  ea:f5:71:1e:46:bc  00:f6:63:ad:8a:a0   \n",
      "2     2023-12-12 08:26:31.879087  ea:f5:71:1e:46:bc  00:f6:63:ad:8a:a0   \n",
      "3     2023-12-12 08:26:31.897903               None  ea:f5:71:1e:46:bc   \n",
      "4     2023-12-12 08:26:32.782836  3a:cf:d1:b9:84:d6  ff:ff:ff:ff:ff:ff   \n",
      "...                          ...                ...                ...   \n",
      "99888 2023-12-12 08:15:03.673286               None  d0:16:b4:fc:98:c3   \n",
      "99889 2023-12-12 08:15:03.802218  de:38:e5:24:8d:9d  ff:ff:ff:ff:ff:ff   \n",
      "99890 2023-12-12 08:15:05.086811  6e:36:4c:8b:83:ab  ff:ff:ff:ff:ff:ff   \n",
      "99891 2023-12-12 08:15:05.599234  fa:c6:91:03:73:0b  ff:ff:ff:ff:ff:ff   \n",
      "99892 2023-12-12 08:15:05.621162  fa:c6:91:03:73:0b  ff:ff:ff:ff:ff:ff   \n",
      "\n",
      "      Signal-Strength  \n",
      "0                 -81  \n",
      "1                 -83  \n",
      "2                 -84  \n",
      "3                 -63  \n",
      "4                 -70  \n",
      "...               ...  \n",
      "99888             -59  \n",
      "99889             -79  \n",
      "99890             -79  \n",
      "99891             -70  \n",
      "99892             -72  \n",
      "\n",
      "[99893 rows x 4 columns]\n"
     ]
    }
   ],
   "source": [
    "import glob\n",
    "\n",
    "filepath = os.getcwd()\n",
    "# print(filepath)\n",
    "filepath += \"\\\\Lecture-Data\"\n",
    "\n",
    "def read_multiple_pcapng(directory):\n",
    "   # Define the path to the directory containing the pcapng files\n",
    "   path = os.path.join(directory, \"*.pcapng\")\n",
    "   \n",
    "   # Identify all pcapng files in the directory\n",
    "   all_files = glob.glob(path)\n",
    "   \n",
    "   # Initialize an empty DataFrame\n",
    "   df = pd.DataFrame(columns=['Timestamp', 'Sender', 'Receiver', 'Signal-Strength'])\n",
    "   \n",
    "   # Iterate over all pcapng files\n",
    "   for filename in all_files:\n",
    "       # Read the pcapng file and append the result to the DataFrame\n",
    "       df = pd.concat([df, read_pcapng(filename)], ignore_index=True)\n",
    "   \n",
    "   return df\n",
    "\n",
    "# Call the function\n",
    "df = read_multiple_pcapng(filepath)\n",
    "\n",
    "print(df)\n"
   ],
   "metadata": {
    "collapsed": false,
    "ExecuteTime": {
     "end_time": "2024-01-08T13:56:16.116609400Z",
     "start_time": "2024-01-08T13:54:10.279792500Z"
    }
   },
   "id": "240829de1492512b"
  },
  {
   "cell_type": "code",
   "execution_count": 48,
   "outputs": [
    {
     "name": "stdout",
     "output_type": "stream",
     "text": [
      "12073\n",
      "11764\n",
      "842\n"
     ]
    }
   ],
   "source": [
    "addresses = pd.concat((df['Sender'].astype(str), df['Receiver'].astype(str)))\n",
    "\n",
    "print(addresses.nunique())\n",
    "print(df['Sender'].nunique())\n",
    "print(df['Receiver'].nunique())"
   ],
   "metadata": {
    "collapsed": false,
    "ExecuteTime": {
     "end_time": "2024-01-08T13:56:16.226389900Z",
     "start_time": "2024-01-08T13:56:16.121225300Z"
    }
   },
   "id": "7ff1615ab71cbb47"
  },
  {
   "cell_type": "code",
   "execution_count": 67,
   "outputs": [],
   "source": [
    "unique_addresses = addresses.unique()\n",
    "addresses_counts = np.zeros((addresses.nunique(), 2))"
   ],
   "metadata": {
    "collapsed": false,
    "ExecuteTime": {
     "end_time": "2024-01-08T14:20:59.394349500Z",
     "start_time": "2024-01-08T14:20:59.288165900Z"
    }
   },
   "id": "11f787f922155baf"
  },
  {
   "cell_type": "code",
   "execution_count": 73,
   "outputs": [
    {
     "name": "stderr",
     "output_type": "stream",
     "text": [
      "100%|██████████| 12073/12073 [02:50<00:00, 70.77it/s]\n"
     ]
    },
    {
     "name": "stdout",
     "output_type": "stream",
     "text": [
      "[[9.9053e+04 0.0000e+00]\n",
      " [9.9888e+04 3.0000e+00]\n",
      " [5.0000e+00 4.0000e+00]\n",
      " ...\n",
      " [9.8632e+04 9.8603e+04]\n",
      " [9.9376e+04 9.9334e+04]\n",
      " [9.9431e+04 9.9431e+04]]\n"
     ]
    }
   ],
   "source": [
    "for index, address in tqdm(enumerate(unique_addresses), total=addresses.nunique()):\n",
    "    indices = addresses[addresses == address].index\n",
    "    addresses_counts[index,1] = indices[0]\n",
    "    addresses_counts[index,0] = indices[-1]\n",
    "\n",
    "\n",
    "print(addresses_counts)"
   ],
   "metadata": {
    "collapsed": false,
    "ExecuteTime": {
     "end_time": "2024-01-08T14:28:55.585770700Z",
     "start_time": "2024-01-08T14:26:04.929169300Z"
    }
   },
   "id": "3935148e521b492c"
  },
  {
   "cell_type": "code",
   "execution_count": null,
   "outputs": [],
   "source": [],
   "metadata": {
    "collapsed": false
   },
   "id": "3829d32acaffa794"
  }
 ],
 "metadata": {
  "kernelspec": {
   "display_name": "Python 3",
   "language": "python",
   "name": "python3"
  },
  "language_info": {
   "codemirror_mode": {
    "name": "ipython",
    "version": 2
   },
   "file_extension": ".py",
   "mimetype": "text/x-python",
   "name": "python",
   "nbconvert_exporter": "python",
   "pygments_lexer": "ipython2",
   "version": "2.7.6"
  }
 },
 "nbformat": 4,
 "nbformat_minor": 5
}
