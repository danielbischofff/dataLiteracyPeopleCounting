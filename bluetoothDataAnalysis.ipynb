{
 "cells": [
  {
   "cell_type": "code",
   "execution_count": 28,
   "metadata": {
    "editable": true,
    "slideshow": {
     "slide_type": ""
    },
    "tags": []
   },
   "outputs": [],
   "source": [
    "import pandas as pd\n",
    "\n",
    "# Replace 'output.csv' with the actual path to your CSV file\n",
    "csv_filename = 'output.csv'\n",
    "\n",
    "# Load CSV file into a pandas DataFrame\n",
    "data = pd.read_csv(csv_filename)"
   ]
  },
  {
   "cell_type": "markdown",
   "metadata": {},
   "source": [
    "data.columns"
   ]
  },
  {
   "cell_type": "code",
   "execution_count": 29,
   "metadata": {},
   "outputs": [
    {
     "data": {
      "text/plain": [
       "Index(['Date', 'Time', 'Event Type', 'RSSI', 'Company', 'Data', 'Address',\n",
       "       'Address Type', 'Name'],\n",
       "      dtype='object')"
      ]
     },
     "execution_count": 29,
     "metadata": {},
     "output_type": "execute_result"
    }
   ],
   "source": [
    "data.columns"
   ]
  },
  {
   "cell_type": "code",
   "execution_count": 34,
   "metadata": {},
   "outputs": [
    {
     "name": "stdout",
     "output_type": "stream",
     "text": [
      "               Date             Time  Event Type  RSSI      Company   \n",
      "0        2023-12-06  12:00:04.019348   HCI Event   -78  Apple, Inc.  \\\n",
      "1        2023-12-06  12:00:04.025453   HCI Event   -78  Apple, Inc.   \n",
      "6        2023-12-06  12:00:04.025453   HCI Event   -78  Apple, Inc.   \n",
      "17       2023-12-06  12:00:04.025496  MGMT Event   -83  Apple, Inc.   \n",
      "18       2023-12-06  12:00:04.025496  MGMT Event   -83  Apple, Inc.   \n",
      "...             ...              ...         ...   ...          ...   \n",
      "3534804  2023-12-06  12:59:58.373063  MGMT Event   -79  Apple, Inc.   \n",
      "3534814  2023-12-06  12:59:58.424711  MGMT Event   -80  Apple, Inc.   \n",
      "3534817  2023-12-06  12:59:58.428225   HCI Event   -80  Apple, Inc.   \n",
      "3534820  2023-12-06  12:59:58.428339  MGMT Event   -80  Apple, Inc.   \n",
      "3534833  2023-12-06  12:59:58.428451  MGMT Event   -79  Apple, Inc.   \n",
      "\n",
      "                   Data            Address Address Type           Name  \n",
      "0        131f7cf2ad8b78  51:F1:F2:1D:BF:33   Resolvable            NaN  \n",
      "1        131f7cf2ad8b78  51:F1:F2:1D:BF:33   Resolvable            NaN  \n",
      "6        131f7cf2ad8b78  6B:44:F0:93:12:AA   Resolvable            NaN  \n",
      "17         371e73ad6c4a  6B:44:F0:93:12:AA   Resolvable            NaN  \n",
      "18         371e73ad6c4a  51:F1:F2:1D:BF:33   Resolvable            NaN  \n",
      "...                 ...                ...          ...            ...  \n",
      "3534804  391fb8a2b20b08  5F:7E:74:B9:B0:BC   Resolvable  LE_WH-1000XM3  \n",
      "3534814  391fb8a2b20b08  5F:7E:74:B9:B0:BC   Resolvable  LE_WH-1000XM3  \n",
      "3534817  391fb8a2b20b08  5F:7E:74:B9:B0:BC   Resolvable  LE_WH-1000XM3  \n",
      "3534820  391fb8a2b20b08  5F:7E:74:B9:B0:BC   Resolvable  LE_WH-1000XM3  \n",
      "3534833  391fb8a2b20b08  5F:7E:74:B9:B0:BC   Resolvable  LE_WH-1000XM3  \n",
      "\n",
      "[520075 rows x 9 columns]\n"
     ]
    }
   ],
   "source": [
    "print(unique_data)"
   ]
  },
  {
   "cell_type": "code",
   "execution_count": 37,
   "metadata": {},
   "outputs": [],
   "source": [
    "data['Time'] = data['Time'].str.split('.', n=1).str[0]"
   ]
  },
  {
   "cell_type": "code",
   "execution_count": 38,
   "metadata": {},
   "outputs": [],
   "source": [
    "unique_columns = ['Date', 'Time', 'Address']\n",
    "\n",
    "# Drop duplicates based on the specified columns\n",
    "unique_data = data.drop_duplicates(subset=unique_columns)\n"
   ]
  },
  {
   "cell_type": "code",
   "execution_count": 39,
   "metadata": {},
   "outputs": [
    {
     "name": "stdout",
     "output_type": "stream",
     "text": [
      "               Date      Time  Event Type  RSSI      Company            Data   \n",
      "0        2023-12-06  12:00:04   HCI Event   -78  Apple, Inc.  131f7cf2ad8b78  \\\n",
      "1        2023-12-06  12:00:04   HCI Event   -78  Apple, Inc.  131f7cf2ad8b78   \n",
      "2        2023-12-06  12:00:04   HCI Event   -78  Apple, Inc.  131f7cf2ad8b78   \n",
      "3        2023-12-06  12:00:04   HCI Event   -78  Apple, Inc.  131f7cf2ad8b78   \n",
      "4        2023-12-06  12:00:04   HCI Event   -78  Apple, Inc.  131f7cf2ad8b78   \n",
      "...             ...       ...         ...   ...          ...             ...   \n",
      "3534834  2023-12-06  12:59:58  MGMT Event   -79  Apple, Inc.  391fb8a2b20b08   \n",
      "3534835  2023-12-06  12:59:58  MGMT Event   -79  Apple, Inc.  391fb8a2b20b08   \n",
      "3534836  2023-12-06  12:59:58  MGMT Event   -79  Apple, Inc.  391fb8a2b20b08   \n",
      "3534837  2023-12-06  12:59:58  MGMT Event   -79  Apple, Inc.  391fb8a2b20b08   \n",
      "3534838  2023-12-06  12:59:58  MGMT Event   -79  Apple, Inc.  391fb8a2b20b08   \n",
      "\n",
      "                   Address Address Type           Name  \n",
      "0        51:F1:F2:1D:BF:33   Resolvable            NaN  \n",
      "1        51:F1:F2:1D:BF:33   Resolvable            NaN  \n",
      "2        51:F1:F2:1D:BF:33   Resolvable            NaN  \n",
      "3        51:F1:F2:1D:BF:33   Resolvable            NaN  \n",
      "4        51:F1:F2:1D:BF:33   Resolvable            NaN  \n",
      "...                    ...          ...            ...  \n",
      "3534834  5F:7E:74:B9:B0:BC   Resolvable  LE_WH-1000XM3  \n",
      "3534835  5F:7E:74:B9:B0:BC   Resolvable  LE_WH-1000XM3  \n",
      "3534836  5F:7E:74:B9:B0:BC   Resolvable  LE_WH-1000XM3  \n",
      "3534837  5F:7E:74:B9:B0:BC   Resolvable  LE_WH-1000XM3  \n",
      "3534838  5F:7E:74:B9:B0:BC   Resolvable  LE_WH-1000XM3  \n",
      "\n",
      "[3534839 rows x 9 columns]\n"
     ]
    }
   ],
   "source": [
    "print(data)"
   ]
  },
  {
   "cell_type": "code",
   "execution_count": 40,
   "metadata": {},
   "outputs": [
    {
     "data": {
      "text/plain": [
       "Address\n",
       "77:89:D8:DB:1B:AC    27057\n",
       "51:64:77:3E:6B:05    24151\n",
       "78:22:A1:FD:18:B4    21170\n",
       "6C:76:A1:06:17:06    20517\n",
       "7B:E8:7F:C0:37:95    19118\n",
       "                     ...  \n",
       "6E:80:4F:86:7E:AC       16\n",
       "ED:19:00:37:DA:75       15\n",
       "C1:64:57:7A:2C:67       15\n",
       "55:98:8B:81:2A:AC       14\n",
       "66:2D:0D:BB:7D:B1       14\n",
       "Name: count, Length: 2293, dtype: int64"
      ]
     },
     "execution_count": 40,
     "metadata": {},
     "output_type": "execute_result"
    }
   ],
   "source": [
    "data['Address'].value_counts()"
   ]
  },
  {
   "cell_type": "code",
   "execution_count": null,
   "metadata": {},
   "outputs": [],
   "source": []
  }
 ],
 "metadata": {
  "kernelspec": {
   "display_name": "Python 3 (ipykernel)",
   "language": "python",
   "name": "python3"
  },
  "language_info": {
   "codemirror_mode": {
    "name": "ipython",
    "version": 3
   },
   "file_extension": ".py",
   "mimetype": "text/x-python",
   "name": "python",
   "nbconvert_exporter": "python",
   "pygments_lexer": "ipython3",
   "version": "3.10.10"
  }
 },
 "nbformat": 4,
 "nbformat_minor": 4
}
