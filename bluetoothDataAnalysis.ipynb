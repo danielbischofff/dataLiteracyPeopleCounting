{
 "cells": [
  {
   "cell_type": "code",
   "execution_count": 2,
   "metadata": {
    "editable": true,
    "slideshow": {
     "slide_type": ""
    },
    "tags": []
   },
   "outputs": [
    {
     "name": "stdout",
     "output_type": "stream",
     "text": [
      "Data has been parsed and saved to output.csv.\n"
     ]
    }
   ],
   "source": [
    "import re\n",
    "import csv\n",
    "\n",
    "# Function to parse the data and return a list of records\n",
    "def parse_data(data):\n",
    "    date_time_pattern = re.compile(r\"(\\d{4}-\\d{2}-\\d{2}) (\\d{2}:\\d{2}:\\d{2}\\.\\d+)\")\n",
    "    event_type_pattern = re.compile(r\"(MGMT Event|HCI Event):\")\n",
    "    rssi_pattern = re.compile(r\"RSSI: (-?\\d+) dBm\")\n",
    "    company_pattern = re.compile(r\"Company: (.+?) \\((\\d+)\\)\")\n",
    "    name_pattern = re.compile(r\"Name \\(complete\\): (.+?)\\s\")\n",
    "    data_pattern = re.compile(r\"Data: (.+)\")\n",
    "    address_pattern = re.compile(r\"Address: (.+) \\((\\w+)\\)\")\n",
    "\n",
    "    parsed_data = []\n",
    "\n",
    "\n",
    "    date, time, event_type, rssi, company, data_value, name, address, address_type = None, None, None, None, None, None, None, None, None\n",
    "    \n",
    "    lines = data.strip().split('\\n')\n",
    "    for line in lines:\n",
    "        date_match = date_time_pattern.search(line)\n",
    "        event_type_match = event_type_pattern.search(line)\n",
    "        rssi_match = rssi_pattern.search(line)\n",
    "        company_match = company_pattern.search(line)\n",
    "        data_match = data_pattern.search(line)\n",
    "        name_match = name_pattern.search(line)\n",
    "        address_match = address_pattern.search(line)\n",
    "\n",
    "        if date_match:\n",
    "            date, time = date_match.groups()\n",
    "\n",
    "        if event_type_match:\n",
    "            event_type = event_type_match.group(1)\n",
    "\n",
    "        if rssi_match:\n",
    "            rssi = rssi_match.group(1)\n",
    "\n",
    "        if company_match:\n",
    "            company, _ = company_match.groups()\n",
    "\n",
    "        if data_match:\n",
    "            data_value = data_match.group(1)\n",
    "\n",
    "        if name_match:\n",
    "            name = name_match.groups()\n",
    "\n",
    "        if address_match:\n",
    "            address, address_type = address_match.groups()\n",
    "        \n",
    "        parsed_data.append([date, time, event_type, rssi, company, data_value, name, address, address_type])\n",
    "\n",
    "    return parsed_data\n",
    "\n",
    "# Read data from the text file\n",
    "file_path = './blCapWedMensa130014000.txt'  # Replace with the actual path to your text file\n",
    "with open(file_path, 'r') as file:\n",
    "    file_data = file.read()\n",
    "\n",
    "# Parse the data\n",
    "parsed_data = parse_data(file_data)\n",
    "\n",
    "# Write parsed data to CSV file\n",
    "csv_filename = 'output.csv'\n",
    "with open(csv_filename, 'w', newline='') as csvfile:\n",
    "    csv_writer = csv.writer(csvfile)\n",
    "    csv_writer.writerow(['Date', 'Time', 'Event Type', 'RSSI', 'Company', 'Data', 'Name', 'Address', 'Address Type'])\n",
    "    csv_writer.writerows(parsed_data)\n",
    "\n",
    "print(f\"Data has been parsed and saved to {csv_filename}.\")\n"
   ]
  },
  {
   "cell_type": "code",
   "execution_count": null,
   "metadata": {
    "editable": true,
    "slideshow": {
     "slide_type": ""
    },
    "tags": []
   },
   "outputs": [],
   "source": []
  }
 ],
 "metadata": {
  "kernelspec": {
   "display_name": "Python 3 (ipykernel)",
   "language": "python",
   "name": "python3"
  },
  "language_info": {
   "codemirror_mode": {
    "name": "ipython",
    "version": 3
   },
   "file_extension": ".py",
   "mimetype": "text/x-python",
   "name": "python",
   "nbconvert_exporter": "python",
   "pygments_lexer": "ipython3",
   "version": "3.10.10"
  }
 },
 "nbformat": 4,
 "nbformat_minor": 4
}
