{
 "cells": [
  {
   "cell_type": "code",
   "execution_count": 1791,
   "metadata": {
    "ExecuteTime": {
     "end_time": "2024-01-28T09:44:50.886621900Z",
     "start_time": "2024-01-28T09:44:49.665417600Z"
    }
   },
   "outputs": [],
   "source": [
    "import pandas as pd\n",
    "import tueplots as tue \n",
    "from tueplots import bundles, figsizes\n",
    "from tueplots.constants.color import rgb\n",
    "from tueplots.constants.color import palettes\n",
    "from matplotlib.colors import LinearSegmentedColormap\n",
    "import matplotlib.pyplot as plt\n",
    "import matplotlib.patches as patches\n",
    "from tueplots.constants import markers as marker_constants\n",
    "import numpy as np\n",
    "import joypy\n",
    "import warnings\n",
    "import concurrent.futures"
   ]
  },
  {
   "cell_type": "markdown",
   "metadata": {},
   "source": [
    "## src functions"
   ]
  },
  {
   "cell_type": "code",
   "execution_count": 1331,
   "metadata": {
    "ExecuteTime": {
     "end_time": "2024-01-28T09:44:50.886621900Z",
     "start_time": "2024-01-28T09:44:50.886621900Z"
    }
   },
   "outputs": [],
   "source": [
    "# Merge all dataframes and rename the count columns\n",
    "def rename_merge(dataframes, suffixes):\n",
    "    for i in range(len(dataframes)):\n",
    "        dataframes[i] = dataframes[i].copy()\n",
    "\n",
    "        for column in dataframes[i].columns:\n",
    "            if(column == 'frame.time'):\n",
    "                continue\n",
    "            dataframes[i].rename(columns={column: f'{column}_{suffixes[i]}'}, inplace=True)\n",
    "\n",
    "    merge_df = dataframes[0]\n",
    "\n",
    "    for dataframe in dataframes[1:]:\n",
    "        merge_df = merge_df.merge(dataframe, how='outer', on='frame.time')\n",
    "\n",
    "    return merge_df.dropna()\n",
    "\n",
    "def rename_all_columns_merge(dataframes, suffixes):\n",
    "\n",
    "    for i in range(len(dataframes)):\n",
    "        dataframes[i] = dataframes[i].copy()\n",
    "        dataframes[i].columns = [f'{col}_{suffixes[i]}' for col in dataframes[i].columns]\n",
    "\n",
    "    merge_df = dataframes[0]\n",
    "\n",
    "    for dataframe in dataframes[1:]:\n",
    "        merge_df = merge_df.merge(dataframe, how='outer', on=f'frame.time_{suffixes[i]}')\n",
    "\n",
    "    return merge_df.dropna()"
   ]
  },
  {
   "cell_type": "code",
   "execution_count": 1276,
   "metadata": {},
   "outputs": [],
   "source": [
    "#  only keeps the time of data frames\n",
    "def keepOnlyTime(data):\n",
    "    data = data.copy()\n",
    "    data['frame.time'] = data['frame.time'].dt.time.astype(str)\n",
    "    data[\"frame.time\"] = data[\"frame.time\"].str.replace(r':\\d{2}$', '', regex=True)\n",
    "\n",
    "    return data"
   ]
  },
  {
   "cell_type": "code",
   "execution_count": 1522,
   "metadata": {},
   "outputs": [],
   "source": [
    "def random_counts(enter_count):\n",
    "   r = np.random.uniform(0, 1, enter_count)\n",
    "   r_c = np.ones_like(r)\n",
    "   r_c = np.where(r >= 0.85, np.where(r >= 0.90, 0, 2 ), 1)\n",
    "   return r_c.sum()"
   ]
  },
  {
   "cell_type": "code",
   "execution_count": 1286,
   "metadata": {},
   "outputs": [],
   "source": [
    "def getcumSumMerged(data) :\n",
    "\n",
    "    data = data.copy()\n",
    "    data['count_CumSum'] = data['count_First'].cumsum() - data['count_Last'].cumsum()\n",
    "\n",
    "    return data\n"
   ]
  },
  {
   "cell_type": "code",
   "execution_count": 1222,
   "metadata": {
    "ExecuteTime": {
     "end_time": "2024-01-28T09:49:31.090170600Z",
     "start_time": "2024-01-28T09:49:31.074133300Z"
    }
   },
   "outputs": [],
   "source": [
    "def getCumSum(dataFirst, dataLast):\n",
    "    data = dataLast.copy()\n",
    "    data['count'] = dataFirst['count'].cumsum() - dataLast['count'].cumsum()\n",
    "\n",
    "    return data"
   ]
  },
  {
   "cell_type": "code",
   "execution_count": 1158,
   "metadata": {
    "ExecuteTime": {
     "end_time": "2024-01-28T09:49:31.011641300Z",
     "start_time": "2024-01-28T09:49:30.995996700Z"
    }
   },
   "outputs": [],
   "source": [
    "def ResampleToXTime(periode, data):\n",
    "\n",
    "    # Set 'time' column as index\n",
    "    # data.set_index('frame.time', inplace=True)\n",
    "\n",
    "    # Resample and sum up 'count' every x minutes\n",
    "    resampled_data = data.resample(periode + 'Min').sum()\n",
    "\n",
    "    # # Reset index\n",
    "    resampled_data.reset_index(inplace=True)\n",
    "\n",
    "    return resampled_data"
   ]
  },
  {
   "cell_type": "code",
   "execution_count": null,
   "metadata": {},
   "outputs": [],
   "source": [
    "#  only keeps the time of data frames\n",
    "def keepOnlyTime(data):\n",
    "    data = data.copy()\n",
    "    data['frame.time'] = data['frame.time'].dt.time.astype(str)\n",
    "    data[\"frame.time\"] = data[\"frame.time\"].str.replace(r':\\d{2}$', '', regex=True)\n",
    "\n",
    "    return data"
   ]
  },
  {
   "cell_type": "code",
   "execution_count": 1043,
   "metadata": {
    "ExecuteTime": {
     "end_time": "2024-01-28T09:44:50.902680800Z",
     "start_time": "2024-01-28T09:44:50.886621900Z"
    }
   },
   "outputs": [],
   "source": [
    "# To suppress all warnings\n",
    "warnings.filterwarnings(\"ignore\")"
   ]
  },
  {
   "cell_type": "markdown",
   "metadata": {},
   "source": [
    "```python\n",
    "    # example of set plot stylesheet \n",
    "    plt.rcParams.update(bundles.icml2023(column='full', nrows=1, ncols=2, usetex=False))\n",
    "\n",
    "    plt.savefig('figname_cml.pdf')\n",
    "\n",
    "``````"
   ]
  },
  {
   "cell_type": "markdown",
   "metadata": {},
   "source": [
    "# load data as csv files"
   ]
  },
  {
   "cell_type": "code",
   "execution_count": 1064,
   "metadata": {
    "ExecuteTime": {
     "end_time": "2024-01-28T09:45:19.779416400Z",
     "start_time": "2024-01-28T09:44:50.902680800Z"
    }
   },
   "outputs": [
    {
     "name": "stdout",
     "output_type": "stream",
     "text": [
      "Monday loaded\n",
      "Tuesday loaded\n",
      "Wednesday loaded\n",
      "Thursday loaded\n",
      "Friday loaded\n"
     ]
    }
   ],
   "source": [
    "onedrive_path = r\"/Users/danielbischoff/Library/CloudStorage/OneDrive-UTCloud/Documents - Dateien von Philipp Langsteiner\"\n",
    "dMonday = pd.read_csv(onedrive_path + r'/Data_literacy_mensa/Mensa_data_time_formated/080124Monday.csv')\n",
    "print(\"Monday loaded\")\n",
    "dTuesday = pd.read_csv(onedrive_path + r'/Data_literacy_mensa/Mensa_data_time_formated/090124Tuesday.csv')\n",
    "print(\"Tuesday loaded\")\n",
    "dWednesday = pd.read_csv(onedrive_path + r'/Data_literacy_mensa/Mensa_data_time_formated/100124Wednesday.csv')\n",
    "print(\"Wednesday loaded\")\n",
    "dThursday = pd.read_csv(onedrive_path + r'/Data_literacy_mensa/Mensa_data_time_formated/110124Thursday.csv')\n",
    "print(\"Thursday loaded\")\n",
    "dFriday = pd.read_csv(onedrive_path + r'/Data_literacy_mensa/Mensa_data_time_formated/120124Friday.csv')\n",
    "print(\"Friday loaded\")"
   ]
  },
  {
   "cell_type": "markdown",
   "metadata": {},
   "source": [
    "## Change data types and reasure right loaded csv"
   ]
  },
  {
   "cell_type": "code",
   "execution_count": 1067,
   "metadata": {
    "ExecuteTime": {
     "end_time": "2024-01-28T09:47:25.664002900Z",
     "start_time": "2024-01-28T09:47:25.632329300Z"
    }
   },
   "outputs": [],
   "source": [
    "def changeDataTypes(data, day):\n",
    "\n",
    "    try: \n",
    "        data['frame.time'] = pd.to_datetime(data['frame.time'], format='ISO8601')\n",
    "        data = data.drop('Unnamed: 0', axis=1)\n",
    "        data = data.reset_index(drop=True)\n",
    "    except Exception as e:\n",
    "        print(f\"There was the exception: {e} in {day}\")\n",
    "    \n",
    "    print(f\"{day} time processed\")\n",
    "\n",
    "    return data"
   ]
  },
  {
   "cell_type": "code",
   "execution_count": 1068,
   "metadata": {
    "ExecuteTime": {
     "end_time": "2024-01-28T09:49:19.095318800Z",
     "start_time": "2024-01-28T09:49:18.844096700Z"
    }
   },
   "outputs": [
    {
     "name": "stdout",
     "output_type": "stream",
     "text": [
      "Tuesday time processed\n",
      "Friday time processed\n",
      "Thursday time processed\n",
      "Monday time processed\n",
      "Wednesday time processed\n"
     ]
    }
   ],
   "source": [
    "with concurrent.futures.ThreadPoolExecutor(max_workers=5) as executor:\n",
    "    dMonday_future = executor.submit(changeDataTypes, dMonday, \"Monday\")\n",
    "    dTuesday_future = executor.submit(changeDataTypes, dTuesday, \"Tuesday\")\n",
    "    dWednesday_future = executor.submit(changeDataTypes, dWednesday, \"Wednesday\")\n",
    "    dThursday_future = executor.submit(changeDataTypes, dThursday, \"Thursday\")\n",
    "    dFriday_future = executor.submit(changeDataTypes, dFriday, \"Friday\")\n",
    "\n",
    "dMonday = dMonday_future.result()\n",
    "dTuesday = dTuesday_future.result()\n",
    "dWednesday = dWednesday_future.result()\n",
    "dThursday = dThursday_future.result()\n",
    "dFriday = dFriday_future.result()"
   ]
  },
  {
   "cell_type": "markdown",
   "metadata": {},
   "source": [
    "# filter data to keep only requested data"
   ]
  },
  {
   "cell_type": "code",
   "execution_count": 1153,
   "metadata": {
    "ExecuteTime": {
     "end_time": "2024-01-28T09:49:28.155421900Z",
     "start_time": "2024-01-28T09:49:28.089171800Z"
    }
   },
   "outputs": [],
   "source": [
    "# filter for devices that comunicate with an cisco router\n",
    "def filter(data):\n",
    "    # data = data.copy()\n",
    "    eduroam_ssid = '656475726f616d'\n",
    "\n",
    "    # The ^ tell the regular expression, that it start with the pattern that follows\n",
    "    cisco_pattern = '^' + '00:f6:63:'\n",
    "\n",
    "    d_dpa = data.loc[data['_ws.col.protocol'] == 'EAP']\n",
    "\n",
    "    # Authentication with all cisco devices\n",
    "    df_dpa_cisco = d_dpa.loc[d_dpa['wlan.sa'].str.match(cisco_pattern)]\n",
    "\n",
    "    # Authenticated mac addresses as a list\n",
    "    dpa_cisco_list = df_dpa_cisco['wlan.da'].unique().tolist()\n",
    "\n",
    "    # All data filterd for eduroam, UTGuest and Guest\n",
    "    # df = data.loc[(data[\"wlan.ssid\"] == eduroam_ssid)]\n",
    "    df = data.loc[(data[\"wlan.ssid\"] == eduroam_ssid)|(data[\"wlan.ssid\"] == \"55546775657374\" )|( data[\"wlan.ssid\"] ==\"4775657374\")]\n",
    "\n",
    "    # all unique mac addresses with the ssids\n",
    "    all_sources = df[\"wlan.sa\"].unique().tolist()\n",
    "\n",
    "    # Combination of mac addresses of the ssids and EPA\n",
    "    # combined_macs = list(set(all_sources + dpa_cisco_list))\n",
    "    combined_macs = list(set(all_sources))\n",
    "\n",
    "    # Check filter \n",
    "    diff_elements = [x for x in all_sources if x not in dpa_cisco_list]\n",
    "    \n",
    "    print(\"\\n\")\n",
    "    print(f\"Number of unqiue mac addresses verfied by cisco: {df_dpa_cisco['wlan.da'].nunique()}\")\n",
    "    print(f\"Number of unqiue mac addresses verfied by ssid: {len(all_sources)}\")\n",
    "    print(f\"Number of elemtents in ssid without cisco {len(diff_elements)}\")\n",
    "    print(f\"Number of elemtents in ssid combined with cisco {len(combined_macs)}\")\n",
    "\n",
    "\n",
    "    # Drop NaNs and sort for time\n",
    "    data.dropna(subset=['wlan.sa'], inplace = True)\n",
    "    data['wlan.ssid'].value_counts().sort_index(inplace=True)\n",
    "\n",
    "\n",
    "    # All entries that use the resulting mac addresses\n",
    "    return data.loc[data['wlan.sa'].isin(combined_macs)]"
   ]
  },
  {
   "cell_type": "code",
   "execution_count": 1154,
   "metadata": {
    "ExecuteTime": {
     "end_time": "2024-01-28T09:49:30.694928300Z",
     "start_time": "2024-01-28T09:49:28.104814700Z"
    }
   },
   "outputs": [
    {
     "name": "stdout",
     "output_type": "stream",
     "text": [
      "\n",
      "\n",
      "Number of unqiue mac addresses verfied by cisco: 995\n",
      "Number of unqiue mac addresses verfied by ssid: 1716\n",
      "Number of elemtents in ssid without cisco 735\n",
      "Number of elemtents in ssid combined with cisco 1716\n",
      "\n",
      "\n",
      "Number of unqiue mac addresses verfied by cisco: 329\n",
      "Number of unqiue mac addresses verfied by ssid: 3565\n",
      "Number of elemtents in ssid without cisco 3320\n",
      "Number of elemtents in ssid combined with cisco 3565\n",
      "\n",
      "\n",
      "Number of unqiue mac addresses verfied by cisco: 1189\n",
      "Number of unqiue mac addresses verfied by ssid: 1914\n",
      "Number of elemtents in ssid without cisco 754\n",
      "Number of elemtents in ssid combined with cisco 1914\n",
      "\n",
      "\n",
      "Number of unqiue mac addresses verfied by cisco: 757\n",
      "Number of unqiue mac addresses verfied by ssid: 2047\n",
      "Number of elemtents in ssid without cisco 1298\n",
      "Number of elemtents in ssid combined with cisco 2047\n",
      "\n",
      "\n",
      "Number of unqiue mac addresses verfied by cisco: 413\n",
      "Number of unqiue mac addresses verfied by ssid: 2763\n",
      "Number of elemtents in ssid without cisco 2452\n",
      "Number of elemtents in ssid combined with cisco 2763\n"
     ]
    }
   ],
   "source": [
    "# use filter method\n",
    "dFilteredMonday = filter(dMonday)\n",
    "dFilteredTuesday  = filter(dTuesday)\n",
    "dFilteredWednesday  = filter(dWednesday)\n",
    "dFilteredThursday  = filter(dThursday)\n",
    "dFilteredFriday  = filter(dFriday)"
   ]
  },
  {
   "cell_type": "markdown",
   "metadata": {},
   "source": [
    "# Create Dataframe first and last seen"
   ]
  },
  {
   "cell_type": "code",
   "execution_count": 1627,
   "metadata": {
    "ExecuteTime": {
     "end_time": "2024-01-28T09:49:30.948719Z",
     "start_time": "2024-01-28T09:49:30.694928300Z"
    }
   },
   "outputs": [],
   "source": [
    "dFirstMonday = dFilteredMonday.drop_duplicates(subset='wlan.sa', keep='first').sort_index()\n",
    "dLastMonday = dFilteredMonday.drop_duplicates(subset='wlan.sa', keep='last').sort_index()\n",
    "dFirstTuesday = dFilteredTuesday.drop_duplicates(subset='wlan.sa', keep='first').sort_index()\n",
    "dLastTuesday = dFilteredTuesday.drop_duplicates(subset='wlan.sa', keep='last').sort_index()\n",
    "dFirstWednesday = dFilteredWednesday.drop_duplicates(subset='wlan.sa', keep='first').sort_index()\n",
    "dLastWednesday = dFilteredWednesday.drop_duplicates(subset='wlan.sa', keep='last').sort_index()\n",
    "dFirstThursday = dFilteredThursday.drop_duplicates(subset='wlan.sa', keep='first').sort_index()\n",
    "dLastThursday = dFilteredThursday.drop_duplicates(subset='wlan.sa', keep='last').sort_index()\n",
    "dFirstFriday = dFilteredFriday.drop_duplicates(subset='wlan.sa', keep='first').sort_index()\n",
    "dLastFriday = dFilteredFriday.drop_duplicates(subset='wlan.sa', keep='last').sort_index()"
   ]
  },
  {
   "cell_type": "markdown",
   "metadata": {},
   "source": [
    "# Count Dataframe"
   ]
  },
  {
   "cell_type": "code",
   "execution_count": 1628,
   "metadata": {
    "ExecuteTime": {
     "end_time": "2024-01-28T09:49:30.987478100Z",
     "start_time": "2024-01-28T09:49:30.948719Z"
    }
   },
   "outputs": [],
   "source": [
    "dCountFirstMonday = pd.DataFrame(dFirstMonday['frame.time'].value_counts().sort_index())\n",
    "dCountLastMonday = pd.DataFrame(dLastMonday['frame.time'].value_counts().sort_index())\n",
    "dCountFirstTuesday = pd.DataFrame(dFirstTuesday['frame.time'].value_counts().sort_index())\n",
    "dCountLastTuesday = pd.DataFrame(dLastTuesday['frame.time'].value_counts().sort_index())\n",
    "dCountFirstWednesday = pd.DataFrame(dFirstWednesday['frame.time'].value_counts().sort_index())\n",
    "dCountLastWednesday = pd.DataFrame(dLastWednesday['frame.time'].value_counts().sort_index())\n",
    "dCountFirstThursday = pd.DataFrame(dFirstThursday['frame.time'].value_counts().sort_index())\n",
    "dCountLastThursday = pd.DataFrame(dLastThursday['frame.time'].value_counts().sort_index())\n",
    "dCountFirstFriday = pd.DataFrame(dFirstFriday['frame.time'].value_counts().sort_index())\n",
    "dCountLastFriday = pd.DataFrame(dLastFriday['frame.time'].value_counts().sort_index())"
   ]
  },
  {
   "cell_type": "markdown",
   "metadata": {},
   "source": [
    "# Resample for every time"
   ]
  },
  {
   "cell_type": "code",
   "execution_count": 1629,
   "metadata": {},
   "outputs": [],
   "source": [
    "d1CountFirstMonday = ResampleToXTime('1',dCountFirstMonday)\n",
    "d1CountFirstTuesday = ResampleToXTime('1',dCountFirstTuesday)\n",
    "d1CountFirstWednesday = ResampleToXTime('1',dCountFirstWednesday)\n",
    "d1CountFirstThursday = ResampleToXTime('1',dCountFirstThursday)\n",
    "d1CountFirstFriday = ResampleToXTime('1',dCountFirstFriday)\n",
    "\n",
    "d1CountLastMonday = ResampleToXTime('1',dCountLastMonday)\n",
    "d1CountLastTuesday = ResampleToXTime('1',dCountLastTuesday)\n",
    "d1CountLastWednesday = ResampleToXTime('1',dCountLastWednesday)\n",
    "d1CountLastThursday = ResampleToXTime('1',dCountLastThursday)\n",
    "d1CountLastFriday = ResampleToXTime('1',dCountLastFriday)"
   ]
  },
  {
   "cell_type": "code",
   "execution_count": 1630,
   "metadata": {
    "ExecuteTime": {
     "end_time": "2024-01-28T09:49:31.074133300Z",
     "start_time": "2024-01-28T09:49:31.011641300Z"
    }
   },
   "outputs": [],
   "source": [
    "d5CountFirstMonday = ResampleToXTime('5', dCountFirstMonday)\n",
    "d5CountLastMonday = ResampleToXTime('5', dCountLastMonday)\n",
    "d5CountFirstTuesday = ResampleToXTime('5', dCountFirstTuesday)\n",
    "d5CountLastTuesday = ResampleToXTime('5', dCountLastTuesday)\n",
    "d5CountFirstWednesday = ResampleToXTime('5', dCountFirstWednesday)\n",
    "d5CountLastWednesday = ResampleToXTime('5', dCountLastWednesday)\n",
    "d5CountFirstThursday = ResampleToXTime('5', dCountFirstThursday)\n",
    "d5CountLastThursday = ResampleToXTime('5', dCountLastThursday)\n",
    "d5CountFirstFriday = ResampleToXTime('5', dCountFirstFriday)\n",
    "d5CountLastFriday = ResampleToXTime('5', dCountLastFriday)"
   ]
  },
  {
   "cell_type": "markdown",
   "metadata": {},
   "source": [
    "# Merge Last  & First"
   ]
  },
  {
   "cell_type": "code",
   "execution_count": 1631,
   "metadata": {},
   "outputs": [],
   "source": [
    "d1FirstLastMonday = rename_merge([d1CountFirstMonday, d1CountLastMonday], ['First', 'Last'])\n",
    "d1FirstLastTuesday = rename_merge([d1CountFirstTuesday, d1CountLastTuesday], ['First', 'Last'])\n",
    "d1FirstLastWednesday = rename_merge([d1CountFirstWednesday, d1CountLastWednesday], ['First', 'Last'])\n",
    "d1FirstLastThursday = rename_merge([d1CountFirstThursday, d1CountLastThursday], ['First', 'Last'])\n",
    "d1FirstLastFriday = rename_merge([d1CountFirstFriday, d1CountLastFriday], ['First', 'Last'])"
   ]
  },
  {
   "cell_type": "code",
   "execution_count": 1632,
   "metadata": {},
   "outputs": [],
   "source": [
    "d5FirstLastMonday = rename_merge([d5CountFirstMonday, d5CountLastMonday], ['First', 'Last'])\n",
    "d5FirstLastTuesday = rename_merge([d5CountFirstTuesday, d5CountLastTuesday], ['First', 'Last'])\n",
    "d5FirstLastWednesday = rename_merge([d5CountFirstWednesday, d5CountLastWednesday], ['First', 'Last'])\n",
    "d5FirstLastThursday = rename_merge([d5CountFirstThursday, d5CountLastThursday], ['First', 'Last'])\n",
    "d5FirstLastFriday = rename_merge([d5CountFirstFriday, d5CountLastFriday], ['First', 'Last'])"
   ]
  },
  {
   "cell_type": "markdown",
   "metadata": {},
   "source": [
    "# Cumlative Sum"
   ]
  },
  {
   "cell_type": "code",
   "execution_count": 1633,
   "metadata": {},
   "outputs": [],
   "source": [
    "d5FirstLastCumSumMonday =  getcumSumMerged(d5FirstLastMonday)\n",
    "d5FirstLastCumSumTuesday =  getcumSumMerged(d5FirstLastTuesday)\n",
    "d5FirstLastCumSumWednesday =  getcumSumMerged(d5FirstLastWednesday)\n",
    "d5FirstLastCumSumThursday =  getcumSumMerged(d5FirstLastThursday)\n",
    "d5FirstLastCumSumFriday =  getcumSumMerged(d5FirstLastFriday)"
   ]
  },
  {
   "cell_type": "code",
   "execution_count": 1634,
   "metadata": {},
   "outputs": [],
   "source": [
    "d1FirstLastCumSumMonday =  getcumSumMerged(d1FirstLastMonday)\n",
    "d1FirstLastCumSumTuesday =  getcumSumMerged(d1FirstLastTuesday)\n",
    "d1FirstLastCumSumWednesday =  getcumSumMerged(d1FirstLastWednesday)\n",
    "d1FirstLastCumSumThursday =  getcumSumMerged(d1FirstLastThursday)\n",
    "d1FirstLastCumSumFriday =  getcumSumMerged(d1FirstLastFriday)"
   ]
  },
  {
   "cell_type": "markdown",
   "metadata": {},
   "source": [
    "# Correct data"
   ]
  },
  {
   "cell_type": "code",
   "execution_count": 1713,
   "metadata": {},
   "outputs": [],
   "source": [
    "def correctData(data):\n",
    "\n",
    "    cData = data.copy()\n",
    "\n",
    "    if(cData['count_CumSum'].min() < 0) :\n",
    "        cData['count_CumSum'] = cData['count_CumSum'] + abs(cData['count_CumSum'].min())\n",
    "\n",
    "    return cData"
   ]
  },
  {
   "cell_type": "code",
   "execution_count": 1714,
   "metadata": {},
   "outputs": [],
   "source": [
    "d1FirstLastCumSumMonday = correctData(d1FirstLastCumSumMonday)\n",
    "d1FirstLastCumSumTuesday = correctData(d1FirstLastCumSumTuesday)\n",
    "d1FirstLastCumSumWednesday = correctData(d1FirstLastCumSumWednesday)\n",
    "d1FirstLastCumSumThursday = correctData(d1FirstLastCumSumThursday)\n",
    "d1FirstLastCumSumFriday = correctData(d1FirstLastCumSumFriday)"
   ]
  },
  {
   "cell_type": "code",
   "execution_count": 1715,
   "metadata": {},
   "outputs": [],
   "source": [
    "d5FirstLastCumSumMonday = correctData(d1FirstLastCumSumMonday)\n",
    "d5FirstLastCumSumTuesday = correctData(d1FirstLastCumSumTuesday)\n",
    "d5FirstLastCumSumWednesday = correctData(d1FirstLastCumSumWednesday)\n",
    "d5FirstLastCumSumThursday = correctData(d1FirstLastCumSumThursday)\n",
    "d5FirstLastCumSumFriday = correctData(d1FirstLastCumSumFriday)"
   ]
  },
  {
   "cell_type": "code",
   "execution_count": 1718,
   "metadata": {},
   "outputs": [
    {
     "name": "stdout",
     "output_type": "stream",
     "text": [
      "0.0\n",
      "6.0\n",
      "0\n",
      "0.0\n",
      "0.0\n"
     ]
    }
   ],
   "source": [
    "print(d1FirstLastCumSumMonday['count_CumSum'].min())\n",
    "print(d1FirstLastCumSumTuesday['count_CumSum'].min())\n",
    "print(d1FirstLastCumSumWednesday['count_CumSum'].min())\n",
    "print(d1FirstLastCumSumThursday['count_CumSum'].min())\n",
    "print(d1FirstLastCumSumFriday['count_CumSum'].min())"
   ]
  },
  {
   "cell_type": "markdown",
   "metadata": {},
   "source": [
    "# Convert from devices to people"
   ]
  },
  {
   "cell_type": "code",
   "execution_count": 1719,
   "metadata": {
    "ExecuteTime": {
     "end_time": "2024-01-28T09:49:31.187958200Z",
     "start_time": "2024-01-28T09:49:31.137059600Z"
    }
   },
   "outputs": [],
   "source": [
    "# unique macs to number of people using descrete distribution\n",
    "def random_counts(enter_count):\n",
    "\n",
    "   r = np.random.uniform(0, 1, int(enter_count))\n",
    "   r_c = np.ones_like(r)\n",
    "   r_c = np.where(r >= 0.85, np.where(r >= 0.90, 0, 2 ), 1)\n",
    "   \n",
    "   return r_c.sum()"
   ]
  },
  {
   "cell_type": "code",
   "execution_count": 1737,
   "metadata": {},
   "outputs": [],
   "source": [
    "def estimate_devices2people(dFirstLastCumSumMonday, nrSimualtion = 1000):\n",
    "    \n",
    "    dFirstLastCumSumPeopleMonday = dFirstLastCumSumMonday.copy()\n",
    "\n",
    "    # CuSum\n",
    "    # estimate a different nr ppl / device in each go\n",
    "    all_simulations = np.array([dFirstLastCumSumMonday['count_CumSum'].apply(random_counts) for _ in range(nrSimualtion)])\n",
    "\n",
    "    # Calculate mean and standard error at each minute\n",
    "    mean_counts = all_simulations.mean(axis=0)\n",
    "    stderr_counts = all_simulations.std(axis=0) / np.sqrt(len(dFirstLastCumSumMonday))\n",
    "\n",
    "    dFirstLastCumSumPeopleMonday['count_CumSum_people_mean'] = mean_counts\n",
    "    dFirstLastCumSumPeopleMonday['count_CumSum_people_stderr'] = stderr_counts\n",
    "\n",
    "    # Last\n",
    "    # estimate a different nr ppl / device in each go\n",
    "    all_simulations = np.array([dFirstLastCumSumMonday['count_Last'].apply(random_counts) for _ in range(nrSimualtion)])\n",
    "\n",
    "    # Calculate mean and standard error at each minute\n",
    "    mean_counts = all_simulations.mean(axis=0)\n",
    "    stderr_counts = all_simulations.std(axis=0) / np.sqrt(len(dFirstLastCumSumMonday))\n",
    "\n",
    "    dFirstLastCumSumPeopleMonday['count_Last_people_mean'] = mean_counts\n",
    "    dFirstLastCumSumPeopleMonday['count_Last_people_stderr'] = stderr_counts\n",
    "\n",
    "    #  First\n",
    "    # estimate a different nr ppl / device in each go\n",
    "    all_simulations = np.array([dFirstLastCumSumMonday['count_First'].apply(random_counts) for _ in range(nrSimualtion)])\n",
    "\n",
    "    # Calculate mean and standard error at each minute\n",
    "    mean_counts = all_simulations.mean(axis=0)\n",
    "    stderr_counts = all_simulations.std(axis=0) / np.sqrt(len(dFirstLastCumSumMonday))\n",
    "\n",
    "    dFirstLastCumSumPeopleMonday['count_First_people_mean'] = mean_counts\n",
    "    dFirstLastCumSumPeopleMonday['count_First_people_stderr'] = stderr_counts\n",
    "\n",
    "\n",
    "    return dFirstLastCumSumPeopleMonday"
   ]
  },
  {
   "cell_type": "code",
   "execution_count": 1761,
   "metadata": {},
   "outputs": [],
   "source": [
    "d1FirstLastCumSumPeopleMonday = estimate_devices2people(d1FirstLastCumSumMonday)\n",
    "d1FirstLastCumSumPeopleTuesday = estimate_devices2people(d1FirstLastCumSumTuesday)\n",
    "d1FirstLastCumSumPeopleWednesday = estimate_devices2people(d1FirstLastCumSumWednesday)\n",
    "d1FirstLastCumSumPeopleThursday = estimate_devices2people(d1FirstLastCumSumThursday)\n",
    "d1FirstLastCumSumPeopleFriday = estimate_devices2people(d1FirstLastCumSumFriday)"
   ]
  },
  {
   "cell_type": "code",
   "execution_count": 1762,
   "metadata": {},
   "outputs": [],
   "source": [
    "d5FirstLastCumSumPeopleMonday = estimate_devices2people(d1FirstLastCumSumMonday)\n",
    "d5FirstLastCumSumPeopleTuesday = estimate_devices2people(d1FirstLastCumSumTuesday)\n",
    "d5FirstLastCumSumPeopleWednesday = estimate_devices2people(d1FirstLastCumSumWednesday)\n",
    "d5FirstLastCumSumPeopleThursday = estimate_devices2people(d1FirstLastCumSumThursday)\n",
    "d5FirstLastCumSumPeopleFriday = estimate_devices2people(d1FirstLastCumSumFriday)"
   ]
  },
  {
   "cell_type": "markdown",
   "metadata": {},
   "source": [
    "# Convert date time to string"
   ]
  },
  {
   "cell_type": "code",
   "execution_count": 1764,
   "metadata": {
    "ExecuteTime": {
     "end_time": "2024-01-28T09:49:31.137059600Z",
     "start_time": "2024-01-28T09:49:31.121444500Z"
    }
   },
   "outputs": [],
   "source": [
    "d5TimeFirstLastCumSumPeopleMonday = keepOnlyTime(d5FirstLastCumSumPeopleMonday)\n",
    "d5TimeFirstLastCumSumPeopleTuesday = keepOnlyTime(d5FirstLastCumSumPeopleTuesday)\n",
    "d5TimeFirstLastCumSumPeopleWednesday = keepOnlyTime(d5FirstLastCumSumPeopleWednesday)\n",
    "d5TimeFirstLastCumSumPeopleThursday = keepOnlyTime(d5FirstLastCumSumPeopleThursday)\n",
    "d5TimeFirstLastCumSumPeopleFriday = keepOnlyTime(d5FirstLastCumSumPeopleFriday)"
   ]
  },
  {
   "cell_type": "code",
   "execution_count": 1765,
   "metadata": {},
   "outputs": [],
   "source": [
    "d1TimeFirstLastCumSumPeopleMonday = keepOnlyTime(d1FirstLastCumSumPeopleMonday)\n",
    "d1TimeFirstLastCumSumPeopleTuesday = keepOnlyTime(d1FirstLastCumSumPeopleTuesday)\n",
    "d1TimeFirstLastCumSumPeopleWednesday = keepOnlyTime(d1FirstLastCumSumPeopleWednesday)\n",
    "d1TimeFirstLastCumSumPeopleThursday = keepOnlyTime(d1FirstLastCumSumPeopleThursday)\n",
    "d1TimeFirstLastCumSumPeopleFriday = keepOnlyTime(d1FirstLastCumSumPeopleFriday)"
   ]
  },
  {
   "cell_type": "markdown",
   "metadata": {},
   "source": [
    "# Queue \n"
   ]
  },
  {
   "cell_type": "code",
   "execution_count": 1230,
   "metadata": {
    "ExecuteTime": {
     "end_time": "2024-01-28T09:49:31.231238900Z",
     "start_time": "2024-01-28T09:49:31.215612900Z"
    }
   },
   "outputs": [],
   "source": [
    "# temp plotting function for comparing queue models\n",
    "def plotQueue(dFrist, dSumCount, title, ticks):\n",
    "    \n",
    "    datamerged = rename_merge([dSumCount, dFrist], ['CumSum', 'First'])\n",
    "\n",
    "    plt.plot(datamerged['frame.time'], datamerged['queue_count'].to_numpy(), label='Queue')\n",
    "    plt.plot(datamerged['frame.time'], datamerged['count_CumSum'], label='Total count')\n",
    "    plt.plot(datamerged['frame.time'], datamerged['count_First'], label='First seen count')\n",
    "    plt.title(title)\n",
    "    plt.ylabel('unique macs / min')\n",
    "    plt.xlabel('time')\n",
    "\n",
    "    locsy, labels = plt.yticks()\n",
    "    locs, labels = plt.xticks()\n",
    "    plt.yticks(np.linspace(min(locsy), max(locsy), num=9))\n",
    "    plt.xticks(locs[::ticks])\n",
    "    plt.grid(True)\n",
    "    plt.legend()\n",
    "\n",
    "    plt.show()"
   ]
  },
  {
   "cell_type": "markdown",
   "metadata": {},
   "source": [
    "## Naive queue model"
   ]
  },
  {
   "cell_type": "code",
   "execution_count": 1231,
   "metadata": {
    "ExecuteTime": {
     "end_time": "2024-01-28T09:49:31.309771900Z",
     "start_time": "2024-01-28T09:49:31.231238900Z"
    }
   },
   "outputs": [],
   "source": [
    "def naive_queue_model(nr_counters, serving_speed, countFirst):\n",
    "    \n",
    "    # Initialize queue_count column\n",
    "    queueCount = countFirst.copy()\n",
    "    queueCount['queue_count'] = 0\n",
    "\n",
    "    # Calculate queue count for each minute\n",
    "    for i in range(len(queueCount)):\n",
    "        #print(i)\n",
    "        if i == 0: #timepoint 0\n",
    "            queueCount['queue_count'].iloc[i] = max(0, 0 + queueCount['count'].iloc[i] - nr_counters * serving_speed)\n",
    "        else:\n",
    "            queueCount['queue_count'].iloc[i] = max(0, queueCount['queue_count'].iloc[i-1] + queueCount['count'].iloc[i] - nr_counters * serving_speed)\n",
    "\n",
    "    return queueCount\n",
    "    "
   ]
  },
  {
   "cell_type": "code",
   "execution_count": 1232,
   "metadata": {
    "ExecuteTime": {
     "end_time": "2024-01-28T09:49:31.325399800Z",
     "start_time": "2024-01-28T09:49:31.246861100Z"
    }
   },
   "outputs": [],
   "source": [
    "def queue_model(nr_counters, serving_speed, countFirst):\n",
    "    \n",
    "    # Initialize queue_count column\n",
    "    queueCount = countFirst.copy()\n",
    "    queueCount['queue_count'] = 0\n",
    "\n",
    "    # Calculate queue count for each minute\n",
    "    for i in range(len(queueCount)):\n",
    "        #print(i)\n",
    "        if i == 0: #timepoint 0\n",
    "            queueCount['queue_count'].iloc[i] = max(0, 0 + queueCount['count'].iloc[i] - nr_counters * serving_speed)\n",
    "        else:\n",
    "            queueCount['queue_count'].iloc[i] = max(0, queueCount['queue_count'].iloc[i-1] + queueCount['count'].iloc[i] - nr_counters * serving_speed)\n",
    "\n",
    "    return queueCount\n",
    "    "
   ]
  },
  {
   "cell_type": "markdown",
   "metadata": {},
   "source": [
    "## Queue Model uncertainty SP and PC"
   ]
  },
  {
   "cell_type": "code",
   "execution_count": 1825,
   "metadata": {},
   "outputs": [],
   "source": [
    "def queue_model_uncertaintySP_PC(dFirstLastCumSumPeopleMonday, mean_serving_speed = 5, std_dev_serving_speed = 1, nr_counters = 3, max_serve_speed = 20, num_simulations=1000):\n",
    "    \n",
    "\n",
    "    queueCount = dFirstLastCumSumPeopleMonday.copy()\n",
    "\n",
    "    # Run multiple simulations\n",
    "    all_simulations = []\n",
    "    for _  in range(num_simulations):\n",
    "        queueCount['queue_count'] = 0\n",
    "        for i in range(len(queueCount)):\n",
    "            # random serving speed\n",
    "            serving_speed = np.random.normal(mean_serving_speed, std_dev_serving_speed)\n",
    "            serving_speed = max(serving_speed, 0)\n",
    "            \n",
    "            if i == 0: #timepoint 0\n",
    "                queueCount['queue_count'].iloc[i] = max(0, 0 + queueCount['count_First_people_mean'].iloc[i] - serving_speed)\n",
    "            else:\n",
    "                serving_speed_estimation = min(max_serve_speed, serving_speed + (queueCount['queue_count'].iloc[i-1]/nr_counters))\n",
    "                queueCount['queue_count'].iloc[i] = max(0, queueCount['queue_count'].iloc[i-1] + queueCount['count_First_people_mean'].iloc[i] - np.round(serving_speed_estimation))\n",
    "\n",
    "        all_simulations.append(queueCount['queue_count'])\n",
    "\n",
    "    all_simulations = np.array(all_simulations)\n",
    "\n",
    "    # Calculate mean and standard error at each minute\n",
    "    mean_queue_counts = all_simulations.mean(axis=0)\n",
    "    stderr_queue_counts = all_simulations.std(axis=0) / np.sqrt(len(dFirstLastCumSumPeopleMonday))\n",
    "\n",
    "\n",
    "    queueCount['queue_mean_count'] = mean_queue_counts\n",
    "    queueCount['queue_stderr_count'] = stderr_queue_counts\n",
    "\n",
    "    return queueCount"
   ]
  },
  {
   "cell_type": "code",
   "execution_count": 1826,
   "metadata": {},
   "outputs": [],
   "source": [
    "d1FirstLastCumSumQueuePeopleMonday = queue_model_uncertaintySP_PC(d1FirstLastCumSumPeopleMonday)\n",
    "d1FirstLastCumSumQueuePeopleTuesday = queue_model_uncertaintySP_PC(d1FirstLastCumSumPeopleTuesday)\n",
    "d1FirstLastCumSumQueuePeopleWednesday = queue_model_uncertaintySP_PC(d1FirstLastCumSumPeopleWednesday)\n",
    "d1FirstLastCumSumQueuePeopleThursday = queue_model_uncertaintySP_PC(d1FirstLastCumSumPeopleThursday)\n",
    "d1FirstLastCumSumQueuePeopleFriday = queue_model_uncertaintySP_PC(d1FirstLastCumSumPeopleFriday)"
   ]
  },
  {
   "cell_type": "markdown",
   "metadata": {},
   "source": [
    "# Plot Results\n"
   ]
  },
  {
   "cell_type": "markdown",
   "metadata": {},
   "source": [
    "## Queue"
   ]
  },
  {
   "cell_type": "code",
   "execution_count": 1850,
   "metadata": {},
   "outputs": [],
   "source": [
    "d5QueueWeek = rename_merge([d1FirstLastCumSumQueuePeopleMonday, d1FirstLastCumSumQueuePeopleTuesday, d1FirstLastCumSumQueuePeopleWednesday, d1FirstLastCumSumQueuePeopleThursday, d1FirstLastCumSumQueuePeopleFriday], ['Monday', 'Tuesday', 'Wednesday', 'Thursday', 'Friday'])"
   ]
  },
  {
   "cell_type": "code",
   "execution_count": 1754,
   "metadata": {},
   "outputs": [
    {
     "data": {
      "text/plain": [
       "[<matplotlib.lines.Line2D at 0x2272d1d90>]"
      ]
     },
     "execution_count": 1754,
     "metadata": {},
     "output_type": "execute_result"
    },
    {
     "data": {
      "image/png": "[encoded data removed]",
      "text/plain": [
       "<Figure size 675x417.173 with 1 Axes>"
      ]
     },
     "metadata": {},
     "output_type": "display_data"
    }
   ],
   "source": [
    "plt.rcParams.update(bundles.icml2022(column='full', nrows=1, ncols=1, usetex=False))\n",
    "plt.plot(d1FirstLastCumSumPeopleMonday['queue_mean_count'])"
   ]
  },
  {
   "cell_type": "code",
   "execution_count": null,
   "metadata": {},
   "outputs": [],
   "source": [
    "dQeue = queue_model_uncertaintySP_PC(3, 5, 2, d1TimeFirstLastCumSumPeopleMonday)\n",
    "\n",
    "plt.plot(dQeue['frame.time'], dQeue['queue_count'].to_numpy(), label='Queue')\n",
    "plt.plot(d1FirstLastCumSumPeopleMonday['frame.time'], d1FirstLastCumSumPeopleMonday['count_CumSum'], label='Total count')\n",
    "plt.plot(d1FirstLastCumSumPeopleMonday['frame.time'], d1FirstLastCumSumPeopleMonday['count_First'], label='First seen count')\n",
    "plt.title(title)\n",
    "plt.ylabel('unique macs / min')\n",
    "plt.xlabel('time')\n",
    "locsy, labels = plt.yticks()\n",
    "locs, labels = plt.xticks()\n",
    "plt.yticks(np.linspace(min(locsy), max(locsy), num=9))\n",
    "plt.xticks(locs[::ticks])\n",
    "plt.grid(True)\n",
    "plt.legend()\n",
    "plt.show()"
   ]
  },
  {
   "cell_type": "code",
   "execution_count": 1837,
   "metadata": {},
   "outputs": [],
   "source": [
    "d1QueuePeopleMonday = d1FirstLastCumSumQueuePeopleMonday[['frame.time', 'queue_mean_count']]"
   ]
  },
  {
   "cell_type": "code",
   "execution_count": 1844,
   "metadata": {},
   "outputs": [],
   "source": [
    "# Assuming df is your DataFrame and 'time' is your time column\n",
    "df_melted = pd.melt(d5QueueWeek, id_vars='frame.time', var_name='day', value_name='Count')\n"
   ]
  },
  {
   "cell_type": "code",
   "execution_count": 1848,
   "metadata": {},
   "outputs": [
    {
     "data": {
      "text/html": [
       "<div>\n",
       "<style scoped>\n",
       "    .dataframe tbody tr th:only-of-type {\n",
       "        vertical-align: middle;\n",
       "    }\n",
       "\n",
       "    .dataframe tbody tr th {\n",
       "        vertical-align: top;\n",
       "    }\n",
       "\n",
       "    .dataframe thead th {\n",
       "        text-align: right;\n",
       "    }\n",
       "</style>\n",
       "<table border=\"1\" class=\"dataframe\">\n",
       "  <thead>\n",
       "    <tr style=\"text-align: right;\">\n",
       "      <th></th>\n",
       "      <th>frame.time</th>\n",
       "      <th>count_First_Monday</th>\n",
       "      <th>count_Last_Monday</th>\n",
       "      <th>count_CumSum_Monday</th>\n",
       "      <th>count_CumSum_people_mean_Monday</th>\n",
       "      <th>count_CumSum_people_stderr_Monday</th>\n",
       "      <th>count_Last_people_mean_Monday</th>\n",
       "      <th>count_Last_people_stderr_Monday</th>\n",
       "      <th>count_First_people_mean_Monday</th>\n",
       "      <th>count_First_people_stderr_Monday</th>\n",
       "      <th>...</th>\n",
       "      <th>count_CumSum_Friday</th>\n",
       "      <th>count_CumSum_people_mean_Friday</th>\n",
       "      <th>count_CumSum_people_stderr_Friday</th>\n",
       "      <th>count_Last_people_mean_Friday</th>\n",
       "      <th>count_Last_people_stderr_Friday</th>\n",
       "      <th>count_First_people_mean_Friday</th>\n",
       "      <th>count_First_people_stderr_Friday</th>\n",
       "      <th>queue_count_Friday</th>\n",
       "      <th>queue_mean_count_Friday</th>\n",
       "      <th>queue_stderr_count_Friday</th>\n",
       "    </tr>\n",
       "  </thead>\n",
       "  <tbody>\n",
       "  </tbody>\n",
       "</table>\n",
       "<p>0 rows × 61 columns</p>\n",
       "</div>"
      ],
      "text/plain": [
       "Empty DataFrame\n",
       "Columns: [frame.time, count_First_Monday, count_Last_Monday, count_CumSum_Monday, count_CumSum_people_mean_Monday, count_CumSum_people_stderr_Monday, count_Last_people_mean_Monday, count_Last_people_stderr_Monday, count_First_people_mean_Monday, count_First_people_stderr_Monday, queue_count_Monday, queue_mean_count_Monday, queue_stderr_count_Monday, count_First_Tuesday, count_Last_Tuesday, count_CumSum_Tuesday, count_CumSum_people_mean_Tuesday, count_CumSum_people_stderr_Tuesday, count_Last_people_mean_Tuesday, count_Last_people_stderr_Tuesday, count_First_people_mean_Tuesday, count_First_people_stderr_Tuesday, queue_count_Tuesday, queue_mean_count_Tuesday, queue_stderr_count_Tuesday, count_First_Wednesday, count_Last_Wednesday, count_CumSum_Wednesday, count_CumSum_people_mean_Wednesday, count_CumSum_people_stderr_Wednesday, count_Last_people_mean_Wednesday, count_Last_people_stderr_Wednesday, count_First_people_mean_Wednesday, count_First_people_stderr_Wednesday, queue_count_Wednesday, queue_mean_count_Wednesday, queue_stderr_count_Wednesday, count_First_Thursday, count_Last_Thursday, count_CumSum_Thursday, count_CumSum_people_mean_Thursday, count_CumSum_people_stderr_Thursday, count_Last_people_mean_Thursday, count_Last_people_stderr_Thursday, count_First_people_mean_Thursday, count_First_people_stderr_Thursday, queue_count_Thursday, queue_mean_count_Thursday, queue_stderr_count_Thursday, count_First_Friday, count_Last_Friday, count_CumSum_Friday, count_CumSum_people_mean_Friday, count_CumSum_people_stderr_Friday, count_Last_people_mean_Friday, count_Last_people_stderr_Friday, count_First_people_mean_Friday, count_First_people_stderr_Friday, queue_count_Friday, queue_mean_count_Friday, queue_stderr_count_Friday]\n",
       "Index: []\n",
       "\n",
       "[0 rows x 61 columns]"
      ]
     },
     "execution_count": 1848,
     "metadata": {},
     "output_type": "execute_result"
    }
   ],
   "source": [
    "d5QueueWeek"
   ]
  },
  {
   "cell_type": "code",
   "execution_count": 1845,
   "metadata": {},
   "outputs": [
    {
     "data": {
      "text/html": [
       "<div>\n",
       "<style scoped>\n",
       "    .dataframe tbody tr th:only-of-type {\n",
       "        vertical-align: middle;\n",
       "    }\n",
       "\n",
       "    .dataframe tbody tr th {\n",
       "        vertical-align: top;\n",
       "    }\n",
       "\n",
       "    .dataframe thead th {\n",
       "        text-align: right;\n",
       "    }\n",
       "</style>\n",
       "<table border=\"1\" class=\"dataframe\">\n",
       "  <thead>\n",
       "    <tr style=\"text-align: right;\">\n",
       "      <th></th>\n",
       "      <th>frame.time</th>\n",
       "      <th>day</th>\n",
       "      <th>Count</th>\n",
       "    </tr>\n",
       "  </thead>\n",
       "  <tbody>\n",
       "  </tbody>\n",
       "</table>\n",
       "</div>"
      ],
      "text/plain": [
       "Empty DataFrame\n",
       "Columns: [frame.time, day, Count]\n",
       "Index: []"
      ]
     },
     "execution_count": 1845,
     "metadata": {},
     "output_type": "execute_result"
    }
   ],
   "source": [
    "df_melted"
   ]
  },
  {
   "cell_type": "markdown",
   "metadata": {},
   "source": [
    "## Count"
   ]
  },
  {
   "cell_type": "markdown",
   "metadata": {},
   "source": [
    "### First Seen"
   ]
  },
  {
   "cell_type": "code",
   "execution_count": 1766,
   "metadata": {
    "ExecuteTime": {
     "end_time": "2024-01-28T09:53:28.714918700Z",
     "start_time": "2024-01-28T09:53:28.683675100Z"
    }
   },
   "outputs": [],
   "source": [
    "d5Week = rename_merge([d5TimeFirstLastCumSumPeopleMonday, d5TimeFirstLastCumSumPeopleTuesday, d5TimeFirstLastCumSumPeopleWednesday, d5TimeFirstLastCumSumPeopleThursday, d5TimeFirstLastCumSumPeopleFriday], ['Monday', 'Tuesday', 'Wednesday', 'Thursday', 'Friday'])"
   ]
  },
  {
   "cell_type": "code",
   "execution_count": 1697,
   "metadata": {
    "ExecuteTime": {
     "end_time": "2024-01-28T09:55:09.376149700Z",
     "start_time": "2024-01-28T09:55:08.532905Z"
    }
   },
   "outputs": [
    {
     "data": {
      "image/png": "[encoded data removed]",
      "text/plain": [
       "<Figure size 325x200.861 with 1 Axes>"
      ]
     },
     "metadata": {},
     "output_type": "display_data"
    }
   ],
   "source": [
    "plt.rcParams.update(bundles.icml2022(column='half', nrows=1, ncols=1, usetex=False))\n",
    "\n",
    "plt.plot(d5Week['frame.time'], d5Week['count_First_Monday'], label='monday')\n",
    "plt.plot(d5Week['frame.time'], d5Week['count_First_Tuesday'], label='Tuesday')\n",
    "plt.plot(d5Week['frame.time'], d5Week['count_First_Wednesday'], label='wednesday')\n",
    "plt.plot(d5Week['frame.time'], d5Week['count_First_Thursday'], label='thursday')\n",
    "plt.plot(d5Week['frame.time'], d5Week['count_First_Friday'], label='friday')\n",
    "plt.xlabel('Time')\n",
    "plt.ylabel('Count')\n",
    "plt.grid(True)\n",
    "plt.legend()\n",
    "plt.title('first mac add seen count per 5 min')\n",
    "\n",
    "# Get current ticks\n",
    "locs, labels = plt.xticks()\n",
    "\n",
    "# Set new ticks \n",
    "plt.xticks(locs[::2])\n",
    "\n",
    "\n",
    "plt.savefig('./plots/first_seen_mac_per_5_min.pdf')"
   ]
  },
  {
   "cell_type": "markdown",
   "metadata": {},
   "source": [
    "### Last Seen"
   ]
  },
  {
   "cell_type": "code",
   "execution_count": 1698,
   "metadata": {
    "ExecuteTime": {
     "end_time": "2024-01-28T09:55:23.630686400Z",
     "start_time": "2024-01-28T09:55:22.851216700Z"
    }
   },
   "outputs": [
    {
     "data": {
      "image/png": "[encoded data removed]",
      "text/plain": [
       "<Figure size 325x200.861 with 1 Axes>"
      ]
     },
     "metadata": {},
     "output_type": "display_data"
    }
   ],
   "source": [
    "plt.rcParams.update(bundles.icml2022(column='half', nrows=1, ncols=1, usetex=False))\n",
    "\n",
    "plt.plot(d5Week['frame.time'], d5Week['count_Last_Monday'], label='monday')\n",
    "plt.plot(d5Week['frame.time'], d5Week['count_Last_Tuesday'], label='Tuesday')\n",
    "plt.plot(d5Week['frame.time'], d5Week['count_Last_Wednesday'], label='wednesday')\n",
    "plt.plot(d5Week['frame.time'], d5Week['count_Last_Thursday'], label='thursday')\n",
    "plt.plot(d5Week['frame.time'], d5Week['count_Last_Friday'], label='friday')\n",
    "plt.xlabel('Time')\n",
    "plt.ylabel('Count')\n",
    "plt.grid(True)\n",
    "plt.legend()\n",
    "plt.title('last mac add seen count per 5 min')\n",
    "\n",
    "# Get current ticks\n",
    "locs, labels = plt.xticks()\n",
    "\n",
    "# Set new ticks \n",
    "plt.xticks(locs[::2])\n",
    "\n",
    "\n",
    "plt.savefig('./plots/last_seen_mac_per_5_min.pdf')"
   ]
  },
  {
   "cell_type": "markdown",
   "metadata": {},
   "source": [
    "### First, Last & Cumaltive Sum"
   ]
  },
  {
   "cell_type": "code",
   "execution_count": 1755,
   "metadata": {
    "ExecuteTime": {
     "end_time": "2024-01-28T09:55:32.684238100Z",
     "start_time": "2024-01-28T09:55:31.962833200Z"
    }
   },
   "outputs": [
    {
     "data": {
      "image/png": "[encoded data removed]",
      "text/plain": [
       "<Figure size 325x200.861 with 1 Axes>"
      ]
     },
     "metadata": {},
     "output_type": "display_data"
    }
   ],
   "source": [
    "plt.rcParams.update(bundles.icml2022(column='half', nrows=1, ncols=1, usetex=False))\n",
    "plt.title('cumulative sum, first and last seen mac add for monday')\n",
    "plt.xlabel('Time')\n",
    "plt.ylabel('Count')\n",
    "\n",
    "plt.plot(d5TimeFirstLastCumSumMonday['frame.time'], d5TimeFirstLastCumSumMonday['count_CumSum'], color = rgb.pn_orange, label='cumulative sum', linewidth=3)\n",
    "plt.plot(d5TimeFirstLastCumSumMonday['frame.time'], d5TimeFirstLastCumSumMonday['count_First'], color = rgb.tue_darkblue, label='First seen', linestyle= ':')\n",
    "plt.plot(d5TimeFirstLastCumSumMonday['frame.time'], d5TimeFirstLastCumSumMonday['count_Last'], color = rgb.tue_darkgreen, label='Last seen', linestyle= '-.')\n",
    "\n",
    "plt.fill_between(d5TimeFirstLastCumSumMonday['frame.time'], d5TimeFirstLastCumSumMonday['count_First'], d5TimeFirstLastCumSumMonday['count_Last'], where=(d5TimeFirstLastCumSumMonday['count_First'] > d5TimeFirstLastCumSumMonday['count_Last']), interpolate=True, color = rgb.tue_blue, alpha = 0.2)\n",
    "plt.fill_between(d5TimeFirstLastCumSumMonday['frame.time'], d5TimeFirstLastCumSumMonday['count_First'], d5TimeFirstLastCumSumMonday['count_Last'], where=(d5TimeFirstLastCumSumMonday['count_First'] <= d5TimeFirstLastCumSumMonday['count_Last']), interpolate=True, color = rgb.tue_green, alpha = 0.2)\n",
    "# plt.fill_between(d5MondayCumFirstLast['frame.time'], d5MondayCumFirstLast['count_CumSum'], color = rgb.tue_blue, alpha = 0.2)\n",
    "\n",
    "plt.legend()\n",
    "# plt.legend(fontsize='large')\n",
    "plt.grid(True)\n",
    "\n",
    "locsy, labels = plt.yticks()\n",
    "locs, labels = plt.xticks()\n",
    "plt.yticks(np.arange(0, max(locsy) + 1, 40))\n",
    "plt.xticks(locs[::2])\n",
    "\n",
    "# plt.xlim([xmin, xmax])\n",
    "plt.ylim([-50, 440])\n",
    "\n",
    "plt.savefig('./plots/CumSumFirstLastMonday.pdf')"
   ]
  },
  {
   "cell_type": "markdown",
   "metadata": {},
   "source": [
    "### Cumaltative Sum of all days"
   ]
  },
  {
   "cell_type": "code",
   "execution_count": 1758,
   "metadata": {},
   "outputs": [
    {
     "data": {
      "text/plain": [
       "-6.0"
      ]
     },
     "execution_count": 1758,
     "metadata": {},
     "output_type": "execute_result"
    }
   ],
   "source": [
    "d5Week['count_CumSum_Friday'].min()"
   ]
  },
  {
   "cell_type": "code",
   "execution_count": 1809,
   "metadata": {},
   "outputs": [
    {
     "data": {
      "text/html": [
       "<div>\n",
       "<style scoped>\n",
       "    .dataframe tbody tr th:only-of-type {\n",
       "        vertical-align: middle;\n",
       "    }\n",
       "\n",
       "    .dataframe tbody tr th {\n",
       "        vertical-align: top;\n",
       "    }\n",
       "\n",
       "    .dataframe thead th {\n",
       "        text-align: right;\n",
       "    }\n",
       "</style>\n",
       "<table border=\"1\" class=\"dataframe\">\n",
       "  <thead>\n",
       "    <tr style=\"text-align: right;\">\n",
       "      <th></th>\n",
       "      <th>frame.time</th>\n",
       "      <th>count_First_Monday</th>\n",
       "      <th>count_Last_Monday</th>\n",
       "      <th>count_CumSum_Monday</th>\n",
       "      <th>count_CumSum_people_mean_Monday</th>\n",
       "      <th>count_CumSum_people_stderr_Monday</th>\n",
       "      <th>count_Last_people_mean_Monday</th>\n",
       "      <th>count_Last_people_stderr_Monday</th>\n",
       "      <th>count_First_people_mean_Monday</th>\n",
       "      <th>count_First_people_stderr_Monday</th>\n",
       "      <th>...</th>\n",
       "      <th>count_First_people_stderr_Thursday</th>\n",
       "      <th>count_First_Friday</th>\n",
       "      <th>count_Last_Friday</th>\n",
       "      <th>count_CumSum_Friday</th>\n",
       "      <th>count_CumSum_people_mean_Friday</th>\n",
       "      <th>count_CumSum_people_stderr_Friday</th>\n",
       "      <th>count_Last_people_mean_Friday</th>\n",
       "      <th>count_Last_people_stderr_Friday</th>\n",
       "      <th>count_First_people_mean_Friday</th>\n",
       "      <th>count_First_people_stderr_Friday</th>\n",
       "    </tr>\n",
       "  </thead>\n",
       "  <tbody>\n",
       "    <tr>\n",
       "      <th>0</th>\n",
       "      <td>11:12</td>\n",
       "      <td>1.0</td>\n",
       "      <td>1.0</td>\n",
       "      <td>0.0</td>\n",
       "      <td>0.000</td>\n",
       "      <td>0.000000</td>\n",
       "      <td>0.950</td>\n",
       "      <td>0.028517</td>\n",
       "      <td>0.944</td>\n",
       "      <td>0.027633</td>\n",
       "      <td>...</td>\n",
       "      <td>0.000000</td>\n",
       "      <td>1</td>\n",
       "      <td>1.0</td>\n",
       "      <td>15.0</td>\n",
       "      <td>14.249</td>\n",
       "      <td>0.107689</td>\n",
       "      <td>0.946</td>\n",
       "      <td>0.027750</td>\n",
       "      <td>0.970</td>\n",
       "      <td>0.029222</td>\n",
       "    </tr>\n",
       "    <tr>\n",
       "      <th>1</th>\n",
       "      <td>11:13</td>\n",
       "      <td>1.0</td>\n",
       "      <td>0.0</td>\n",
       "      <td>1.0</td>\n",
       "      <td>0.945</td>\n",
       "      <td>0.028765</td>\n",
       "      <td>0.000</td>\n",
       "      <td>0.000000</td>\n",
       "      <td>0.935</td>\n",
       "      <td>0.030397</td>\n",
       "      <td>...</td>\n",
       "      <td>0.028503</td>\n",
       "      <td>0</td>\n",
       "      <td>1.0</td>\n",
       "      <td>14.0</td>\n",
       "      <td>13.299</td>\n",
       "      <td>0.100146</td>\n",
       "      <td>0.961</td>\n",
       "      <td>0.027216</td>\n",
       "      <td>0.000</td>\n",
       "      <td>0.000000</td>\n",
       "    </tr>\n",
       "    <tr>\n",
       "      <th>2</th>\n",
       "      <td>11:14</td>\n",
       "      <td>3.0</td>\n",
       "      <td>1.0</td>\n",
       "      <td>3.0</td>\n",
       "      <td>2.824</td>\n",
       "      <td>0.052469</td>\n",
       "      <td>0.949</td>\n",
       "      <td>0.029204</td>\n",
       "      <td>2.846</td>\n",
       "      <td>0.049613</td>\n",
       "      <td>...</td>\n",
       "      <td>0.000000</td>\n",
       "      <td>0</td>\n",
       "      <td>0.0</td>\n",
       "      <td>14.0</td>\n",
       "      <td>13.242</td>\n",
       "      <td>0.102007</td>\n",
       "      <td>0.000</td>\n",
       "      <td>0.000000</td>\n",
       "      <td>0.000</td>\n",
       "      <td>0.000000</td>\n",
       "    </tr>\n",
       "    <tr>\n",
       "      <th>3</th>\n",
       "      <td>11:15</td>\n",
       "      <td>2.0</td>\n",
       "      <td>0.0</td>\n",
       "      <td>5.0</td>\n",
       "      <td>4.791</td>\n",
       "      <td>0.061650</td>\n",
       "      <td>0.000</td>\n",
       "      <td>0.000000</td>\n",
       "      <td>1.898</td>\n",
       "      <td>0.039508</td>\n",
       "      <td>...</td>\n",
       "      <td>0.029158</td>\n",
       "      <td>1</td>\n",
       "      <td>2.0</td>\n",
       "      <td>13.0</td>\n",
       "      <td>12.316</td>\n",
       "      <td>0.102588</td>\n",
       "      <td>1.901</td>\n",
       "      <td>0.039711</td>\n",
       "      <td>0.945</td>\n",
       "      <td>0.028393</td>\n",
       "    </tr>\n",
       "    <tr>\n",
       "      <th>4</th>\n",
       "      <td>11:16</td>\n",
       "      <td>1.0</td>\n",
       "      <td>0.0</td>\n",
       "      <td>6.0</td>\n",
       "      <td>5.686</td>\n",
       "      <td>0.071976</td>\n",
       "      <td>0.000</td>\n",
       "      <td>0.000000</td>\n",
       "      <td>0.961</td>\n",
       "      <td>0.029113</td>\n",
       "      <td>...</td>\n",
       "      <td>0.029108</td>\n",
       "      <td>4</td>\n",
       "      <td>1.0</td>\n",
       "      <td>16.0</td>\n",
       "      <td>15.191</td>\n",
       "      <td>0.110603</td>\n",
       "      <td>0.962</td>\n",
       "      <td>0.026934</td>\n",
       "      <td>3.814</td>\n",
       "      <td>0.054696</td>\n",
       "    </tr>\n",
       "    <tr>\n",
       "      <th>...</th>\n",
       "      <td>...</td>\n",
       "      <td>...</td>\n",
       "      <td>...</td>\n",
       "      <td>...</td>\n",
       "      <td>...</td>\n",
       "      <td>...</td>\n",
       "      <td>...</td>\n",
       "      <td>...</td>\n",
       "      <td>...</td>\n",
       "      <td>...</td>\n",
       "      <td>...</td>\n",
       "      <td>...</td>\n",
       "      <td>...</td>\n",
       "      <td>...</td>\n",
       "      <td>...</td>\n",
       "      <td>...</td>\n",
       "      <td>...</td>\n",
       "      <td>...</td>\n",
       "      <td>...</td>\n",
       "      <td>...</td>\n",
       "      <td>...</td>\n",
       "    </tr>\n",
       "    <tr>\n",
       "      <th>163</th>\n",
       "      <td>13:55</td>\n",
       "      <td>10.0</td>\n",
       "      <td>7.0</td>\n",
       "      <td>169.0</td>\n",
       "      <td>160.356</td>\n",
       "      <td>0.381416</td>\n",
       "      <td>6.743</td>\n",
       "      <td>0.076299</td>\n",
       "      <td>9.492</td>\n",
       "      <td>0.090208</td>\n",
       "      <td>...</td>\n",
       "      <td>0.128869</td>\n",
       "      <td>5</td>\n",
       "      <td>11.0</td>\n",
       "      <td>124.0</td>\n",
       "      <td>117.716</td>\n",
       "      <td>0.311921</td>\n",
       "      <td>10.420</td>\n",
       "      <td>0.094664</td>\n",
       "      <td>4.800</td>\n",
       "      <td>0.062244</td>\n",
       "    </tr>\n",
       "    <tr>\n",
       "      <th>164</th>\n",
       "      <td>13:56</td>\n",
       "      <td>4.0</td>\n",
       "      <td>18.0</td>\n",
       "      <td>155.0</td>\n",
       "      <td>147.183</td>\n",
       "      <td>0.356737</td>\n",
       "      <td>16.992</td>\n",
       "      <td>0.122848</td>\n",
       "      <td>3.798</td>\n",
       "      <td>0.059364</td>\n",
       "      <td>...</td>\n",
       "      <td>0.073572</td>\n",
       "      <td>8</td>\n",
       "      <td>13.0</td>\n",
       "      <td>119.0</td>\n",
       "      <td>113.135</td>\n",
       "      <td>0.295913</td>\n",
       "      <td>12.332</td>\n",
       "      <td>0.095714</td>\n",
       "      <td>7.614</td>\n",
       "      <td>0.079231</td>\n",
       "    </tr>\n",
       "    <tr>\n",
       "      <th>165</th>\n",
       "      <td>13:57</td>\n",
       "      <td>8.0</td>\n",
       "      <td>9.0</td>\n",
       "      <td>154.0</td>\n",
       "      <td>146.368</td>\n",
       "      <td>0.352174</td>\n",
       "      <td>8.540</td>\n",
       "      <td>0.088422</td>\n",
       "      <td>7.546</td>\n",
       "      <td>0.080369</td>\n",
       "      <td>...</td>\n",
       "      <td>0.071469</td>\n",
       "      <td>12</td>\n",
       "      <td>17.0</td>\n",
       "      <td>114.0</td>\n",
       "      <td>108.279</td>\n",
       "      <td>0.294462</td>\n",
       "      <td>16.162</td>\n",
       "      <td>0.113713</td>\n",
       "      <td>11.375</td>\n",
       "      <td>0.095347</td>\n",
       "    </tr>\n",
       "    <tr>\n",
       "      <th>166</th>\n",
       "      <td>13:58</td>\n",
       "      <td>7.0</td>\n",
       "      <td>19.0</td>\n",
       "      <td>142.0</td>\n",
       "      <td>134.913</td>\n",
       "      <td>0.341375</td>\n",
       "      <td>18.017</td>\n",
       "      <td>0.130047</td>\n",
       "      <td>6.649</td>\n",
       "      <td>0.080722</td>\n",
       "      <td>...</td>\n",
       "      <td>0.088987</td>\n",
       "      <td>18</td>\n",
       "      <td>20.0</td>\n",
       "      <td>112.0</td>\n",
       "      <td>106.091</td>\n",
       "      <td>0.298221</td>\n",
       "      <td>19.024</td>\n",
       "      <td>0.121324</td>\n",
       "      <td>17.068</td>\n",
       "      <td>0.113335</td>\n",
       "    </tr>\n",
       "    <tr>\n",
       "      <th>167</th>\n",
       "      <td>13:59</td>\n",
       "      <td>8.0</td>\n",
       "      <td>6.0</td>\n",
       "      <td>144.0</td>\n",
       "      <td>136.749</td>\n",
       "      <td>0.359006</td>\n",
       "      <td>5.715</td>\n",
       "      <td>0.071429</td>\n",
       "      <td>7.542</td>\n",
       "      <td>0.084834</td>\n",
       "      <td>...</td>\n",
       "      <td>0.101536</td>\n",
       "      <td>5</td>\n",
       "      <td>14.0</td>\n",
       "      <td>103.0</td>\n",
       "      <td>97.853</td>\n",
       "      <td>0.276642</td>\n",
       "      <td>13.288</td>\n",
       "      <td>0.104131</td>\n",
       "      <td>4.774</td>\n",
       "      <td>0.062785</td>\n",
       "    </tr>\n",
       "  </tbody>\n",
       "</table>\n",
       "<p>168 rows × 46 columns</p>\n",
       "</div>"
      ],
      "text/plain": [
       "    frame.time  count_First_Monday  count_Last_Monday  count_CumSum_Monday  \\\n",
       "0        11:12                 1.0                1.0                  0.0   \n",
       "1        11:13                 1.0                0.0                  1.0   \n",
       "2        11:14                 3.0                1.0                  3.0   \n",
       "3        11:15                 2.0                0.0                  5.0   \n",
       "4        11:16                 1.0                0.0                  6.0   \n",
       "..         ...                 ...                ...                  ...   \n",
       "163      13:55                10.0                7.0                169.0   \n",
       "164      13:56                 4.0               18.0                155.0   \n",
       "165      13:57                 8.0                9.0                154.0   \n",
       "166      13:58                 7.0               19.0                142.0   \n",
       "167      13:59                 8.0                6.0                144.0   \n",
       "\n",
       "     count_CumSum_people_mean_Monday  count_CumSum_people_stderr_Monday  \\\n",
       "0                              0.000                           0.000000   \n",
       "1                              0.945                           0.028765   \n",
       "2                              2.824                           0.052469   \n",
       "3                              4.791                           0.061650   \n",
       "4                              5.686                           0.071976   \n",
       "..                               ...                                ...   \n",
       "163                          160.356                           0.381416   \n",
       "164                          147.183                           0.356737   \n",
       "165                          146.368                           0.352174   \n",
       "166                          134.913                           0.341375   \n",
       "167                          136.749                           0.359006   \n",
       "\n",
       "     count_Last_people_mean_Monday  count_Last_people_stderr_Monday  \\\n",
       "0                            0.950                         0.028517   \n",
       "1                            0.000                         0.000000   \n",
       "2                            0.949                         0.029204   \n",
       "3                            0.000                         0.000000   \n",
       "4                            0.000                         0.000000   \n",
       "..                             ...                              ...   \n",
       "163                          6.743                         0.076299   \n",
       "164                         16.992                         0.122848   \n",
       "165                          8.540                         0.088422   \n",
       "166                         18.017                         0.130047   \n",
       "167                          5.715                         0.071429   \n",
       "\n",
       "     count_First_people_mean_Monday  count_First_people_stderr_Monday  ...  \\\n",
       "0                             0.944                          0.027633  ...   \n",
       "1                             0.935                          0.030397  ...   \n",
       "2                             2.846                          0.049613  ...   \n",
       "3                             1.898                          0.039508  ...   \n",
       "4                             0.961                          0.029113  ...   \n",
       "..                              ...                               ...  ...   \n",
       "163                           9.492                          0.090208  ...   \n",
       "164                           3.798                          0.059364  ...   \n",
       "165                           7.546                          0.080369  ...   \n",
       "166                           6.649                          0.080722  ...   \n",
       "167                           7.542                          0.084834  ...   \n",
       "\n",
       "     count_First_people_stderr_Thursday  count_First_Friday  \\\n",
       "0                              0.000000                   1   \n",
       "1                              0.028503                   0   \n",
       "2                              0.000000                   0   \n",
       "3                              0.029158                   1   \n",
       "4                              0.029108                   4   \n",
       "..                                  ...                 ...   \n",
       "163                            0.128869                   5   \n",
       "164                            0.073572                   8   \n",
       "165                            0.071469                  12   \n",
       "166                            0.088987                  18   \n",
       "167                            0.101536                   5   \n",
       "\n",
       "     count_Last_Friday  count_CumSum_Friday  count_CumSum_people_mean_Friday  \\\n",
       "0                  1.0                 15.0                           14.249   \n",
       "1                  1.0                 14.0                           13.299   \n",
       "2                  0.0                 14.0                           13.242   \n",
       "3                  2.0                 13.0                           12.316   \n",
       "4                  1.0                 16.0                           15.191   \n",
       "..                 ...                  ...                              ...   \n",
       "163               11.0                124.0                          117.716   \n",
       "164               13.0                119.0                          113.135   \n",
       "165               17.0                114.0                          108.279   \n",
       "166               20.0                112.0                          106.091   \n",
       "167               14.0                103.0                           97.853   \n",
       "\n",
       "     count_CumSum_people_stderr_Friday  count_Last_people_mean_Friday  \\\n",
       "0                             0.107689                          0.946   \n",
       "1                             0.100146                          0.961   \n",
       "2                             0.102007                          0.000   \n",
       "3                             0.102588                          1.901   \n",
       "4                             0.110603                          0.962   \n",
       "..                                 ...                            ...   \n",
       "163                           0.311921                         10.420   \n",
       "164                           0.295913                         12.332   \n",
       "165                           0.294462                         16.162   \n",
       "166                           0.298221                         19.024   \n",
       "167                           0.276642                         13.288   \n",
       "\n",
       "     count_Last_people_stderr_Friday  count_First_people_mean_Friday  \\\n",
       "0                           0.027750                           0.970   \n",
       "1                           0.027216                           0.000   \n",
       "2                           0.000000                           0.000   \n",
       "3                           0.039711                           0.945   \n",
       "4                           0.026934                           3.814   \n",
       "..                               ...                             ...   \n",
       "163                         0.094664                           4.800   \n",
       "164                         0.095714                           7.614   \n",
       "165                         0.113713                          11.375   \n",
       "166                         0.121324                          17.068   \n",
       "167                         0.104131                           4.774   \n",
       "\n",
       "     count_First_people_stderr_Friday  \n",
       "0                            0.029222  \n",
       "1                            0.000000  \n",
       "2                            0.000000  \n",
       "3                            0.028393  \n",
       "4                            0.054696  \n",
       "..                                ...  \n",
       "163                          0.062244  \n",
       "164                          0.079231  \n",
       "165                          0.095347  \n",
       "166                          0.113335  \n",
       "167                          0.062785  \n",
       "\n",
       "[168 rows x 46 columns]"
      ]
     },
     "execution_count": 1809,
     "metadata": {},
     "output_type": "execute_result"
    }
   ],
   "source": [
    "d5Week"
   ]
  },
  {
   "cell_type": "code",
   "execution_count": 1822,
   "metadata": {},
   "outputs": [
    {
     "data": {
      "image/png": "[encoded data removed]",
      "text/plain": [
       "<Figure size 675x148.5 with 5 Axes>"
      ]
     },
     "metadata": {},
     "output_type": "display_data"
    }
   ],
   "source": [
    "from matplotlib.ticker import MaxNLocator\n",
    "import matplotlib.dates as mdates\n",
    "plt.rcParams.update(figsizes.icml2022_full(nrows=1, ncols=5, height_to_width_ratio = 1.1))\n",
    "\n",
    "fig, axs = plt.subplots(nrows = 1, ncols = 5, sharey=True)  # Create 5 subplots in one row, sharing the same y-axis\n",
    "locsy, labels = plt.yticks()\n",
    "locsx, labels = plt.xticks()\n",
    "\n",
    "# Adjust the space between subplots\n",
    "plt.subplots_adjust(wspace=5.0)  # Adjust the space between subplots horizontally\n",
    "\n",
    "# Remove the box (spines) around the plot\n",
    "for spine in ['top', 'right', 'bottom', 'left']:\n",
    "    ax.spines[spine].set_visible(False)\n",
    "\n",
    "axs[0].plot(d5Week['frame.time'], d5Week['count_CumSum_people_mean_Monday'])\n",
    "axs[1].plot(d5Week['frame.time'], d5Week['count_CumSum_people_mean_Tuesday'])\n",
    "axs[2].plot(d5Week['frame.time'], d5Week['count_CumSum_people_mean_Wednesday'])\n",
    "axs[3].plot(d5Week['frame.time'], d5Week['count_CumSum_people_mean_Thursday'])\n",
    "axs[4].plot(d5Week['frame.time'], d5Week['count_CumSum_people_mean_Friday'])\n",
    "\n",
    "axs[0].fill_between(d5Week['frame.time'], d5Week['count_CumSum_people_mean_Monday'], alpha=0.2)\n",
    "axs[1].fill_between(d5Week['frame.time'], d5Week['count_CumSum_people_mean_Tuesday'], alpha=0.2)\n",
    "axs[2].fill_between(d5Week['frame.time'], d5Week['count_CumSum_people_mean_Wednesday'], alpha=0.2)\n",
    "axs[3].fill_between(d5Week['frame.time'], d5Week['count_CumSum_people_mean_Thursday'], alpha=0.2)\n",
    "axs[4].fill_between(d5Week['frame.time'], d5Week['count_CumSum_people_mean_Friday'], alpha=0.2)\n",
    "\n",
    "titles = ['Monday','Tuesday','Wednesday','Thursday','Friday']\n",
    "\n",
    "# FiXME time ticks \n",
    "for i, ax in enumerate(axs):\n",
    "    ax.xaxis.set_major_locator(MaxNLocator(nbins=4))\n",
    "    ax.grid(True)\n",
    "    ax.set_title(titles[i])  # Add a title to each subplot\n",
    "    \n",
    "\n",
    "plt.savefig('./plots/cumSumWeek.pdf')\n",
    "plt.show()"
   ]
  },
  {
   "cell_type": "code",
   "execution_count": 1557,
   "metadata": {
    "ExecuteTime": {
     "end_time": "2024-01-28T09:55:44.360445400Z",
     "start_time": "2024-01-28T09:55:43.529925400Z"
    }
   },
   "outputs": [
    {
     "data": {
      "image/png": "[encoded data removed]",
      "text/plain": [
       "<Figure size 325x200.861 with 1 Axes>"
      ]
     },
     "metadata": {},
     "output_type": "display_data"
    }
   ],
   "source": [
    "plt.rcParams.update(bundles.icml2022(column='half', nrows=1, ncols=1, usetex=False))\n",
    "plt.plot(d5Week['frame.time'],d5Week['count_CumSum_Monday'], label='Monday')\n",
    "plt.plot(d5Week['frame.time'],d5Week['count_CumSum_Tuesday'], label='Tuesday')\n",
    "plt.plot(d5Week['frame.time'],d5Week['count_CumSum_Wednesday'], label='Wednesday')\n",
    "plt.plot(d5Week['frame.time'],d5Week['count_CumSum_Thursday'], label='Thursday')\n",
    "plt.plot(d5Week['frame.time'],d5Week['count_CumSum_Friday'], label='Friday')\n",
    "locsy, labels = plt.yticks()\n",
    "locsx, labels = plt.xticks()\n",
    "plt.legend()\n",
    "plt.yticks(np.linspace(min(locsy), max(locsy), num=15))\n",
    "plt.xticks(locsx[::3])\n",
    "plt.grid(True)\n",
    "plt.savefig('./plots/cumSumWeek.pdf')\n",
    "plt.show()\n"
   ]
  },
  {
   "cell_type": "markdown",
   "metadata": {},
   "source": [
    "### Cumualtive Sum of all days in joyplots"
   ]
  },
  {
   "cell_type": "code",
   "execution_count": 1834,
   "metadata": {},
   "outputs": [
    {
     "data": {
      "image/png": "[encoded data removed]",
      "text/plain": [
       "<Figure size 675x417.173 with 1 Axes>"
      ]
     },
     "metadata": {},
     "output_type": "display_data"
    }
   ],
   "source": [
    "x = np.arange(0.0, len(d5Week['count_CumSum_Monday']), 1)\n",
    "\n",
    "plt.rcParams.update(bundles.icml2022(column='full', nrows=1, ncols=1, usetex=False))\n",
    "plt.plot(d5Week['frame.time'],d5Week['count_CumSum_Friday'] + 800, label='Friday', zorder=2)\n",
    "plt.plot(d5Week['frame.time'],d5Week['count_CumSum_Thursday'] + 600, label='Thursday', zorder=4)\n",
    "plt.plot(d5Week['frame.time'],d5Week['count_CumSum_Wednesday'] + 400, label='Wednesday', zorder=6)\n",
    "plt.plot(d5Week['frame.time'],d5Week['count_CumSum_Tuesday'] + 200, label='Tuesday', zorder=8)\n",
    "plt.plot(d5Week['frame.time'],d5Week['count_CumSum_Monday'], label='Monday', zorder=10)\n",
    "\n",
    "plt.fill_between(d5Week['frame.time'], d5Week['count_CumSum_Friday'] + 800, color='white', zorder=1)\n",
    "plt.fill_between(d5Week['frame.time'], d5Week['count_CumSum_Thursday']+ 600 , color='white', zorder=3)\n",
    "plt.fill_between(d5Week['frame.time'], d5Week['count_CumSum_Wednesday'] + 400, color='white', zorder=5)\n",
    "plt.fill_between(d5Week['frame.time'], d5Week['count_CumSum_Tuesday'] + 200, color='white', zorder=7)\n",
    "plt.fill_between(d5Week['frame.time'], d5Week['count_CumSum_Monday'], color='white', zorder=9)\n",
    "\n",
    "plt.gca().yaxis.set_visible(False) \n",
    "\n",
    "locsy, labels = plt.yticks()\n",
    "locsx, labels = plt.xticks()\n",
    "plt.legend()\n",
    "plt.yticks(np.linspace(min(locsy), max(locsy), num=10))\n",
    "plt.xticks(locsx[::3])\n",
    "plt.savefig('./plots/cumSumWeek.pdf')\n",
    "plt.show()"
   ]
  },
  {
   "cell_type": "code",
   "execution_count": 1559,
   "metadata": {},
   "outputs": [
    {
     "data": {
      "image/png": "[encoded data removed]",
      "text/plain": [
       "<Figure size 325x200.861 with 1 Axes>"
      ]
     },
     "metadata": {},
     "output_type": "display_data"
    }
   ],
   "source": [
    "x = np.arange(0.0, len(d5Week['count_CumSum_Monday']), 1)\n",
    "\n",
    "plt.rcParams.update(bundles.icml2022(column='half', nrows=1, ncols=1, usetex=False))\n",
    "plt.plot(d5Week['frame.time'],d5Week['count_CumSum_Monday'], label='Monday')\n",
    "plt.plot(d5Week['frame.time'],d5Week['count_CumSum_Tuesday'] , label='Tuesday')\n",
    "plt.plot(d5Week['frame.time'],d5Week['count_CumSum_Wednesday'], label='Wednesday')\n",
    "plt.plot(d5Week['frame.time'],d5Week['count_CumSum_Thursday'] , label='Thursday')\n",
    "plt.plot(d5Week['frame.time'],d5Week['count_CumSum_Friday'], label='Friday')\n",
    "\n",
    "locsy, labels = plt.yticks()\n",
    "locsx, labels = plt.xticks()\n",
    "plt.legend()\n",
    "plt.yticks(np.linspace(min(locsy), max(locsy), num=15))\n",
    "plt.xticks(locsx[::3])\n",
    "plt.grid(True)\n",
    "plt.savefig('./plots/cumSumWeek.pdf')\n",
    "plt.show()"
   ]
  },
  {
   "cell_type": "code",
   "execution_count": 1560,
   "metadata": {},
   "outputs": [
    {
     "data": {
      "text/plain": [
       "Index(['frame.time', 'count_First_Monday', 'count_Last_Monday',\n",
       "       'count_CumSum_Monday', 'count_First_Tuesday', 'count_Last_Tuesday',\n",
       "       'count_CumSum_Tuesday', 'count_First_Wednesday', 'count_Last_Wednesday',\n",
       "       'count_CumSum_Wednesday', 'count_First_Thursday', 'count_Last_Thursday',\n",
       "       'count_CumSum_Thursday', 'count_First_Friday', 'count_Last_Friday',\n",
       "       'count_CumSum_Friday'],\n",
       "      dtype='object')"
      ]
     },
     "execution_count": 1560,
     "metadata": {},
     "output_type": "execute_result"
    }
   ],
   "source": [
    "d5Week.columns"
   ]
  },
  {
   "cell_type": "code",
   "execution_count": 1416,
   "metadata": {},
   "outputs": [
    {
     "ename": "ValueError",
     "evalue": "No numeric values found. Joyplot requires at least a numeric column/group.",
     "output_type": "error",
     "traceback": [
      "\u001b[0;31m---------------------------------------------------------------------------\u001b[0m",
      "\u001b[0;31mValueError\u001b[0m                                Traceback (most recent call last)",
      "Cell \u001b[0;32mIn[1416], line 6\u001b[0m\n\u001b[1;32m      4\u001b[0m labels \u001b[38;5;241m=\u001b[39m d5CumSumWeek[\u001b[38;5;124m'\u001b[39m\u001b[38;5;124mframe.time\u001b[39m\u001b[38;5;124m'\u001b[39m]\u001b[38;5;241m.\u001b[39mastype(\u001b[38;5;28mstr\u001b[39m)\u001b[38;5;241m.\u001b[39mdrop_duplicates()\u001b[38;5;241m.\u001b[39msort_index()\n\u001b[1;32m      5\u001b[0m x_range \u001b[38;5;241m=\u001b[39m \u001b[38;5;28mlist\u001b[39m(\u001b[38;5;28mrange\u001b[39m(\u001b[38;5;28mlen\u001b[39m(labels) \u001b[38;5;241m+\u001b[39m \u001b[38;5;241m1\u001b[39m))\n\u001b[0;32m----> 6\u001b[0m fig, axes \u001b[38;5;241m=\u001b[39m joypy\u001b[38;5;241m.\u001b[39mjoyplot(d5CumSumWeek, column\u001b[38;5;241m=\u001b[39m\u001b[38;5;124m\"\u001b[39m\u001b[38;5;124mframe.time\u001b[39m\u001b[38;5;124m\"\u001b[39m, kind\u001b[38;5;241m=\u001b[39m\u001b[38;5;124m\"\u001b[39m\u001b[38;5;124mvalues\u001b[39m\u001b[38;5;124m\"\u001b[39m)\n\u001b[1;32m      8\u001b[0m plt\u001b[38;5;241m.\u001b[39mshow()\n",
      "File \u001b[0;32m/usr/local/Caskroom/miniconda/base/envs/dataLiteracy/lib/python3.11/site-packages/joypy/joyplot.py:235\u001b[0m, in \u001b[0;36mjoyplot\u001b[0;34m(data, column, by, grid, xlabelsize, xrot, ylabelsize, yrot, ax, figsize, hist, bins, fade, ylim, fill, linecolor, overlap, background, labels, xlabels, ylabels, range_style, x_range, title, colormap, color, normalize, floc, **kwds)\u001b[0m\n\u001b[1;32m    232\u001b[0m     labels \u001b[38;5;241m=\u001b[39m \u001b[38;5;28;01mNone\u001b[39;00m\n\u001b[1;32m    234\u001b[0m \u001b[38;5;28;01mif\u001b[39;00m \u001b[38;5;28mall\u001b[39m(\u001b[38;5;28mlen\u001b[39m(subg)\u001b[38;5;241m==\u001b[39m\u001b[38;5;241m0\u001b[39m \u001b[38;5;28;01mfor\u001b[39;00m g \u001b[38;5;129;01min\u001b[39;00m converted \u001b[38;5;28;01mfor\u001b[39;00m subg \u001b[38;5;129;01min\u001b[39;00m g):\n\u001b[0;32m--> 235\u001b[0m     \u001b[38;5;28;01mraise\u001b[39;00m \u001b[38;5;167;01mValueError\u001b[39;00m(\u001b[38;5;124m\"\u001b[39m\u001b[38;5;124mNo numeric values found. Joyplot requires at least a numeric column/group.\u001b[39m\u001b[38;5;124m\"\u001b[39m)\n\u001b[1;32m    237\u001b[0m \u001b[38;5;28;01mif\u001b[39;00m \u001b[38;5;28many\u001b[39m(\u001b[38;5;28mlen\u001b[39m(subg)\u001b[38;5;241m==\u001b[39m\u001b[38;5;241m0\u001b[39m \u001b[38;5;28;01mfor\u001b[39;00m g \u001b[38;5;129;01min\u001b[39;00m converted \u001b[38;5;28;01mfor\u001b[39;00m subg \u001b[38;5;129;01min\u001b[39;00m g):\n\u001b[1;32m    238\u001b[0m     warn(\u001b[38;5;124m\"\u001b[39m\u001b[38;5;124mAt least a column/group has no numeric values.\u001b[39m\u001b[38;5;124m\"\u001b[39m)\n",
      "\u001b[0;31mValueError\u001b[0m: No numeric values found. Joyplot requires at least a numeric column/group."
     ]
    }
   ],
   "source": [
    "d5CumSumWeek = d5Week[['frame.time','count_CumSum_Monday','count_CumSum_Tuesday', 'count_CumSum_Wednesday','count_CumSum_Thursday','count_CumSum_Friday']]\n",
    "# Assuming d5Week is a DataFrame with columns representing days of the week\n",
    "\n",
    "labels = d5CumSumWeek['frame.time'].astype(str).drop_duplicates().sort_index()\n",
    "x_range = list(range(len(labels) + 1))\n",
    "fig, axes = joypy.joyplot(d5CumSumWeek, column=\"frame.time\", kind=\"values\")\n",
    "\n",
    "plt.show()"
   ]
  },
  {
   "cell_type": "code",
   "execution_count": 1380,
   "metadata": {
    "ExecuteTime": {
     "end_time": "2024-01-28T09:55:56.648876Z",
     "start_time": "2024-01-28T09:55:56.133289700Z"
    }
   },
   "outputs": [
    {
     "ename": "KeyError",
     "evalue": "'time'",
     "output_type": "error",
     "traceback": [
      "\u001b[0;31m---------------------------------------------------------------------------\u001b[0m",
      "\u001b[0;31mKeyError\u001b[0m                                  Traceback (most recent call last)",
      "File \u001b[0;32m/usr/local/Caskroom/miniconda/base/envs/dataLiteracy/lib/python3.11/site-packages/pandas/core/indexes/base.py:3791\u001b[0m, in \u001b[0;36mIndex.get_loc\u001b[0;34m(self, key)\u001b[0m\n\u001b[1;32m   3790\u001b[0m \u001b[38;5;28;01mtry\u001b[39;00m:\n\u001b[0;32m-> 3791\u001b[0m     \u001b[38;5;28;01mreturn\u001b[39;00m \u001b[38;5;28mself\u001b[39m\u001b[38;5;241m.\u001b[39m_engine\u001b[38;5;241m.\u001b[39mget_loc(casted_key)\n\u001b[1;32m   3792\u001b[0m \u001b[38;5;28;01mexcept\u001b[39;00m \u001b[38;5;167;01mKeyError\u001b[39;00m \u001b[38;5;28;01mas\u001b[39;00m err:\n",
      "File \u001b[0;32mindex.pyx:152\u001b[0m, in \u001b[0;36mpandas._libs.index.IndexEngine.get_loc\u001b[0;34m()\u001b[0m\n",
      "File \u001b[0;32mindex.pyx:181\u001b[0m, in \u001b[0;36mpandas._libs.index.IndexEngine.get_loc\u001b[0;34m()\u001b[0m\n",
      "File \u001b[0;32mpandas/_libs/hashtable_class_helper.pxi:7080\u001b[0m, in \u001b[0;36mpandas._libs.hashtable.PyObjectHashTable.get_item\u001b[0;34m()\u001b[0m\n",
      "File \u001b[0;32mpandas/_libs/hashtable_class_helper.pxi:7088\u001b[0m, in \u001b[0;36mpandas._libs.hashtable.PyObjectHashTable.get_item\u001b[0;34m()\u001b[0m\n",
      "\u001b[0;31mKeyError\u001b[0m: 'time'",
      "\nThe above exception was the direct cause of the following exception:\n",
      "\u001b[0;31mKeyError\u001b[0m                                  Traceback (most recent call last)",
      "Cell \u001b[0;32mIn[1380], line 3\u001b[0m\n\u001b[1;32m      1\u001b[0m plt\u001b[38;5;241m.\u001b[39mrcParams\u001b[38;5;241m.\u001b[39mupdate(bundles\u001b[38;5;241m.\u001b[39micml2022(column\u001b[38;5;241m=\u001b[39m\u001b[38;5;124m'\u001b[39m\u001b[38;5;124mfull\u001b[39m\u001b[38;5;124m'\u001b[39m, nrows\u001b[38;5;241m=\u001b[39m\u001b[38;5;241m1\u001b[39m, ncols\u001b[38;5;241m=\u001b[39m\u001b[38;5;241m1\u001b[39m, usetex\u001b[38;5;241m=\u001b[39m\u001b[38;5;28;01mFalse\u001b[39;00m))\n\u001b[1;32m      2\u001b[0m x_range \u001b[38;5;241m=\u001b[39m \u001b[38;5;28mlist\u001b[39m(\u001b[38;5;28mrange\u001b[39m(\u001b[38;5;241m39\u001b[39m))\n\u001b[0;32m----> 3\u001b[0m labels \u001b[38;5;241m=\u001b[39m d5WeekSplit[\u001b[38;5;124m'\u001b[39m\u001b[38;5;124mtime\u001b[39m\u001b[38;5;124m'\u001b[39m]\u001b[38;5;241m.\u001b[39mastype(\u001b[38;5;28mstr\u001b[39m)\u001b[38;5;241m.\u001b[39mdrop_duplicates()\u001b[38;5;241m.\u001b[39msort_index()\n\u001b[1;32m      5\u001b[0m \u001b[38;5;66;03m# Change the x-axis labels\u001b[39;00m\n\u001b[1;32m      6\u001b[0m fig, axes \u001b[38;5;241m=\u001b[39m joypy\u001b[38;5;241m.\u001b[39mjoyplot(d5WeekSplit, column\u001b[38;5;241m=\u001b[39m\u001b[38;5;124m'\u001b[39m\u001b[38;5;124mcount\u001b[39m\u001b[38;5;124m'\u001b[39m, by\u001b[38;5;241m=\u001b[39m\u001b[38;5;124m'\u001b[39m\u001b[38;5;124mdate\u001b[39m\u001b[38;5;124m'\u001b[39m, kind\u001b[38;5;241m=\u001b[39m\u001b[38;5;124m\"\u001b[39m\u001b[38;5;124mvalues\u001b[39m\u001b[38;5;124m\"\u001b[39m, x_range \u001b[38;5;241m=\u001b[39m x_range, overlap\u001b[38;5;241m=\u001b[39m\u001b[38;5;241m1\u001b[39m, linewidth\u001b[38;5;241m=\u001b[39m\u001b[38;5;241m0.6\u001b[39m)\n",
      "File \u001b[0;32m/usr/local/Caskroom/miniconda/base/envs/dataLiteracy/lib/python3.11/site-packages/pandas/core/frame.py:3893\u001b[0m, in \u001b[0;36mDataFrame.__getitem__\u001b[0;34m(self, key)\u001b[0m\n\u001b[1;32m   3891\u001b[0m \u001b[38;5;28;01mif\u001b[39;00m \u001b[38;5;28mself\u001b[39m\u001b[38;5;241m.\u001b[39mcolumns\u001b[38;5;241m.\u001b[39mnlevels \u001b[38;5;241m>\u001b[39m \u001b[38;5;241m1\u001b[39m:\n\u001b[1;32m   3892\u001b[0m     \u001b[38;5;28;01mreturn\u001b[39;00m \u001b[38;5;28mself\u001b[39m\u001b[38;5;241m.\u001b[39m_getitem_multilevel(key)\n\u001b[0;32m-> 3893\u001b[0m indexer \u001b[38;5;241m=\u001b[39m \u001b[38;5;28mself\u001b[39m\u001b[38;5;241m.\u001b[39mcolumns\u001b[38;5;241m.\u001b[39mget_loc(key)\n\u001b[1;32m   3894\u001b[0m \u001b[38;5;28;01mif\u001b[39;00m is_integer(indexer):\n\u001b[1;32m   3895\u001b[0m     indexer \u001b[38;5;241m=\u001b[39m [indexer]\n",
      "File \u001b[0;32m/usr/local/Caskroom/miniconda/base/envs/dataLiteracy/lib/python3.11/site-packages/pandas/core/indexes/base.py:3798\u001b[0m, in \u001b[0;36mIndex.get_loc\u001b[0;34m(self, key)\u001b[0m\n\u001b[1;32m   3793\u001b[0m     \u001b[38;5;28;01mif\u001b[39;00m \u001b[38;5;28misinstance\u001b[39m(casted_key, \u001b[38;5;28mslice\u001b[39m) \u001b[38;5;129;01mor\u001b[39;00m (\n\u001b[1;32m   3794\u001b[0m         \u001b[38;5;28misinstance\u001b[39m(casted_key, abc\u001b[38;5;241m.\u001b[39mIterable)\n\u001b[1;32m   3795\u001b[0m         \u001b[38;5;129;01mand\u001b[39;00m \u001b[38;5;28many\u001b[39m(\u001b[38;5;28misinstance\u001b[39m(x, \u001b[38;5;28mslice\u001b[39m) \u001b[38;5;28;01mfor\u001b[39;00m x \u001b[38;5;129;01min\u001b[39;00m casted_key)\n\u001b[1;32m   3796\u001b[0m     ):\n\u001b[1;32m   3797\u001b[0m         \u001b[38;5;28;01mraise\u001b[39;00m InvalidIndexError(key)\n\u001b[0;32m-> 3798\u001b[0m     \u001b[38;5;28;01mraise\u001b[39;00m \u001b[38;5;167;01mKeyError\u001b[39;00m(key) \u001b[38;5;28;01mfrom\u001b[39;00m \u001b[38;5;21;01merr\u001b[39;00m\n\u001b[1;32m   3799\u001b[0m \u001b[38;5;28;01mexcept\u001b[39;00m \u001b[38;5;167;01mTypeError\u001b[39;00m:\n\u001b[1;32m   3800\u001b[0m     \u001b[38;5;66;03m# If we have a listlike key, _check_indexing_error will raise\u001b[39;00m\n\u001b[1;32m   3801\u001b[0m     \u001b[38;5;66;03m#  InvalidIndexError. Otherwise we fall through and re-raise\u001b[39;00m\n\u001b[1;32m   3802\u001b[0m     \u001b[38;5;66;03m#  the TypeError.\u001b[39;00m\n\u001b[1;32m   3803\u001b[0m     \u001b[38;5;28mself\u001b[39m\u001b[38;5;241m.\u001b[39m_check_indexing_error(key)\n",
      "\u001b[0;31mKeyError\u001b[0m: 'time'"
     ]
    }
   ],
   "source": [
    "plt.rcParams.update(bundles.icml2022(column='full', nrows=1, ncols=1, usetex=False))\n",
    "x_range = list(range(39))\n",
    "labels = d5WeekSplit['time'].astype(str).drop_duplicates().sort_index()\n",
    "\n",
    "# Change the x-axis labels\n",
    "fig, axes = joypy.joyplot(d5WeekSplit, column='count', by='date', kind=\"values\", x_range = x_range, overlap=1, linewidth=0.6)\n",
    "axes[-1].set_xticklabels(labels[::6])\n",
    "plt.savefig('./plots/cumSumWeekJoy.pdf')\n",
    "plt.show()"
   ]
  }
 ],
 "metadata": {
  "kernelspec": {
   "display_name": "dataLiteracy",
   "language": "python",
   "name": "python3"
  },
  "language_info": {
   "codemirror_mode": {
    "name": "ipython",
    "version": 3
   },
   "file_extension": ".py",
   "mimetype": "text/x-python",
   "name": "python",
   "nbconvert_exporter": "python",
   "pygments_lexer": "ipython3",
   "version": "3.11.7"
  }
 },
 "nbformat": 4,
 "nbformat_minor": 2
}
