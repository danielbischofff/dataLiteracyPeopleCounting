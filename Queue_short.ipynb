{
 "cells": [
  {
   "cell_type": "markdown",
   "id": "d425c717-56c9-492a-ab71-6f93be10897f",
   "metadata": {},
   "source": [
    "# Queue model"
   ]
  },
  {
   "cell_type": "code",
   "execution_count": 1,
   "id": "d0d2a296-3ebf-40df-9694-a9b7e3a65846",
   "metadata": {},
   "outputs": [],
   "source": [
    "import pandas as pd \n",
    "import numpy as np\n",
    "import matplotlib.pyplot as plt"
   ]
  },
  {
   "cell_type": "code",
   "execution_count": 2,
   "id": "5c39cee4-a340-4a8d-bc99-a5bf78314fe4",
   "metadata": {},
   "outputs": [],
   "source": [
    "df = pd.read_csv('Wed_light.csv', index_col=0)"
   ]
  },
  {
   "cell_type": "code",
   "execution_count": 3,
   "id": "635f6243-75be-43d1-83c8-d5823a923f25",
   "metadata": {
    "scrolled": true
   },
   "outputs": [
    {
     "data": {
      "text/html": [
       "<div>\n",
       "<style scoped>\n",
       "    .dataframe tbody tr th:only-of-type {\n",
       "        vertical-align: middle;\n",
       "    }\n",
       "\n",
       "    .dataframe tbody tr th {\n",
       "        vertical-align: top;\n",
       "    }\n",
       "\n",
       "    .dataframe thead th {\n",
       "        text-align: right;\n",
       "    }\n",
       "</style>\n",
       "<table border=\"1\" class=\"dataframe\">\n",
       "  <thead>\n",
       "    <tr style=\"text-align: right;\">\n",
       "      <th></th>\n",
       "      <th>hour:minute</th>\n",
       "      <th>wlan.sa</th>\n",
       "      <th>wlan.da</th>\n",
       "      <th>wlan.ssid</th>\n",
       "    </tr>\n",
       "  </thead>\n",
       "  <tbody>\n",
       "    <tr>\n",
       "      <th>0</th>\n",
       "      <td>11:01</td>\n",
       "      <td>00:f6:63:81:c8:6b</td>\n",
       "      <td>ff:ff:ff:ff:ff:ff</td>\n",
       "      <td>55546775657374</td>\n",
       "    </tr>\n",
       "    <tr>\n",
       "      <th>2</th>\n",
       "      <td>11:01</td>\n",
       "      <td>50:ed:3c:13:d7:4d</td>\n",
       "      <td>00:f6:63:81:c8:6f</td>\n",
       "      <td>NaN</td>\n",
       "    </tr>\n",
       "    <tr>\n",
       "      <th>4</th>\n",
       "      <td>11:01</td>\n",
       "      <td>00:f6:63:81:c8:6e</td>\n",
       "      <td>ff:ff:ff:ff:ff:ff</td>\n",
       "      <td>4775657374</td>\n",
       "    </tr>\n",
       "    <tr>\n",
       "      <th>31</th>\n",
       "      <td>11:01</td>\n",
       "      <td>50:ed:3c:13:d7:4d</td>\n",
       "      <td>00:f6:63:81:c8:6f</td>\n",
       "      <td>NaN</td>\n",
       "    </tr>\n",
       "    <tr>\n",
       "      <th>33</th>\n",
       "      <td>11:01</td>\n",
       "      <td>00:f6:63:81:c8:6f</td>\n",
       "      <td>ff:ff:ff:ff:ff:ff</td>\n",
       "      <td>656475726f616d</td>\n",
       "    </tr>\n",
       "  </tbody>\n",
       "</table>\n",
       "</div>"
      ],
      "text/plain": [
       "   hour:minute            wlan.sa            wlan.da       wlan.ssid\n",
       "0        11:01  00:f6:63:81:c8:6b  ff:ff:ff:ff:ff:ff  55546775657374\n",
       "2        11:01  50:ed:3c:13:d7:4d  00:f6:63:81:c8:6f             NaN\n",
       "4        11:01  00:f6:63:81:c8:6e  ff:ff:ff:ff:ff:ff      4775657374\n",
       "31       11:01  50:ed:3c:13:d7:4d  00:f6:63:81:c8:6f             NaN\n",
       "33       11:01  00:f6:63:81:c8:6f  ff:ff:ff:ff:ff:ff  656475726f616d"
      ]
     },
     "execution_count": 3,
     "metadata": {},
     "output_type": "execute_result"
    }
   ],
   "source": [
    "df.head()"
   ]
  },
  {
   "cell_type": "code",
   "execution_count": 4,
   "id": "a9a3c477-f37a-4c31-acc4-a868597114c4",
   "metadata": {},
   "outputs": [],
   "source": [
    "# filter by ssid\n",
    "df = df[df[\"wlan.ssid\"] == \"656475726f616d\"] #eduroam"
   ]
  },
  {
   "cell_type": "code",
   "execution_count": 5,
   "id": "8b7e5293-9189-4e64-88d8-7c906d81ffd4",
   "metadata": {},
   "outputs": [
    {
     "name": "stdout",
     "output_type": "stream",
     "text": [
      "1662\n",
      "1662\n"
     ]
    }
   ],
   "source": [
    "df_first = df.drop_duplicates(subset='wlan.sa', keep='first')\n",
    "df_last = df.drop_duplicates(subset='wlan.sa', keep='last')\n",
    "print(df_first[\"wlan.sa\"].nunique())\n",
    "print(df_last[\"wlan.sa\"].nunique())"
   ]
  },
  {
   "cell_type": "code",
   "execution_count": 6,
   "id": "955dcb93-d130-4af8-88f7-66c2a3c21f2f",
   "metadata": {},
   "outputs": [],
   "source": [
    "per_min_last=pd.DataFrame(df_last[\"hour:minute\"].value_counts().sort_index())\n",
    "per_min_new=pd.DataFrame(df_first[\"hour:minute\"].value_counts().sort_index())\n",
    "\n",
    "_5min_new = pd.DataFrame({'hour:minute':per_min_new.index.tolist(),'count': per_min_new[\"count\"]})\n",
    "_5min_new['hour:minute'] = pd.to_datetime(_5min_new['hour:minute'], format='%H:%M')\n",
    "_5min_new['hour:minute'].dt.strftime('%H:%M')\n",
    "_5min_new.set_index('hour:minute',inplace=True)\n",
    "count_first_1min = _5min_new #.reset_index(drop=True, inplace=True)\n",
    "#_5min_new_ = _5min_new.resample('5T').sum()\n",
    "#print(count_first_1min)\n",
    "_5min_last = pd.DataFrame({'hour:minute':per_min_last.index.tolist(),'count': per_min_last[\"count\"]})\n",
    "_5min_last['hour:minute'] = pd.to_datetime(_5min_last['hour:minute'], format=\"%H:%M\")\n",
    "_5min_last.set_index('hour:minute', inplace=True)\n",
    "#last_per5min_ = _5min_last.resample('5T').sum()\n",
    "#print(_5min_last.reset_index(drop=True, inplace=True))\n",
    "count_last_1min = _5min_last\n"
   ]
  },
  {
   "cell_type": "code",
   "execution_count": 7,
   "id": "cc40235b-57e5-4f15-a373-928208e8f17b",
   "metadata": {
    "scrolled": true
   },
   "outputs": [],
   "source": [
    "df_minute = df.groupby('hour:minute')['wlan.sa'].nunique()\n"
   ]
  },
  {
   "cell_type": "code",
   "execution_count": 8,
   "id": "73c7c2b6-96b4-49ae-9af4-95c7475ec4d5",
   "metadata": {},
   "outputs": [
    {
     "data": {
      "text/plain": [
       "hour:minute\n",
       "11:01    8\n",
       "11:02    5\n",
       "11:03    5\n",
       "11:04    4\n",
       "11:05    3\n",
       "Name: wlan.sa, dtype: int64"
      ]
     },
     "execution_count": 8,
     "metadata": {},
     "output_type": "execute_result"
    }
   ],
   "source": [
    "\n",
    "df_minute.head()"
   ]
  },
  {
   "cell_type": "code",
   "execution_count": 21,
   "id": "05f77548-c5ee-4dbb-8028-81a0bcba508d",
   "metadata": {},
   "outputs": [],
   "source": [
    "s1 = count_first_1min[10:].stack()\n",
    "s2 = df_minute[15:-1]"
   ]
  },
  {
   "cell_type": "code",
   "execution_count": 22,
   "id": "58122a19-7e79-4d8c-94e3-6a67f05338ba",
   "metadata": {},
   "outputs": [],
   "source": [
    "df_20 = pd.DataFrame({'enter_count':s1})\n",
    "#df_20['enter_count'] = s2"
   ]
  },
  {
   "cell_type": "code",
   "execution_count": 24,
   "id": "d7145fa2-7835-4938-ad6e-f687b1024c54",
   "metadata": {},
   "outputs": [],
   "source": [
    "df_20['total_count'] = s2.to_numpy()"
   ]
  },
  {
   "cell_type": "code",
   "execution_count": 25,
   "id": "ab6b8ccb-38ce-4867-b7f5-5b290173aaf7",
   "metadata": {
    "scrolled": true
   },
   "outputs": [
    {
     "data": {
      "text/html": [
       "<div>\n",
       "<style scoped>\n",
       "    .dataframe tbody tr th:only-of-type {\n",
       "        vertical-align: middle;\n",
       "    }\n",
       "\n",
       "    .dataframe tbody tr th {\n",
       "        vertical-align: top;\n",
       "    }\n",
       "\n",
       "    .dataframe thead th {\n",
       "        text-align: right;\n",
       "    }\n",
       "</style>\n",
       "<table border=\"1\" class=\"dataframe\">\n",
       "  <thead>\n",
       "    <tr style=\"text-align: right;\">\n",
       "      <th></th>\n",
       "      <th></th>\n",
       "      <th>enter_count</th>\n",
       "      <th>total_count</th>\n",
       "    </tr>\n",
       "    <tr>\n",
       "      <th>hour:minute</th>\n",
       "      <th></th>\n",
       "      <th></th>\n",
       "      <th></th>\n",
       "    </tr>\n",
       "  </thead>\n",
       "  <tbody>\n",
       "    <tr>\n",
       "      <th>1900-01-01 11:16:00</th>\n",
       "      <th>count</th>\n",
       "      <td>4</td>\n",
       "      <td>8</td>\n",
       "    </tr>\n",
       "    <tr>\n",
       "      <th>1900-01-01 11:17:00</th>\n",
       "      <th>count</th>\n",
       "      <td>3</td>\n",
       "      <td>9</td>\n",
       "    </tr>\n",
       "    <tr>\n",
       "      <th>1900-01-01 11:18:00</th>\n",
       "      <th>count</th>\n",
       "      <td>1</td>\n",
       "      <td>9</td>\n",
       "    </tr>\n",
       "    <tr>\n",
       "      <th>1900-01-01 11:19:00</th>\n",
       "      <th>count</th>\n",
       "      <td>6</td>\n",
       "      <td>14</td>\n",
       "    </tr>\n",
       "    <tr>\n",
       "      <th>1900-01-01 11:20:00</th>\n",
       "      <th>count</th>\n",
       "      <td>3</td>\n",
       "      <td>8</td>\n",
       "    </tr>\n",
       "  </tbody>\n",
       "</table>\n",
       "</div>"
      ],
      "text/plain": [
       "                           enter_count  total_count\n",
       "hour:minute                                        \n",
       "1900-01-01 11:16:00 count            4            8\n",
       "1900-01-01 11:17:00 count            3            9\n",
       "1900-01-01 11:18:00 count            1            9\n",
       "1900-01-01 11:19:00 count            6           14\n",
       "1900-01-01 11:20:00 count            3            8"
      ]
     },
     "execution_count": 25,
     "metadata": {},
     "output_type": "execute_result"
    }
   ],
   "source": [
    "df_20.head()"
   ]
  },
  {
   "cell_type": "code",
   "execution_count": 26,
   "id": "b521f939-a163-4edb-8fb3-1ca66481113b",
   "metadata": {},
   "outputs": [
    {
     "data": {
      "text/plain": [
       "1637"
      ]
     },
     "execution_count": 26,
     "metadata": {},
     "output_type": "execute_result"
    }
   ],
   "source": [
    "df_20['enter_count'].sum()"
   ]
  },
  {
   "cell_type": "code",
   "execution_count": 27,
   "id": "bd72d0c1-49d3-4ba5-9bd5-ac0055aeac1c",
   "metadata": {},
   "outputs": [],
   "source": [
    "# Constants\n",
    "nr_counters = 3\n",
    "serving_speed = 5  # people per minute\n",
    "\n",
    "# Initialize queue_count column\n",
    "df_20['queue_count'] = 0"
   ]
  },
  {
   "cell_type": "code",
   "execution_count": 28,
   "id": "9c790eb8-9604-4649-b19d-e094f850c2b5",
   "metadata": {},
   "outputs": [
    {
     "data": {
      "text/plain": [
       "[<matplotlib.lines.Line2D at 0x229d521d0f0>]"
      ]
     },
     "execution_count": 28,
     "metadata": {},
     "output_type": "execute_result"
    },
    {
     "data": {
      "image/png": "[encoded data removed]",
      "text/plain": [
       "<Figure size 640x480 with 1 Axes>"
      ]
     },
     "metadata": {},
     "output_type": "display_data"
    }
   ],
   "source": [
    "# Calculate queue count for each minute\n",
    "for i in range(len(df_20)):\n",
    "    #print(i)\n",
    "    if i == 0: #timepoint 0\n",
    "        df_20['queue_count'].iloc[i] = max(0, 0 + df_20['enter_count'].iloc[i] - nr_counters * serving_speed)\n",
    "    else:\n",
    "        df_20['queue_count'].iloc[i] = max(0, df_20['queue_count'].iloc[i-1] + df_20['enter_count'].iloc[i] - nr_counters * serving_speed)\n",
    "\n",
    "    \n",
    "#print(df_20)\n",
    "plt.plot(df_20['queue_count'].to_numpy())\n",
    "plt.plot(df_20['total_count'].to_numpy())\n",
    "# important: data starts at 11:15 (bcs at the start we have some minutes with no new entries\n"
   ]
  },
  {
   "cell_type": "code",
   "execution_count": null,
   "id": "c3ff3e7d-07f1-4b8d-9c80-9168db2b0d8a",
   "metadata": {},
   "outputs": [],
   "source": []
  },
  {
   "cell_type": "code",
   "execution_count": null,
   "id": "7aab9f62-019a-4923-a820-de767e47894f",
   "metadata": {},
   "outputs": [],
   "source": []
  }
 ],
 "metadata": {
  "kernelspec": {
   "display_name": "Python 3 (ipykernel)",
   "language": "python",
   "name": "python3"
  },
  "language_info": {
   "codemirror_mode": {
    "name": "ipython",
    "version": 3
   },
   "file_extension": ".py",
   "mimetype": "text/x-python",
   "name": "python",
   "nbconvert_exporter": "python",
   "pygments_lexer": "ipython3",
   "version": "3.10.13"
  }
 },
 "nbformat": 4,
 "nbformat_minor": 5
}
